{
 "cells": [
  {
   "cell_type": "code",
   "execution_count": 141,
   "metadata": {},
   "outputs": [],
   "source": [
    "import pandas as pd\n",
    "import numpy as np\n",
    "import re\n",
    "import matplotlib.pyplot as plt\n",
    "import seaborn as sns"
   ]
  },
  {
   "cell_type": "code",
   "execution_count": 142,
   "metadata": {},
   "outputs": [
    {
     "data": {
      "text/html": [
       "<div>\n",
       "<style scoped>\n",
       "    .dataframe tbody tr th:only-of-type {\n",
       "        vertical-align: middle;\n",
       "    }\n",
       "\n",
       "    .dataframe tbody tr th {\n",
       "        vertical-align: top;\n",
       "    }\n",
       "\n",
       "    .dataframe thead th {\n",
       "        text-align: right;\n",
       "    }\n",
       "</style>\n",
       "<table border=\"1\" class=\"dataframe\">\n",
       "  <thead>\n",
       "    <tr style=\"text-align: right;\">\n",
       "      <th></th>\n",
       "      <th>ID</th>\n",
       "      <th>Customer_ID</th>\n",
       "      <th>Month</th>\n",
       "      <th>Name</th>\n",
       "      <th>Age</th>\n",
       "      <th>SSN</th>\n",
       "      <th>Occupation</th>\n",
       "      <th>Annual_Income</th>\n",
       "      <th>Monthly_Inhand_Salary</th>\n",
       "      <th>Num_Bank_Accounts</th>\n",
       "      <th>Num_Credit_Card</th>\n",
       "      <th>Interest_Rate</th>\n",
       "      <th>Num_of_Loan</th>\n",
       "      <th>Type_of_Loan</th>\n",
       "      <th>Delay_from_due_date</th>\n",
       "      <th>Num_of_Delayed_Payment</th>\n",
       "      <th>Changed_Credit_Limit</th>\n",
       "      <th>Num_Credit_Inquiries</th>\n",
       "      <th>Credit_Mix</th>\n",
       "      <th>Outstanding_Debt</th>\n",
       "      <th>Credit_Utilization_Ratio</th>\n",
       "      <th>Credit_History_Age</th>\n",
       "      <th>Payment_of_Min_Amount</th>\n",
       "      <th>Total_EMI_per_month</th>\n",
       "      <th>Amount_invested_monthly</th>\n",
       "      <th>Payment_Behaviour</th>\n",
       "      <th>Monthly_Balance</th>\n",
       "      <th>Credit_Score</th>\n",
       "    </tr>\n",
       "  </thead>\n",
       "  <tbody>\n",
       "    <tr>\n",
       "      <th>0</th>\n",
       "      <td>0x1602</td>\n",
       "      <td>CUS_0xd40</td>\n",
       "      <td>January</td>\n",
       "      <td>Aaron Maashoh</td>\n",
       "      <td>23</td>\n",
       "      <td>821-00-0265</td>\n",
       "      <td>Scientist</td>\n",
       "      <td>19114.12</td>\n",
       "      <td>1824.843333</td>\n",
       "      <td>3</td>\n",
       "      <td>4</td>\n",
       "      <td>3</td>\n",
       "      <td>4</td>\n",
       "      <td>Auto Loan, Credit-Builder Loan, Personal Loan,...</td>\n",
       "      <td>3</td>\n",
       "      <td>7</td>\n",
       "      <td>11.27</td>\n",
       "      <td>4.0</td>\n",
       "      <td>_</td>\n",
       "      <td>809.98</td>\n",
       "      <td>26.822620</td>\n",
       "      <td>22 Years and 1 Months</td>\n",
       "      <td>No</td>\n",
       "      <td>49.574949</td>\n",
       "      <td>80.41529543900253</td>\n",
       "      <td>High_spent_Small_value_payments</td>\n",
       "      <td>312.49408867943663</td>\n",
       "      <td>Good</td>\n",
       "    </tr>\n",
       "    <tr>\n",
       "      <th>1</th>\n",
       "      <td>0x1603</td>\n",
       "      <td>CUS_0xd40</td>\n",
       "      <td>February</td>\n",
       "      <td>Aaron Maashoh</td>\n",
       "      <td>23</td>\n",
       "      <td>821-00-0265</td>\n",
       "      <td>Scientist</td>\n",
       "      <td>19114.12</td>\n",
       "      <td>NaN</td>\n",
       "      <td>3</td>\n",
       "      <td>4</td>\n",
       "      <td>3</td>\n",
       "      <td>4</td>\n",
       "      <td>Auto Loan, Credit-Builder Loan, Personal Loan,...</td>\n",
       "      <td>-1</td>\n",
       "      <td>NaN</td>\n",
       "      <td>11.27</td>\n",
       "      <td>4.0</td>\n",
       "      <td>Good</td>\n",
       "      <td>809.98</td>\n",
       "      <td>31.944960</td>\n",
       "      <td>NaN</td>\n",
       "      <td>No</td>\n",
       "      <td>49.574949</td>\n",
       "      <td>118.28022162236736</td>\n",
       "      <td>Low_spent_Large_value_payments</td>\n",
       "      <td>284.62916249607184</td>\n",
       "      <td>Good</td>\n",
       "    </tr>\n",
       "    <tr>\n",
       "      <th>2</th>\n",
       "      <td>0x1604</td>\n",
       "      <td>CUS_0xd40</td>\n",
       "      <td>March</td>\n",
       "      <td>Aaron Maashoh</td>\n",
       "      <td>-500</td>\n",
       "      <td>821-00-0265</td>\n",
       "      <td>Scientist</td>\n",
       "      <td>19114.12</td>\n",
       "      <td>NaN</td>\n",
       "      <td>3</td>\n",
       "      <td>4</td>\n",
       "      <td>3</td>\n",
       "      <td>4</td>\n",
       "      <td>Auto Loan, Credit-Builder Loan, Personal Loan,...</td>\n",
       "      <td>3</td>\n",
       "      <td>7</td>\n",
       "      <td>_</td>\n",
       "      <td>4.0</td>\n",
       "      <td>Good</td>\n",
       "      <td>809.98</td>\n",
       "      <td>28.609352</td>\n",
       "      <td>22 Years and 3 Months</td>\n",
       "      <td>No</td>\n",
       "      <td>49.574949</td>\n",
       "      <td>81.699521264648</td>\n",
       "      <td>Low_spent_Medium_value_payments</td>\n",
       "      <td>331.2098628537912</td>\n",
       "      <td>Good</td>\n",
       "    </tr>\n",
       "    <tr>\n",
       "      <th>3</th>\n",
       "      <td>0x1605</td>\n",
       "      <td>CUS_0xd40</td>\n",
       "      <td>April</td>\n",
       "      <td>Aaron Maashoh</td>\n",
       "      <td>23</td>\n",
       "      <td>821-00-0265</td>\n",
       "      <td>Scientist</td>\n",
       "      <td>19114.12</td>\n",
       "      <td>NaN</td>\n",
       "      <td>3</td>\n",
       "      <td>4</td>\n",
       "      <td>3</td>\n",
       "      <td>4</td>\n",
       "      <td>Auto Loan, Credit-Builder Loan, Personal Loan,...</td>\n",
       "      <td>5</td>\n",
       "      <td>4</td>\n",
       "      <td>6.27</td>\n",
       "      <td>4.0</td>\n",
       "      <td>Good</td>\n",
       "      <td>809.98</td>\n",
       "      <td>31.377862</td>\n",
       "      <td>22 Years and 4 Months</td>\n",
       "      <td>No</td>\n",
       "      <td>49.574949</td>\n",
       "      <td>199.4580743910713</td>\n",
       "      <td>Low_spent_Small_value_payments</td>\n",
       "      <td>223.45130972736786</td>\n",
       "      <td>Good</td>\n",
       "    </tr>\n",
       "    <tr>\n",
       "      <th>4</th>\n",
       "      <td>0x1606</td>\n",
       "      <td>CUS_0xd40</td>\n",
       "      <td>May</td>\n",
       "      <td>Aaron Maashoh</td>\n",
       "      <td>23</td>\n",
       "      <td>821-00-0265</td>\n",
       "      <td>Scientist</td>\n",
       "      <td>19114.12</td>\n",
       "      <td>1824.843333</td>\n",
       "      <td>3</td>\n",
       "      <td>4</td>\n",
       "      <td>3</td>\n",
       "      <td>4</td>\n",
       "      <td>Auto Loan, Credit-Builder Loan, Personal Loan,...</td>\n",
       "      <td>6</td>\n",
       "      <td>NaN</td>\n",
       "      <td>11.27</td>\n",
       "      <td>4.0</td>\n",
       "      <td>Good</td>\n",
       "      <td>809.98</td>\n",
       "      <td>24.797347</td>\n",
       "      <td>22 Years and 5 Months</td>\n",
       "      <td>No</td>\n",
       "      <td>49.574949</td>\n",
       "      <td>41.420153086217326</td>\n",
       "      <td>High_spent_Medium_value_payments</td>\n",
       "      <td>341.48923103222177</td>\n",
       "      <td>Good</td>\n",
       "    </tr>\n",
       "  </tbody>\n",
       "</table>\n",
       "</div>"
      ],
      "text/plain": [
       "       ID Customer_ID     Month           Name   Age          SSN Occupation Annual_Income  Monthly_Inhand_Salary  Num_Bank_Accounts  Num_Credit_Card  Interest_Rate Num_of_Loan                                       Type_of_Loan  Delay_from_due_date Num_of_Delayed_Payment Changed_Credit_Limit  Num_Credit_Inquiries Credit_Mix Outstanding_Debt  Credit_Utilization_Ratio     Credit_History_Age Payment_of_Min_Amount  Total_EMI_per_month Amount_invested_monthly                 Payment_Behaviour     Monthly_Balance Credit_Score\n",
       "0  0x1602   CUS_0xd40   January  Aaron Maashoh    23  821-00-0265  Scientist      19114.12            1824.843333                  3                4              3           4  Auto Loan, Credit-Builder Loan, Personal Loan,...                    3                      7                11.27                   4.0          _           809.98                 26.822620  22 Years and 1 Months                    No            49.574949       80.41529543900253   High_spent_Small_value_payments  312.49408867943663         Good\n",
       "1  0x1603   CUS_0xd40  February  Aaron Maashoh    23  821-00-0265  Scientist      19114.12                    NaN                  3                4              3           4  Auto Loan, Credit-Builder Loan, Personal Loan,...                   -1                    NaN                11.27                   4.0       Good           809.98                 31.944960                    NaN                    No            49.574949      118.28022162236736    Low_spent_Large_value_payments  284.62916249607184         Good\n",
       "2  0x1604   CUS_0xd40     March  Aaron Maashoh  -500  821-00-0265  Scientist      19114.12                    NaN                  3                4              3           4  Auto Loan, Credit-Builder Loan, Personal Loan,...                    3                      7                    _                   4.0       Good           809.98                 28.609352  22 Years and 3 Months                    No            49.574949         81.699521264648   Low_spent_Medium_value_payments   331.2098628537912         Good\n",
       "3  0x1605   CUS_0xd40     April  Aaron Maashoh    23  821-00-0265  Scientist      19114.12                    NaN                  3                4              3           4  Auto Loan, Credit-Builder Loan, Personal Loan,...                    5                      4                 6.27                   4.0       Good           809.98                 31.377862  22 Years and 4 Months                    No            49.574949       199.4580743910713    Low_spent_Small_value_payments  223.45130972736786         Good\n",
       "4  0x1606   CUS_0xd40       May  Aaron Maashoh    23  821-00-0265  Scientist      19114.12            1824.843333                  3                4              3           4  Auto Loan, Credit-Builder Loan, Personal Loan,...                    6                    NaN                11.27                   4.0       Good           809.98                 24.797347  22 Years and 5 Months                    No            49.574949      41.420153086217326  High_spent_Medium_value_payments  341.48923103222177         Good"
      ]
     },
     "execution_count": 142,
     "metadata": {},
     "output_type": "execute_result"
    }
   ],
   "source": [
    "df = pd.read_csv('/workspaces/projects/Credit_Classification_End_to_End/credit-score.csv',low_memory=False)\n",
    "df.head()"
   ]
  },
  {
   "cell_type": "markdown",
   "metadata": {},
   "source": [
    "## Missing Values"
   ]
  },
  {
   "cell_type": "code",
   "execution_count": 143,
   "metadata": {},
   "outputs": [
    {
     "data": {
      "text/plain": [
       "Name                        9985\n",
       "Monthly_Inhand_Salary      15002\n",
       "Type_of_Loan               11408\n",
       "Num_of_Delayed_Payment      7002\n",
       "Num_Credit_Inquiries        1965\n",
       "Credit_History_Age          9030\n",
       "Amount_invested_monthly     4479\n",
       "Monthly_Balance             1200\n",
       "dtype: int64"
      ]
     },
     "execution_count": 143,
     "metadata": {},
     "output_type": "execute_result"
    }
   ],
   "source": [
    "df.isna().sum()[df.isna().sum() > 0]"
   ]
  },
  {
   "cell_type": "markdown",
   "metadata": {},
   "source": [
    "Name and SSN aren't important for the dataset, because we already have the `Customer_ID`, so we'll drop them."
   ]
  },
  {
   "cell_type": "code",
   "execution_count": 144,
   "metadata": {},
   "outputs": [],
   "source": [
    "df.drop(columns=['Name', 'SSN'], inplace=True)"
   ]
  },
  {
   "cell_type": "code",
   "execution_count": 145,
   "metadata": {},
   "outputs": [
    {
     "name": "stdout",
     "output_type": "stream",
     "text": [
      "<class 'pandas.core.frame.DataFrame'>\n",
      "RangeIndex: 100000 entries, 0 to 99999\n",
      "Data columns (total 13 columns):\n",
      " #   Column                 Non-Null Count   Dtype  \n",
      "---  ------                 --------------   -----  \n",
      " 0   ID                     100000 non-null  object \n",
      " 1   Customer_ID            100000 non-null  object \n",
      " 2   Month                  100000 non-null  object \n",
      " 3   Age                    100000 non-null  object \n",
      " 4   Occupation             100000 non-null  object \n",
      " 5   Annual_Income          100000 non-null  object \n",
      " 6   Monthly_Inhand_Salary  84998 non-null   float64\n",
      " 7   Num_Bank_Accounts      100000 non-null  int64  \n",
      " 8   Num_Credit_Card        100000 non-null  int64  \n",
      " 9   Interest_Rate          100000 non-null  int64  \n",
      " 10  Num_of_Loan            100000 non-null  object \n",
      " 11  Type_of_Loan           88592 non-null   object \n",
      " 12  Delay_from_due_date    100000 non-null  int64  \n",
      "dtypes: float64(1), int64(4), object(8)\n",
      "memory usage: 9.9+ MB\n"
     ]
    }
   ],
   "source": [
    "columns= df.columns.to_list()\n",
    "df[columns[:13]].info()"
   ]
  },
  {
   "cell_type": "code",
   "execution_count": 146,
   "metadata": {},
   "outputs": [
    {
     "name": "stdout",
     "output_type": "stream",
     "text": [
      "<class 'pandas.core.frame.DataFrame'>\n",
      "RangeIndex: 100000 entries, 0 to 99999\n",
      "Data columns (total 13 columns):\n",
      " #   Column                    Non-Null Count   Dtype  \n",
      "---  ------                    --------------   -----  \n",
      " 0   Num_of_Delayed_Payment    92998 non-null   object \n",
      " 1   Changed_Credit_Limit      100000 non-null  object \n",
      " 2   Num_Credit_Inquiries      98035 non-null   float64\n",
      " 3   Credit_Mix                100000 non-null  object \n",
      " 4   Outstanding_Debt          100000 non-null  object \n",
      " 5   Credit_Utilization_Ratio  100000 non-null  float64\n",
      " 6   Credit_History_Age        90970 non-null   object \n",
      " 7   Payment_of_Min_Amount     100000 non-null  object \n",
      " 8   Total_EMI_per_month       100000 non-null  float64\n",
      " 9   Amount_invested_monthly   95521 non-null   object \n",
      " 10  Payment_Behaviour         100000 non-null  object \n",
      " 11  Monthly_Balance           98800 non-null   object \n",
      " 12  Credit_Score              100000 non-null  object \n",
      "dtypes: float64(3), object(10)\n",
      "memory usage: 9.9+ MB\n"
     ]
    }
   ],
   "source": [
    "df[columns[13:]].info()"
   ]
  },
  {
   "cell_type": "code",
   "execution_count": 147,
   "metadata": {},
   "outputs": [
    {
     "name": "stdout",
     "output_type": "stream",
     "text": [
      "['ID', 'Customer_ID', 'Month', 'Age', 'Occupation', 'Annual_Income', 'Monthly_Inhand_Salary', 'Num_Bank_Accounts', 'Num_Credit_Card', 'Interest_Rate', 'Num_of_Loan', 'Type_of_Loan', 'Delay_from_due_date', 'Num_of_Delayed_Payment', 'Changed_Credit_Limit', 'Num_Credit_Inquiries', 'Credit_Mix', 'Outstanding_Debt', 'Credit_Utilization_Ratio', 'Credit_History_Age', 'Payment_of_Min_Amount', 'Total_EMI_per_month', 'Amount_invested_monthly', 'Payment_Behaviour', 'Monthly_Balance', 'Credit_Score']\n"
     ]
    }
   ],
   "source": [
    "print(columns)"
   ]
  },
  {
   "cell_type": "code",
   "execution_count": 148,
   "metadata": {},
   "outputs": [
    {
     "data": {
      "text/html": [
       "<div>\n",
       "<style scoped>\n",
       "    .dataframe tbody tr th:only-of-type {\n",
       "        vertical-align: middle;\n",
       "    }\n",
       "\n",
       "    .dataframe tbody tr th {\n",
       "        vertical-align: top;\n",
       "    }\n",
       "\n",
       "    .dataframe thead th {\n",
       "        text-align: right;\n",
       "    }\n",
       "</style>\n",
       "<table border=\"1\" class=\"dataframe\">\n",
       "  <thead>\n",
       "    <tr style=\"text-align: right;\">\n",
       "      <th></th>\n",
       "      <th>0</th>\n",
       "      <th>1</th>\n",
       "      <th>2</th>\n",
       "      <th>3</th>\n",
       "      <th>4</th>\n",
       "    </tr>\n",
       "  </thead>\n",
       "  <tbody>\n",
       "    <tr>\n",
       "      <th>Age</th>\n",
       "      <td>23</td>\n",
       "      <td>23</td>\n",
       "      <td>-500</td>\n",
       "      <td>23</td>\n",
       "      <td>23</td>\n",
       "    </tr>\n",
       "    <tr>\n",
       "      <th>Annual_Income</th>\n",
       "      <td>19114.12</td>\n",
       "      <td>19114.12</td>\n",
       "      <td>19114.12</td>\n",
       "      <td>19114.12</td>\n",
       "      <td>19114.12</td>\n",
       "    </tr>\n",
       "    <tr>\n",
       "      <th>Num_Bank_Accounts</th>\n",
       "      <td>3</td>\n",
       "      <td>3</td>\n",
       "      <td>3</td>\n",
       "      <td>3</td>\n",
       "      <td>3</td>\n",
       "    </tr>\n",
       "    <tr>\n",
       "      <th>Num_Credit_Card</th>\n",
       "      <td>4</td>\n",
       "      <td>4</td>\n",
       "      <td>4</td>\n",
       "      <td>4</td>\n",
       "      <td>4</td>\n",
       "    </tr>\n",
       "    <tr>\n",
       "      <th>Num_of_Delayed_Payment</th>\n",
       "      <td>7</td>\n",
       "      <td>NaN</td>\n",
       "      <td>7</td>\n",
       "      <td>4</td>\n",
       "      <td>NaN</td>\n",
       "    </tr>\n",
       "    <tr>\n",
       "      <th>Credit_Utilization_Ratio</th>\n",
       "      <td>26.82262</td>\n",
       "      <td>31.94496</td>\n",
       "      <td>28.609352</td>\n",
       "      <td>31.377862</td>\n",
       "      <td>24.797347</td>\n",
       "    </tr>\n",
       "    <tr>\n",
       "      <th>Payment_of_Min_Amount</th>\n",
       "      <td>No</td>\n",
       "      <td>No</td>\n",
       "      <td>No</td>\n",
       "      <td>No</td>\n",
       "      <td>No</td>\n",
       "    </tr>\n",
       "    <tr>\n",
       "      <th>Total_EMI_per_month</th>\n",
       "      <td>49.574949</td>\n",
       "      <td>49.574949</td>\n",
       "      <td>49.574949</td>\n",
       "      <td>49.574949</td>\n",
       "      <td>49.574949</td>\n",
       "    </tr>\n",
       "    <tr>\n",
       "      <th>Credit_Score</th>\n",
       "      <td>Good</td>\n",
       "      <td>Good</td>\n",
       "      <td>Good</td>\n",
       "      <td>Good</td>\n",
       "      <td>Good</td>\n",
       "    </tr>\n",
       "    <tr>\n",
       "      <th>Credit_History_Age</th>\n",
       "      <td>22 Years and 1 Months</td>\n",
       "      <td>NaN</td>\n",
       "      <td>22 Years and 3 Months</td>\n",
       "      <td>22 Years and 4 Months</td>\n",
       "      <td>22 Years and 5 Months</td>\n",
       "    </tr>\n",
       "    <tr>\n",
       "      <th>Type_of_Loan</th>\n",
       "      <td>Auto Loan, Credit-Builder Loan, Personal Loan,...</td>\n",
       "      <td>Auto Loan, Credit-Builder Loan, Personal Loan,...</td>\n",
       "      <td>Auto Loan, Credit-Builder Loan, Personal Loan,...</td>\n",
       "      <td>Auto Loan, Credit-Builder Loan, Personal Loan,...</td>\n",
       "      <td>Auto Loan, Credit-Builder Loan, Personal Loan,...</td>\n",
       "    </tr>\n",
       "    <tr>\n",
       "      <th>Delay_from_due_date</th>\n",
       "      <td>3</td>\n",
       "      <td>-1</td>\n",
       "      <td>3</td>\n",
       "      <td>5</td>\n",
       "      <td>6</td>\n",
       "    </tr>\n",
       "    <tr>\n",
       "      <th>Customer_ID</th>\n",
       "      <td>CUS_0xd40</td>\n",
       "      <td>CUS_0xd40</td>\n",
       "      <td>CUS_0xd40</td>\n",
       "      <td>CUS_0xd40</td>\n",
       "      <td>CUS_0xd40</td>\n",
       "    </tr>\n",
       "  </tbody>\n",
       "</table>\n",
       "</div>"
      ],
      "text/plain": [
       "                                                                          0                                                  1                                                  2                                                  3                                                  4\n",
       "Age                                                                      23                                                 23                                               -500                                                 23                                                 23\n",
       "Annual_Income                                                      19114.12                                           19114.12                                           19114.12                                           19114.12                                           19114.12\n",
       "Num_Bank_Accounts                                                         3                                                  3                                                  3                                                  3                                                  3\n",
       "Num_Credit_Card                                                           4                                                  4                                                  4                                                  4                                                  4\n",
       "Num_of_Delayed_Payment                                                    7                                                NaN                                                  7                                                  4                                                NaN\n",
       "Credit_Utilization_Ratio                                           26.82262                                           31.94496                                          28.609352                                          31.377862                                          24.797347\n",
       "Payment_of_Min_Amount                                                    No                                                 No                                                 No                                                 No                                                 No\n",
       "Total_EMI_per_month                                               49.574949                                          49.574949                                          49.574949                                          49.574949                                          49.574949\n",
       "Credit_Score                                                           Good                                               Good                                               Good                                               Good                                               Good\n",
       "Credit_History_Age                                    22 Years and 1 Months                                                NaN                              22 Years and 3 Months                              22 Years and 4 Months                              22 Years and 5 Months\n",
       "Type_of_Loan              Auto Loan, Credit-Builder Loan, Personal Loan,...  Auto Loan, Credit-Builder Loan, Personal Loan,...  Auto Loan, Credit-Builder Loan, Personal Loan,...  Auto Loan, Credit-Builder Loan, Personal Loan,...  Auto Loan, Credit-Builder Loan, Personal Loan,...\n",
       "Delay_from_due_date                                                       3                                                 -1                                                  3                                                  5                                                  6\n",
       "Customer_ID                                                       CUS_0xd40                                          CUS_0xd40                                          CUS_0xd40                                          CUS_0xd40                                          CUS_0xd40"
      ]
     },
     "execution_count": 148,
     "metadata": {},
     "output_type": "execute_result"
    }
   ],
   "source": [
    "df= df[['Age',\n",
    " 'Annual_Income',\n",
    " 'Num_Bank_Accounts',\n",
    " 'Num_Credit_Card',\n",
    " 'Num_of_Delayed_Payment',\n",
    " 'Credit_Utilization_Ratio',\n",
    " 'Payment_of_Min_Amount',\n",
    " 'Total_EMI_per_month',\n",
    " 'Credit_Score',\n",
    " 'Credit_History_Age',\n",
    " 'Type_of_Loan',\n",
    " 'Delay_from_due_date','Customer_ID']]\n",
    "df.head().T"
   ]
  },
  {
   "cell_type": "code",
   "execution_count": 149,
   "metadata": {},
   "outputs": [
    {
     "name": "stdout",
     "output_type": "stream",
     "text": [
      "<class 'pandas.core.frame.DataFrame'>\n",
      "RangeIndex: 100000 entries, 0 to 99999\n",
      "Data columns (total 13 columns):\n",
      " #   Column                    Non-Null Count   Dtype  \n",
      "---  ------                    --------------   -----  \n",
      " 0   Age                       100000 non-null  object \n",
      " 1   Annual_Income             100000 non-null  object \n",
      " 2   Num_Bank_Accounts         100000 non-null  int64  \n",
      " 3   Num_Credit_Card           100000 non-null  int64  \n",
      " 4   Num_of_Delayed_Payment    92998 non-null   object \n",
      " 5   Credit_Utilization_Ratio  100000 non-null  float64\n",
      " 6   Payment_of_Min_Amount     100000 non-null  object \n",
      " 7   Total_EMI_per_month       100000 non-null  float64\n",
      " 8   Credit_Score              100000 non-null  object \n",
      " 9   Credit_History_Age        90970 non-null   object \n",
      " 10  Type_of_Loan              88592 non-null   object \n",
      " 11  Delay_from_due_date       100000 non-null  int64  \n",
      " 12  Customer_ID               100000 non-null  object \n",
      "dtypes: float64(2), int64(3), object(8)\n",
      "memory usage: 9.9+ MB\n"
     ]
    }
   ],
   "source": [
    "df.info()"
   ]
  },
  {
   "cell_type": "markdown",
   "metadata": {},
   "source": [
    "## Data Transformation"
   ]
  },
  {
   "cell_type": "code",
   "execution_count": 150,
   "metadata": {},
   "outputs": [
    {
     "data": {
      "text/plain": [
       "array(['23', '-500', '28_', ..., '4808_', '2263', '1342'], dtype=object)"
      ]
     },
     "execution_count": 150,
     "metadata": {},
     "output_type": "execute_result"
    }
   ],
   "source": [
    "df['Age'].unique()"
   ]
  },
  {
   "cell_type": "code",
   "execution_count": 151,
   "metadata": {},
   "outputs": [],
   "source": [
    "df.Age = df.Age.str.replace('_', '', regex=True).astype('float')"
   ]
  },
  {
   "cell_type": "code",
   "execution_count": 152,
   "metadata": {},
   "outputs": [
    {
     "name": "stdout",
     "output_type": "stream",
     "text": [
      "<class 'pandas.core.frame.DataFrame'>\n",
      "RangeIndex: 100000 entries, 0 to 99999\n",
      "Data columns (total 13 columns):\n",
      " #   Column                    Non-Null Count   Dtype  \n",
      "---  ------                    --------------   -----  \n",
      " 0   Age                       100000 non-null  float64\n",
      " 1   Annual_Income             100000 non-null  object \n",
      " 2   Num_Bank_Accounts         100000 non-null  int64  \n",
      " 3   Num_Credit_Card           100000 non-null  int64  \n",
      " 4   Num_of_Delayed_Payment    92998 non-null   object \n",
      " 5   Credit_Utilization_Ratio  100000 non-null  float64\n",
      " 6   Payment_of_Min_Amount     100000 non-null  object \n",
      " 7   Total_EMI_per_month       100000 non-null  float64\n",
      " 8   Credit_Score              100000 non-null  object \n",
      " 9   Credit_History_Age        90970 non-null   object \n",
      " 10  Type_of_Loan              88592 non-null   object \n",
      " 11  Delay_from_due_date       100000 non-null  int64  \n",
      " 12  Customer_ID               100000 non-null  object \n",
      "dtypes: float64(3), int64(3), object(7)\n",
      "memory usage: 9.9+ MB\n"
     ]
    }
   ],
   "source": [
    "df.info()"
   ]
  },
  {
   "cell_type": "code",
   "execution_count": 153,
   "metadata": {},
   "outputs": [],
   "source": [
    "df.Annual_Income = df.Annual_Income.str.replace('_', '', regex=True).astype('float')\n",
    "df.Num_of_Delayed_Payment = df.Num_of_Delayed_Payment.str.replace('_', '', regex=True).astype('float')"
   ]
  },
  {
   "cell_type": "code",
   "execution_count": 154,
   "metadata": {},
   "outputs": [
    {
     "name": "stdout",
     "output_type": "stream",
     "text": [
      "<class 'pandas.core.frame.DataFrame'>\n",
      "RangeIndex: 100000 entries, 0 to 99999\n",
      "Data columns (total 13 columns):\n",
      " #   Column                    Non-Null Count   Dtype  \n",
      "---  ------                    --------------   -----  \n",
      " 0   Age                       100000 non-null  float64\n",
      " 1   Annual_Income             100000 non-null  float64\n",
      " 2   Num_Bank_Accounts         100000 non-null  int64  \n",
      " 3   Num_Credit_Card           100000 non-null  int64  \n",
      " 4   Num_of_Delayed_Payment    92998 non-null   float64\n",
      " 5   Credit_Utilization_Ratio  100000 non-null  float64\n",
      " 6   Payment_of_Min_Amount     100000 non-null  object \n",
      " 7   Total_EMI_per_month       100000 non-null  float64\n",
      " 8   Credit_Score              100000 non-null  object \n",
      " 9   Credit_History_Age        90970 non-null   object \n",
      " 10  Type_of_Loan              88592 non-null   object \n",
      " 11  Delay_from_due_date       100000 non-null  int64  \n",
      " 12  Customer_ID               100000 non-null  object \n",
      "dtypes: float64(5), int64(3), object(5)\n",
      "memory usage: 9.9+ MB\n"
     ]
    }
   ],
   "source": [
    "df.info()"
   ]
  },
  {
   "cell_type": "code",
   "execution_count": 155,
   "metadata": {},
   "outputs": [
    {
     "name": "stdout",
     "output_type": "stream",
     "text": [
      "['Age', 'Annual_Income', 'Num_Bank_Accounts', 'Num_Credit_Card', 'Num_of_Delayed_Payment', 'Credit_Utilization_Ratio', 'Payment_of_Min_Amount', 'Total_EMI_per_month', 'Credit_Score', 'Credit_History_Age', 'Type_of_Loan', 'Delay_from_due_date', 'Customer_ID']\n"
     ]
    }
   ],
   "source": [
    "columns= df.columns.to_list()\n",
    "print(columns)"
   ]
  },
  {
   "cell_type": "code",
   "execution_count": 156,
   "metadata": {},
   "outputs": [
    {
     "data": {
      "text/html": [
       "<div>\n",
       "<style scoped>\n",
       "    .dataframe tbody tr th:only-of-type {\n",
       "        vertical-align: middle;\n",
       "    }\n",
       "\n",
       "    .dataframe tbody tr th {\n",
       "        vertical-align: top;\n",
       "    }\n",
       "\n",
       "    .dataframe thead th {\n",
       "        text-align: right;\n",
       "    }\n",
       "</style>\n",
       "<table border=\"1\" class=\"dataframe\">\n",
       "  <thead>\n",
       "    <tr style=\"text-align: right;\">\n",
       "      <th></th>\n",
       "      <th>count</th>\n",
       "      <th>mean</th>\n",
       "      <th>std</th>\n",
       "      <th>min</th>\n",
       "      <th>25%</th>\n",
       "      <th>50%</th>\n",
       "      <th>75%</th>\n",
       "      <th>max</th>\n",
       "    </tr>\n",
       "  </thead>\n",
       "  <tbody>\n",
       "    <tr>\n",
       "      <th>Age</th>\n",
       "      <td>100000.0</td>\n",
       "      <td>110.649700</td>\n",
       "      <td>6.862447e+02</td>\n",
       "      <td>-500.00</td>\n",
       "      <td>24.000000</td>\n",
       "      <td>33.000000</td>\n",
       "      <td>42.000000</td>\n",
       "      <td>8698.0</td>\n",
       "    </tr>\n",
       "    <tr>\n",
       "      <th>Annual_Income</th>\n",
       "      <td>100000.0</td>\n",
       "      <td>176415.701298</td>\n",
       "      <td>1.429618e+06</td>\n",
       "      <td>7005.93</td>\n",
       "      <td>19457.500000</td>\n",
       "      <td>37578.610000</td>\n",
       "      <td>72790.920000</td>\n",
       "      <td>24198062.0</td>\n",
       "    </tr>\n",
       "    <tr>\n",
       "      <th>Num_Bank_Accounts</th>\n",
       "      <td>100000.0</td>\n",
       "      <td>17.091280</td>\n",
       "      <td>1.174048e+02</td>\n",
       "      <td>-1.00</td>\n",
       "      <td>3.000000</td>\n",
       "      <td>6.000000</td>\n",
       "      <td>7.000000</td>\n",
       "      <td>1798.0</td>\n",
       "    </tr>\n",
       "    <tr>\n",
       "      <th>Num_Credit_Card</th>\n",
       "      <td>100000.0</td>\n",
       "      <td>22.474430</td>\n",
       "      <td>1.290574e+02</td>\n",
       "      <td>0.00</td>\n",
       "      <td>4.000000</td>\n",
       "      <td>5.000000</td>\n",
       "      <td>7.000000</td>\n",
       "      <td>1499.0</td>\n",
       "    </tr>\n",
       "    <tr>\n",
       "      <th>Num_of_Delayed_Payment</th>\n",
       "      <td>92998.0</td>\n",
       "      <td>30.923342</td>\n",
       "      <td>2.260319e+02</td>\n",
       "      <td>-3.00</td>\n",
       "      <td>9.000000</td>\n",
       "      <td>14.000000</td>\n",
       "      <td>18.000000</td>\n",
       "      <td>4397.0</td>\n",
       "    </tr>\n",
       "    <tr>\n",
       "      <th>Credit_Utilization_Ratio</th>\n",
       "      <td>100000.0</td>\n",
       "      <td>32.285173</td>\n",
       "      <td>5.116875e+00</td>\n",
       "      <td>20.00</td>\n",
       "      <td>28.052567</td>\n",
       "      <td>32.305784</td>\n",
       "      <td>36.496663</td>\n",
       "      <td>50.0</td>\n",
       "    </tr>\n",
       "    <tr>\n",
       "      <th>Total_EMI_per_month</th>\n",
       "      <td>100000.0</td>\n",
       "      <td>1403.118217</td>\n",
       "      <td>8.306041e+03</td>\n",
       "      <td>0.00</td>\n",
       "      <td>30.306660</td>\n",
       "      <td>69.249473</td>\n",
       "      <td>161.224249</td>\n",
       "      <td>82331.0</td>\n",
       "    </tr>\n",
       "    <tr>\n",
       "      <th>Delay_from_due_date</th>\n",
       "      <td>100000.0</td>\n",
       "      <td>21.068780</td>\n",
       "      <td>1.486010e+01</td>\n",
       "      <td>-5.00</td>\n",
       "      <td>10.000000</td>\n",
       "      <td>18.000000</td>\n",
       "      <td>28.000000</td>\n",
       "      <td>67.0</td>\n",
       "    </tr>\n",
       "  </tbody>\n",
       "</table>\n",
       "</div>"
      ],
      "text/plain": [
       "                             count           mean           std      min           25%           50%           75%         max\n",
       "Age                       100000.0     110.649700  6.862447e+02  -500.00     24.000000     33.000000     42.000000      8698.0\n",
       "Annual_Income             100000.0  176415.701298  1.429618e+06  7005.93  19457.500000  37578.610000  72790.920000  24198062.0\n",
       "Num_Bank_Accounts         100000.0      17.091280  1.174048e+02    -1.00      3.000000      6.000000      7.000000      1798.0\n",
       "Num_Credit_Card           100000.0      22.474430  1.290574e+02     0.00      4.000000      5.000000      7.000000      1499.0\n",
       "Num_of_Delayed_Payment     92998.0      30.923342  2.260319e+02    -3.00      9.000000     14.000000     18.000000      4397.0\n",
       "Credit_Utilization_Ratio  100000.0      32.285173  5.116875e+00    20.00     28.052567     32.305784     36.496663        50.0\n",
       "Total_EMI_per_month       100000.0    1403.118217  8.306041e+03     0.00     30.306660     69.249473    161.224249     82331.0\n",
       "Delay_from_due_date       100000.0      21.068780  1.486010e+01    -5.00     10.000000     18.000000     28.000000        67.0"
      ]
     },
     "execution_count": 156,
     "metadata": {},
     "output_type": "execute_result"
    }
   ],
   "source": [
    "df.describe().T"
   ]
  },
  {
   "cell_type": "code",
   "execution_count": 157,
   "metadata": {},
   "outputs": [],
   "source": [
    "df.loc[df.Age > 100, 'Age'] = np.nan\n",
    "df.loc[df.Age < 1, 'Age'] = np.nan"
   ]
  },
  {
   "cell_type": "code",
   "execution_count": 158,
   "metadata": {},
   "outputs": [
    {
     "data": {
      "image/png": "[encoded data removed]",
      "text/plain": [
       "<Figure size 1600x1200 with 8 Axes>"
      ]
     },
     "metadata": {},
     "output_type": "display_data"
    }
   ],
   "source": [
    "import seaborn as sns\n",
    "numerical_columns = df.select_dtypes(include=['number'])\n",
    "\n",
    "plt.figure(figsize=(16, 12))\n",
    "sns.set(style=\"whitegrid\")\n",
    "for i, column in enumerate(numerical_columns.columns):\n",
    "    plt.subplot(3, 3, i + 1) \n",
    "    sns.boxplot(x=numerical_columns[column], color='skyblue')\n",
    "    plt.title(f'Box Plot of {column}')\n",
    "    plt.xlabel('')\n",
    "    plt.ylabel(column)\n",
    "\n",
    "plt.tight_layout()\n",
    "plt.show()"
   ]
  },
  {
   "cell_type": "code",
   "execution_count": 159,
   "metadata": {},
   "outputs": [
    {
     "data": {
      "text/plain": [
       "array(['Auto Loan, Credit-Builder Loan, Personal Loan, and Home Equity Loan',\n",
       "       'Credit-Builder Loan', 'Auto Loan, Auto Loan, and Not Specified',\n",
       "       ..., 'Home Equity Loan, Auto Loan, Auto Loan, and Auto Loan',\n",
       "       'Payday Loan, Student Loan, Mortgage Loan, and Not Specified',\n",
       "       'Personal Loan, Auto Loan, Mortgage Loan, Student Loan, and Student Loan'],\n",
       "      dtype=object)"
      ]
     },
     "execution_count": 159,
     "metadata": {},
     "output_type": "execute_result"
    }
   ],
   "source": [
    "df['Type_of_Loan'].unique()"
   ]
  },
  {
   "cell_type": "code",
   "execution_count": 160,
   "metadata": {},
   "outputs": [
    {
     "data": {
      "text/plain": [
       "['Age',\n",
       " 'Annual_Income',\n",
       " 'Num_Bank_Accounts',\n",
       " 'Num_Credit_Card',\n",
       " 'Num_of_Delayed_Payment',\n",
       " 'Credit_Utilization_Ratio',\n",
       " 'Payment_of_Min_Amount',\n",
       " 'Total_EMI_per_month',\n",
       " 'Credit_Score',\n",
       " 'Credit_History_Age',\n",
       " 'Type_of_Loan',\n",
       " 'Delay_from_due_date']"
      ]
     },
     "execution_count": 160,
     "metadata": {},
     "output_type": "execute_result"
    }
   ],
   "source": [
    "['Age', 'Annual_Income', 'Num_Bank_Accounts', 'Num_Credit_Card', 'Num_of_Delayed_Payment', 'Credit_Utilization_Ratio', 'Payment_of_Min_Amount', 'Total_EMI_per_month', 'Credit_Score', 'Credit_History_Age', 'Type_of_Loan', 'Delay_from_due_date']"
   ]
  },
  {
   "cell_type": "code",
   "execution_count": 161,
   "metadata": {},
   "outputs": [
    {
     "data": {
      "text/plain": [
       "array(['No', 'NM', 'Yes'], dtype=object)"
      ]
     },
     "execution_count": 161,
     "metadata": {},
     "output_type": "execute_result"
    }
   ],
   "source": [
    "df.Payment_of_Min_Amount.unique()"
   ]
  },
  {
   "cell_type": "code",
   "execution_count": 162,
   "metadata": {},
   "outputs": [],
   "source": [
    "df.Payment_of_Min_Amount.replace('NM', np.nan, inplace=True)\n",
    "df.loc[df.Age > 100, 'Age'] = np.nan\n",
    "df.loc[df.Age < 1, 'Age'] = np.nan\n",
    "df.loc[df.Num_Credit_Card > 11, 'Num_Credit_Card'] = np.nan\n",
    "df.loc[df.Annual_Income > 300000, 'Annual_Income'] = np.nan\n",
    "df.loc[df.Total_EMI_per_month > 5000, 'Total_EMI_per_month'] = np.nan\n",
    "df.loc[df.Num_Bank_Accounts > 100, 'Num_Bank_Accounts'] = np.nan\n",
    "df.loc[df.Num_Bank_Accounts < 0, 'Num_Bank_Accounts'] = np.nan\n",
    "df.loc[df.Num_of_Delayed_Payment > 100, 'Num_of_Delayed_Payment'] = np.nan"
   ]
  },
  {
   "cell_type": "markdown",
   "metadata": {},
   "source": [
    "It's possible that are people over 100 years old, but a threshold need to be set, so now any person over 100 and less than 1 is a null value that we'll try to fill down below."
   ]
  },
  {
   "cell_type": "code",
   "execution_count": 163,
   "metadata": {},
   "outputs": [
    {
     "data": {
      "text/html": [
       "<div>\n",
       "<style scoped>\n",
       "    .dataframe tbody tr th:only-of-type {\n",
       "        vertical-align: middle;\n",
       "    }\n",
       "\n",
       "    .dataframe tbody tr th {\n",
       "        vertical-align: top;\n",
       "    }\n",
       "\n",
       "    .dataframe thead th {\n",
       "        text-align: right;\n",
       "    }\n",
       "</style>\n",
       "<table border=\"1\" class=\"dataframe\">\n",
       "  <thead>\n",
       "    <tr style=\"text-align: right;\">\n",
       "      <th></th>\n",
       "      <th>Age</th>\n",
       "      <th>Annual_Income</th>\n",
       "      <th>Num_Bank_Accounts</th>\n",
       "      <th>Num_Credit_Card</th>\n",
       "      <th>Num_of_Delayed_Payment</th>\n",
       "      <th>Credit_Utilization_Ratio</th>\n",
       "      <th>Total_EMI_per_month</th>\n",
       "      <th>Delay_from_due_date</th>\n",
       "    </tr>\n",
       "  </thead>\n",
       "  <tbody>\n",
       "    <tr>\n",
       "      <th>count</th>\n",
       "      <td>97224.000000</td>\n",
       "      <td>99007.000000</td>\n",
       "      <td>98733.000000</td>\n",
       "      <td>97729.000000</td>\n",
       "      <td>92274.000000</td>\n",
       "      <td>100000.000000</td>\n",
       "      <td>97012.000000</td>\n",
       "      <td>100000.000000</td>\n",
       "    </tr>\n",
       "    <tr>\n",
       "      <th>mean</th>\n",
       "      <td>33.323274</td>\n",
       "      <td>50510.789579</td>\n",
       "      <td>5.403928</td>\n",
       "      <td>5.533322</td>\n",
       "      <td>13.322225</td>\n",
       "      <td>32.285173</td>\n",
       "      <td>111.983968</td>\n",
       "      <td>21.068780</td>\n",
       "    </tr>\n",
       "    <tr>\n",
       "      <th>std</th>\n",
       "      <td>10.778909</td>\n",
       "      <td>38333.115918</td>\n",
       "      <td>2.968060</td>\n",
       "      <td>2.067703</td>\n",
       "      <td>6.352251</td>\n",
       "      <td>5.116875</td>\n",
       "      <td>180.676679</td>\n",
       "      <td>14.860104</td>\n",
       "    </tr>\n",
       "    <tr>\n",
       "      <th>min</th>\n",
       "      <td>14.000000</td>\n",
       "      <td>7005.930000</td>\n",
       "      <td>0.000000</td>\n",
       "      <td>0.000000</td>\n",
       "      <td>-3.000000</td>\n",
       "      <td>20.000000</td>\n",
       "      <td>0.000000</td>\n",
       "      <td>-5.000000</td>\n",
       "    </tr>\n",
       "    <tr>\n",
       "      <th>25%</th>\n",
       "      <td>24.000000</td>\n",
       "      <td>19344.270000</td>\n",
       "      <td>3.000000</td>\n",
       "      <td>4.000000</td>\n",
       "      <td>9.000000</td>\n",
       "      <td>28.052567</td>\n",
       "      <td>29.371497</td>\n",
       "      <td>10.000000</td>\n",
       "    </tr>\n",
       "    <tr>\n",
       "      <th>50%</th>\n",
       "      <td>33.000000</td>\n",
       "      <td>36993.940000</td>\n",
       "      <td>5.000000</td>\n",
       "      <td>5.000000</td>\n",
       "      <td>14.000000</td>\n",
       "      <td>32.305784</td>\n",
       "      <td>66.603729</td>\n",
       "      <td>18.000000</td>\n",
       "    </tr>\n",
       "    <tr>\n",
       "      <th>75%</th>\n",
       "      <td>42.000000</td>\n",
       "      <td>71676.795000</td>\n",
       "      <td>7.000000</td>\n",
       "      <td>7.000000</td>\n",
       "      <td>18.000000</td>\n",
       "      <td>36.496663</td>\n",
       "      <td>147.792533</td>\n",
       "      <td>28.000000</td>\n",
       "    </tr>\n",
       "    <tr>\n",
       "      <th>max</th>\n",
       "      <td>100.000000</td>\n",
       "      <td>277803.000000</td>\n",
       "      <td>100.000000</td>\n",
       "      <td>11.000000</td>\n",
       "      <td>98.000000</td>\n",
       "      <td>50.000000</td>\n",
       "      <td>4991.000000</td>\n",
       "      <td>67.000000</td>\n",
       "    </tr>\n",
       "  </tbody>\n",
       "</table>\n",
       "</div>"
      ],
      "text/plain": [
       "                Age  Annual_Income  Num_Bank_Accounts  Num_Credit_Card  Num_of_Delayed_Payment  Credit_Utilization_Ratio  Total_EMI_per_month  Delay_from_due_date\n",
       "count  97224.000000   99007.000000       98733.000000     97729.000000            92274.000000             100000.000000         97012.000000        100000.000000\n",
       "mean      33.323274   50510.789579           5.403928         5.533322               13.322225                 32.285173           111.983968            21.068780\n",
       "std       10.778909   38333.115918           2.968060         2.067703                6.352251                  5.116875           180.676679            14.860104\n",
       "min       14.000000    7005.930000           0.000000         0.000000               -3.000000                 20.000000             0.000000            -5.000000\n",
       "25%       24.000000   19344.270000           3.000000         4.000000                9.000000                 28.052567            29.371497            10.000000\n",
       "50%       33.000000   36993.940000           5.000000         5.000000               14.000000                 32.305784            66.603729            18.000000\n",
       "75%       42.000000   71676.795000           7.000000         7.000000               18.000000                 36.496663           147.792533            28.000000\n",
       "max      100.000000  277803.000000         100.000000        11.000000               98.000000                 50.000000          4991.000000            67.000000"
      ]
     },
     "execution_count": 163,
     "metadata": {},
     "output_type": "execute_result"
    }
   ],
   "source": [
    "df.describe()"
   ]
  },
  {
   "cell_type": "markdown",
   "metadata": {},
   "source": [
    "Setting `mean_columns` and `last_columns`. They are named according to their NA are going to be filled. By looking at the dataset we can see every customer shows up multiple times from January to August, so the `last_columns` NA values will try to fill the NA by looking at the last non null value that customer have. The same ideia is going to be used by `mean_columns`, but in this case we'll use the mean value."
   ]
  },
  {
   "cell_type": "code",
   "execution_count": 164,
   "metadata": {},
   "outputs": [],
   "source": [
    "mean_columns = [\n",
    "    'Num_of_Delayed_Payment',\n",
    "    'Num_Credit_Card', 'Annual_Income', 'Total_EMI_per_month', 'Num_Bank_Accounts'\n",
    "    ]\n",
    "last_columns = ['Age', 'Type_of_Loan']"
   ]
  },
  {
   "cell_type": "code",
   "execution_count": 165,
   "metadata": {},
   "outputs": [],
   "source": [
    "temp = df.groupby('Customer_ID')[last_columns].last()"
   ]
  },
  {
   "cell_type": "code",
   "execution_count": 166,
   "metadata": {},
   "outputs": [],
   "source": [
    "df.loc[df.Age.isnull(), 'Age'] = df.Customer_ID.map(temp.Age)\n",
    "df.loc[df.Type_of_Loan.isnull(), 'Type_of_Loan'] = df.Customer_ID.map(temp.Type_of_Loan)"
   ]
  },
  {
   "cell_type": "code",
   "execution_count": 167,
   "metadata": {},
   "outputs": [
    {
     "data": {
      "text/html": [
       "<div>\n",
       "<style scoped>\n",
       "    .dataframe tbody tr th:only-of-type {\n",
       "        vertical-align: middle;\n",
       "    }\n",
       "\n",
       "    .dataframe tbody tr th {\n",
       "        vertical-align: top;\n",
       "    }\n",
       "\n",
       "    .dataframe thead th {\n",
       "        text-align: right;\n",
       "    }\n",
       "</style>\n",
       "<table border=\"1\" class=\"dataframe\">\n",
       "  <thead>\n",
       "    <tr style=\"text-align: right;\">\n",
       "      <th></th>\n",
       "      <th>0</th>\n",
       "      <th>1</th>\n",
       "      <th>2</th>\n",
       "      <th>3</th>\n",
       "      <th>4</th>\n",
       "    </tr>\n",
       "  </thead>\n",
       "  <tbody>\n",
       "    <tr>\n",
       "      <th>Age</th>\n",
       "      <td>23.0</td>\n",
       "      <td>23.0</td>\n",
       "      <td>23.0</td>\n",
       "      <td>23.0</td>\n",
       "      <td>23.0</td>\n",
       "    </tr>\n",
       "    <tr>\n",
       "      <th>Annual_Income</th>\n",
       "      <td>19114.12</td>\n",
       "      <td>19114.12</td>\n",
       "      <td>19114.12</td>\n",
       "      <td>19114.12</td>\n",
       "      <td>19114.12</td>\n",
       "    </tr>\n",
       "    <tr>\n",
       "      <th>Num_Bank_Accounts</th>\n",
       "      <td>3.0</td>\n",
       "      <td>3.0</td>\n",
       "      <td>3.0</td>\n",
       "      <td>3.0</td>\n",
       "      <td>3.0</td>\n",
       "    </tr>\n",
       "    <tr>\n",
       "      <th>Num_Credit_Card</th>\n",
       "      <td>4.0</td>\n",
       "      <td>4.0</td>\n",
       "      <td>4.0</td>\n",
       "      <td>4.0</td>\n",
       "      <td>4.0</td>\n",
       "    </tr>\n",
       "    <tr>\n",
       "      <th>Num_of_Delayed_Payment</th>\n",
       "      <td>7.0</td>\n",
       "      <td>NaN</td>\n",
       "      <td>7.0</td>\n",
       "      <td>4.0</td>\n",
       "      <td>NaN</td>\n",
       "    </tr>\n",
       "    <tr>\n",
       "      <th>Credit_Utilization_Ratio</th>\n",
       "      <td>26.82262</td>\n",
       "      <td>31.94496</td>\n",
       "      <td>28.609352</td>\n",
       "      <td>31.377862</td>\n",
       "      <td>24.797347</td>\n",
       "    </tr>\n",
       "    <tr>\n",
       "      <th>Payment_of_Min_Amount</th>\n",
       "      <td>No</td>\n",
       "      <td>No</td>\n",
       "      <td>No</td>\n",
       "      <td>No</td>\n",
       "      <td>No</td>\n",
       "    </tr>\n",
       "    <tr>\n",
       "      <th>Total_EMI_per_month</th>\n",
       "      <td>49.574949</td>\n",
       "      <td>49.574949</td>\n",
       "      <td>49.574949</td>\n",
       "      <td>49.574949</td>\n",
       "      <td>49.574949</td>\n",
       "    </tr>\n",
       "    <tr>\n",
       "      <th>Credit_Score</th>\n",
       "      <td>Good</td>\n",
       "      <td>Good</td>\n",
       "      <td>Good</td>\n",
       "      <td>Good</td>\n",
       "      <td>Good</td>\n",
       "    </tr>\n",
       "    <tr>\n",
       "      <th>Credit_History_Age</th>\n",
       "      <td>22 Years and 1 Months</td>\n",
       "      <td>NaN</td>\n",
       "      <td>22 Years and 3 Months</td>\n",
       "      <td>22 Years and 4 Months</td>\n",
       "      <td>22 Years and 5 Months</td>\n",
       "    </tr>\n",
       "    <tr>\n",
       "      <th>Type_of_Loan</th>\n",
       "      <td>Auto Loan, Credit-Builder Loan, Personal Loan,...</td>\n",
       "      <td>Auto Loan, Credit-Builder Loan, Personal Loan,...</td>\n",
       "      <td>Auto Loan, Credit-Builder Loan, Personal Loan,...</td>\n",
       "      <td>Auto Loan, Credit-Builder Loan, Personal Loan,...</td>\n",
       "      <td>Auto Loan, Credit-Builder Loan, Personal Loan,...</td>\n",
       "    </tr>\n",
       "    <tr>\n",
       "      <th>Delay_from_due_date</th>\n",
       "      <td>3</td>\n",
       "      <td>-1</td>\n",
       "      <td>3</td>\n",
       "      <td>5</td>\n",
       "      <td>6</td>\n",
       "    </tr>\n",
       "    <tr>\n",
       "      <th>Customer_ID</th>\n",
       "      <td>CUS_0xd40</td>\n",
       "      <td>CUS_0xd40</td>\n",
       "      <td>CUS_0xd40</td>\n",
       "      <td>CUS_0xd40</td>\n",
       "      <td>CUS_0xd40</td>\n",
       "    </tr>\n",
       "  </tbody>\n",
       "</table>\n",
       "</div>"
      ],
      "text/plain": [
       "                                                                          0                                                  1                                                  2                                                  3                                                  4\n",
       "Age                                                                    23.0                                               23.0                                               23.0                                               23.0                                               23.0\n",
       "Annual_Income                                                      19114.12                                           19114.12                                           19114.12                                           19114.12                                           19114.12\n",
       "Num_Bank_Accounts                                                       3.0                                                3.0                                                3.0                                                3.0                                                3.0\n",
       "Num_Credit_Card                                                         4.0                                                4.0                                                4.0                                                4.0                                                4.0\n",
       "Num_of_Delayed_Payment                                                  7.0                                                NaN                                                7.0                                                4.0                                                NaN\n",
       "Credit_Utilization_Ratio                                           26.82262                                           31.94496                                          28.609352                                          31.377862                                          24.797347\n",
       "Payment_of_Min_Amount                                                    No                                                 No                                                 No                                                 No                                                 No\n",
       "Total_EMI_per_month                                               49.574949                                          49.574949                                          49.574949                                          49.574949                                          49.574949\n",
       "Credit_Score                                                           Good                                               Good                                               Good                                               Good                                               Good\n",
       "Credit_History_Age                                    22 Years and 1 Months                                                NaN                              22 Years and 3 Months                              22 Years and 4 Months                              22 Years and 5 Months\n",
       "Type_of_Loan              Auto Loan, Credit-Builder Loan, Personal Loan,...  Auto Loan, Credit-Builder Loan, Personal Loan,...  Auto Loan, Credit-Builder Loan, Personal Loan,...  Auto Loan, Credit-Builder Loan, Personal Loan,...  Auto Loan, Credit-Builder Loan, Personal Loan,...\n",
       "Delay_from_due_date                                                       3                                                 -1                                                  3                                                  5                                                  6\n",
       "Customer_ID                                                       CUS_0xd40                                          CUS_0xd40                                          CUS_0xd40                                          CUS_0xd40                                          CUS_0xd40"
      ]
     },
     "execution_count": 167,
     "metadata": {},
     "output_type": "execute_result"
    }
   ],
   "source": [
    "df.head().T"
   ]
  },
  {
   "cell_type": "code",
   "execution_count": 168,
   "metadata": {},
   "outputs": [],
   "source": [
    "df.Credit_History_Age.fillna('0 0 0 0', inplace=True)"
   ]
  },
  {
   "cell_type": "code",
   "execution_count": 169,
   "metadata": {},
   "outputs": [],
   "source": [
    "for index, column in df.iterrows():\n",
    "    df.loc[index, 'Credit_History_Age_Formated'] = float(df.loc[index, 'Credit_History_Age'].split()[0])*12+float(df.loc[index, 'Credit_History_Age'].split()[3])"
   ]
  },
  {
   "cell_type": "code",
   "execution_count": 170,
   "metadata": {},
   "outputs": [],
   "source": [
    "df.loc[df.Credit_History_Age_Formated == 0, 'Credit_History_Age_Formated'] = np.nan"
   ]
  },
  {
   "cell_type": "code",
   "execution_count": 171,
   "metadata": {},
   "outputs": [],
   "source": [
    "df.Credit_History_Age_Formated.interpolate(inplace = True)\n",
    "df.drop(columns='Credit_History_Age', inplace=True)"
   ]
  },
  {
   "cell_type": "markdown",
   "metadata": {},
   "source": [
    "I'm defining all the null values for minimun payment amount to `No`."
   ]
  },
  {
   "cell_type": "code",
   "execution_count": 172,
   "metadata": {},
   "outputs": [],
   "source": [
    "df.Payment_of_Min_Amount.fillna('No', inplace=True)"
   ]
  },
  {
   "cell_type": "markdown",
   "metadata": {},
   "source": [
    "By checking the posible results for type of loan we can see that there is a \"Not Specified\" option, so when it's null I'm changing it to this."
   ]
  },
  {
   "cell_type": "code",
   "execution_count": 173,
   "metadata": {},
   "outputs": [
    {
     "data": {
      "text/plain": [
       "array(['Auto Loan, Credit-Builder Loan, Personal Loan, and Home Equity Loan',\n",
       "       'Credit-Builder Loan', 'Auto Loan, Auto Loan, and Not Specified',\n",
       "       ..., 'Home Equity Loan, Auto Loan, Auto Loan, and Auto Loan',\n",
       "       'Payday Loan, Student Loan, Mortgage Loan, and Not Specified',\n",
       "       'Personal Loan, Auto Loan, Mortgage Loan, Student Loan, and Student Loan'],\n",
       "      dtype=object)"
      ]
     },
     "execution_count": 173,
     "metadata": {},
     "output_type": "execute_result"
    }
   ],
   "source": [
    "df.Type_of_Loan.unique()"
   ]
  },
  {
   "cell_type": "code",
   "execution_count": 174,
   "metadata": {},
   "outputs": [],
   "source": [
    "df.Type_of_Loan.fillna('Not Specified', inplace=True)"
   ]
  },
  {
   "cell_type": "code",
   "execution_count": 175,
   "metadata": {},
   "outputs": [],
   "source": [
    "digits = re.compile('[^\\d.]') #this regex is to select everything that isn't a number or a dot."
   ]
  },
  {
   "cell_type": "markdown",
   "metadata": {},
   "source": [
    "I replace with `''` (nothing) everything that is not a digit or a dot in the mean columns."
   ]
  },
  {
   "cell_type": "code",
   "execution_count": 176,
   "metadata": {},
   "outputs": [
    {
     "name": "stderr",
     "output_type": "stream",
     "text": [
      "/tmp/ipykernel_11333/3054057308.py:3: FutureWarning: Setting an item of incompatible dtype is deprecated and will raise in a future error of pandas. Value '7.0' has dtype incompatible with float64, please explicitly cast to a compatible dtype first.\n",
      "  df.loc[index, x] = digits.sub('', str(df.loc[index, x]))\n",
      "/tmp/ipykernel_11333/3054057308.py:3: FutureWarning: Setting an item of incompatible dtype is deprecated and will raise in a future error of pandas. Value '4.0' has dtype incompatible with float64, please explicitly cast to a compatible dtype first.\n",
      "  df.loc[index, x] = digits.sub('', str(df.loc[index, x]))\n",
      "/tmp/ipykernel_11333/3054057308.py:3: FutureWarning: Setting an item of incompatible dtype is deprecated and will raise in a future error of pandas. Value '19114.12' has dtype incompatible with float64, please explicitly cast to a compatible dtype first.\n",
      "  df.loc[index, x] = digits.sub('', str(df.loc[index, x]))\n",
      "/tmp/ipykernel_11333/3054057308.py:3: FutureWarning: Setting an item of incompatible dtype is deprecated and will raise in a future error of pandas. Value '49.57494921489417' has dtype incompatible with float64, please explicitly cast to a compatible dtype first.\n",
      "  df.loc[index, x] = digits.sub('', str(df.loc[index, x]))\n",
      "/tmp/ipykernel_11333/3054057308.py:3: FutureWarning: Setting an item of incompatible dtype is deprecated and will raise in a future error of pandas. Value '3.0' has dtype incompatible with float64, please explicitly cast to a compatible dtype first.\n",
      "  df.loc[index, x] = digits.sub('', str(df.loc[index, x]))\n"
     ]
    }
   ],
   "source": [
    "for index, column in df.iterrows():\n",
    "    for x in mean_columns:\n",
    "        df.loc[index, x] = digits.sub('', str(df.loc[index, x]))"
   ]
  },
  {
   "cell_type": "code",
   "execution_count": 177,
   "metadata": {},
   "outputs": [
    {
     "data": {
      "text/html": [
       "<div>\n",
       "<style scoped>\n",
       "    .dataframe tbody tr th:only-of-type {\n",
       "        vertical-align: middle;\n",
       "    }\n",
       "\n",
       "    .dataframe tbody tr th {\n",
       "        vertical-align: top;\n",
       "    }\n",
       "\n",
       "    .dataframe thead th {\n",
       "        text-align: right;\n",
       "    }\n",
       "</style>\n",
       "<table border=\"1\" class=\"dataframe\">\n",
       "  <thead>\n",
       "    <tr style=\"text-align: right;\">\n",
       "      <th></th>\n",
       "      <th>0</th>\n",
       "      <th>1</th>\n",
       "      <th>2</th>\n",
       "      <th>3</th>\n",
       "      <th>4</th>\n",
       "    </tr>\n",
       "  </thead>\n",
       "  <tbody>\n",
       "    <tr>\n",
       "      <th>Age</th>\n",
       "      <td>23.0</td>\n",
       "      <td>23.0</td>\n",
       "      <td>23.0</td>\n",
       "      <td>23.0</td>\n",
       "      <td>23.0</td>\n",
       "    </tr>\n",
       "    <tr>\n",
       "      <th>Annual_Income</th>\n",
       "      <td>19114.12</td>\n",
       "      <td>19114.12</td>\n",
       "      <td>19114.12</td>\n",
       "      <td>19114.12</td>\n",
       "      <td>19114.12</td>\n",
       "    </tr>\n",
       "    <tr>\n",
       "      <th>Num_Bank_Accounts</th>\n",
       "      <td>3.0</td>\n",
       "      <td>3.0</td>\n",
       "      <td>3.0</td>\n",
       "      <td>3.0</td>\n",
       "      <td>3.0</td>\n",
       "    </tr>\n",
       "    <tr>\n",
       "      <th>Num_Credit_Card</th>\n",
       "      <td>4.0</td>\n",
       "      <td>4.0</td>\n",
       "      <td>4.0</td>\n",
       "      <td>4.0</td>\n",
       "      <td>4.0</td>\n",
       "    </tr>\n",
       "    <tr>\n",
       "      <th>Num_of_Delayed_Payment</th>\n",
       "      <td>7.0</td>\n",
       "      <td></td>\n",
       "      <td>7.0</td>\n",
       "      <td>4.0</td>\n",
       "      <td></td>\n",
       "    </tr>\n",
       "    <tr>\n",
       "      <th>Credit_Utilization_Ratio</th>\n",
       "      <td>26.82262</td>\n",
       "      <td>31.94496</td>\n",
       "      <td>28.609352</td>\n",
       "      <td>31.377862</td>\n",
       "      <td>24.797347</td>\n",
       "    </tr>\n",
       "    <tr>\n",
       "      <th>Payment_of_Min_Amount</th>\n",
       "      <td>No</td>\n",
       "      <td>No</td>\n",
       "      <td>No</td>\n",
       "      <td>No</td>\n",
       "      <td>No</td>\n",
       "    </tr>\n",
       "    <tr>\n",
       "      <th>Total_EMI_per_month</th>\n",
       "      <td>49.57494921489417</td>\n",
       "      <td>49.57494921489417</td>\n",
       "      <td>49.57494921489417</td>\n",
       "      <td>49.57494921489417</td>\n",
       "      <td>49.57494921489417</td>\n",
       "    </tr>\n",
       "    <tr>\n",
       "      <th>Credit_Score</th>\n",
       "      <td>Good</td>\n",
       "      <td>Good</td>\n",
       "      <td>Good</td>\n",
       "      <td>Good</td>\n",
       "      <td>Good</td>\n",
       "    </tr>\n",
       "    <tr>\n",
       "      <th>Type_of_Loan</th>\n",
       "      <td>Auto Loan, Credit-Builder Loan, Personal Loan,...</td>\n",
       "      <td>Auto Loan, Credit-Builder Loan, Personal Loan,...</td>\n",
       "      <td>Auto Loan, Credit-Builder Loan, Personal Loan,...</td>\n",
       "      <td>Auto Loan, Credit-Builder Loan, Personal Loan,...</td>\n",
       "      <td>Auto Loan, Credit-Builder Loan, Personal Loan,...</td>\n",
       "    </tr>\n",
       "    <tr>\n",
       "      <th>Delay_from_due_date</th>\n",
       "      <td>3</td>\n",
       "      <td>-1</td>\n",
       "      <td>3</td>\n",
       "      <td>5</td>\n",
       "      <td>6</td>\n",
       "    </tr>\n",
       "    <tr>\n",
       "      <th>Customer_ID</th>\n",
       "      <td>CUS_0xd40</td>\n",
       "      <td>CUS_0xd40</td>\n",
       "      <td>CUS_0xd40</td>\n",
       "      <td>CUS_0xd40</td>\n",
       "      <td>CUS_0xd40</td>\n",
       "    </tr>\n",
       "    <tr>\n",
       "      <th>Credit_History_Age_Formated</th>\n",
       "      <td>265.0</td>\n",
       "      <td>266.0</td>\n",
       "      <td>267.0</td>\n",
       "      <td>268.0</td>\n",
       "      <td>269.0</td>\n",
       "    </tr>\n",
       "  </tbody>\n",
       "</table>\n",
       "</div>"
      ],
      "text/plain": [
       "                                                                             0                                                  1                                                  2                                                  3                                                  4\n",
       "Age                                                                       23.0                                               23.0                                               23.0                                               23.0                                               23.0\n",
       "Annual_Income                                                         19114.12                                           19114.12                                           19114.12                                           19114.12                                           19114.12\n",
       "Num_Bank_Accounts                                                          3.0                                                3.0                                                3.0                                                3.0                                                3.0\n",
       "Num_Credit_Card                                                            4.0                                                4.0                                                4.0                                                4.0                                                4.0\n",
       "Num_of_Delayed_Payment                                                     7.0                                                                                                   7.0                                                4.0                                                   \n",
       "Credit_Utilization_Ratio                                              26.82262                                           31.94496                                          28.609352                                          31.377862                                          24.797347\n",
       "Payment_of_Min_Amount                                                       No                                                 No                                                 No                                                 No                                                 No\n",
       "Total_EMI_per_month                                          49.57494921489417                                  49.57494921489417                                  49.57494921489417                                  49.57494921489417                                  49.57494921489417\n",
       "Credit_Score                                                              Good                                               Good                                               Good                                               Good                                               Good\n",
       "Type_of_Loan                 Auto Loan, Credit-Builder Loan, Personal Loan,...  Auto Loan, Credit-Builder Loan, Personal Loan,...  Auto Loan, Credit-Builder Loan, Personal Loan,...  Auto Loan, Credit-Builder Loan, Personal Loan,...  Auto Loan, Credit-Builder Loan, Personal Loan,...\n",
       "Delay_from_due_date                                                          3                                                 -1                                                  3                                                  5                                                  6\n",
       "Customer_ID                                                          CUS_0xd40                                          CUS_0xd40                                          CUS_0xd40                                          CUS_0xd40                                          CUS_0xd40\n",
       "Credit_History_Age_Formated                                              265.0                                              266.0                                              267.0                                              268.0                                              269.0"
      ]
     },
     "execution_count": 177,
     "metadata": {},
     "output_type": "execute_result"
    }
   ],
   "source": [
    "df.head().T"
   ]
  },
  {
   "cell_type": "markdown",
   "metadata": {},
   "source": [
    "Now I need to replace the `''` (nothings) with NaN, then save the column as a float."
   ]
  },
  {
   "cell_type": "code",
   "execution_count": 178,
   "metadata": {},
   "outputs": [],
   "source": [
    "df.Num_of_Delayed_Payment.replace('', np.nan, inplace=True)\n",
    "df.Num_of_Delayed_Payment = df.Num_of_Delayed_Payment.astype('float')\n",
    "df.Num_Credit_Card.replace('', np.nan, inplace=True)\n",
    "df.Num_Credit_Card = df.Num_Credit_Card.astype('float')\n",
    "df.Annual_Income.replace('', np.nan, inplace=True)\n",
    "df.Annual_Income = df.Annual_Income.astype('float')\n",
    "df.Num_Bank_Accounts.replace('', np.nan, inplace=True)\n",
    "df.Num_Bank_Accounts = df.Num_Bank_Accounts.astype('float')"
   ]
  },
  {
   "cell_type": "code",
   "execution_count": 179,
   "metadata": {},
   "outputs": [],
   "source": [
    "df.Total_EMI_per_month.replace('', np.nan, inplace=True)\n",
    "df.Total_EMI_per_month = df.Total_EMI_per_month.astype('float')"
   ]
  },
  {
   "cell_type": "code",
   "execution_count": 180,
   "metadata": {},
   "outputs": [
    {
     "name": "stdout",
     "output_type": "stream",
     "text": [
      "<class 'pandas.core.frame.DataFrame'>\n",
      "RangeIndex: 100000 entries, 0 to 99999\n",
      "Data columns (total 5 columns):\n",
      " #   Column                  Non-Null Count  Dtype  \n",
      "---  ------                  --------------  -----  \n",
      " 0   Num_of_Delayed_Payment  92274 non-null  float64\n",
      " 1   Num_Credit_Card         97729 non-null  float64\n",
      " 2   Annual_Income           99007 non-null  float64\n",
      " 3   Total_EMI_per_month     97012 non-null  float64\n",
      " 4   Num_Bank_Accounts       98733 non-null  float64\n",
      "dtypes: float64(5)\n",
      "memory usage: 3.8 MB\n"
     ]
    }
   ],
   "source": [
    "df[mean_columns].info()"
   ]
  },
  {
   "cell_type": "code",
   "execution_count": 181,
   "metadata": {},
   "outputs": [],
   "source": [
    "temp2 = df.groupby('Customer_ID')[mean_columns].mean()"
   ]
  },
  {
   "cell_type": "code",
   "execution_count": 182,
   "metadata": {},
   "outputs": [
    {
     "data": {
      "text/plain": [
       "Age                               0\n",
       "Annual_Income                   993\n",
       "Num_Bank_Accounts              1267\n",
       "Num_Credit_Card                2271\n",
       "Num_of_Delayed_Payment         7726\n",
       "Credit_Utilization_Ratio          0\n",
       "Payment_of_Min_Amount             0\n",
       "Total_EMI_per_month            2988\n",
       "Credit_Score                      0\n",
       "Type_of_Loan                      0\n",
       "Delay_from_due_date               0\n",
       "Customer_ID                       0\n",
       "Credit_History_Age_Formated       0\n",
       "dtype: int64"
      ]
     },
     "execution_count": 182,
     "metadata": {},
     "output_type": "execute_result"
    }
   ],
   "source": [
    "df.isnull().sum()"
   ]
  },
  {
   "cell_type": "markdown",
   "metadata": {},
   "source": [
    "Now I can map all the null values to the temp2 table, which contains the means for each client."
   ]
  },
  {
   "cell_type": "code",
   "execution_count": 183,
   "metadata": {},
   "outputs": [],
   "source": [
    "df.loc[df.Num_of_Delayed_Payment.isnull(), 'Num_of_Delayed_Payment'] = df.Customer_ID.map(temp2.Num_of_Delayed_Payment)\n",
    "df.loc[df.Annual_Income.isnull(), 'Annual_Income'] = df.Customer_ID.map(temp2.Annual_Income)\n",
    "df.loc[df.Total_EMI_per_month.isnull(), 'Total_EMI_per_month'] = df.Customer_ID.map(temp2.Total_EMI_per_month)\n",
    "df.loc[df.Num_Bank_Accounts.isnull(), 'Num_Bank_Accounts'] = df.Customer_ID.map(temp2.Num_Bank_Accounts)"
   ]
  },
  {
   "cell_type": "code",
   "execution_count": 184,
   "metadata": {},
   "outputs": [],
   "source": [
    "df.loc[df.Num_Credit_Card.isnull(), 'Num_Credit_Card'] = df.Customer_ID.map(temp2.Num_Credit_Card)"
   ]
  },
  {
   "cell_type": "code",
   "execution_count": 185,
   "metadata": {},
   "outputs": [
    {
     "data": {
      "text/html": [
       "<div>\n",
       "<style scoped>\n",
       "    .dataframe tbody tr th:only-of-type {\n",
       "        vertical-align: middle;\n",
       "    }\n",
       "\n",
       "    .dataframe tbody tr th {\n",
       "        vertical-align: top;\n",
       "    }\n",
       "\n",
       "    .dataframe thead th {\n",
       "        text-align: right;\n",
       "    }\n",
       "</style>\n",
       "<table border=\"1\" class=\"dataframe\">\n",
       "  <thead>\n",
       "    <tr style=\"text-align: right;\">\n",
       "      <th></th>\n",
       "      <th>Age</th>\n",
       "      <th>Annual_Income</th>\n",
       "      <th>Num_Bank_Accounts</th>\n",
       "      <th>Num_Credit_Card</th>\n",
       "      <th>Num_of_Delayed_Payment</th>\n",
       "      <th>Credit_Utilization_Ratio</th>\n",
       "      <th>Payment_of_Min_Amount</th>\n",
       "      <th>Total_EMI_per_month</th>\n",
       "      <th>Credit_Score</th>\n",
       "      <th>Type_of_Loan</th>\n",
       "      <th>Delay_from_due_date</th>\n",
       "      <th>Customer_ID</th>\n",
       "      <th>Credit_History_Age_Formated</th>\n",
       "    </tr>\n",
       "  </thead>\n",
       "  <tbody>\n",
       "    <tr>\n",
       "      <th>0</th>\n",
       "      <td>23.0</td>\n",
       "      <td>19114.12</td>\n",
       "      <td>3.0</td>\n",
       "      <td>4.0</td>\n",
       "      <td>7.0</td>\n",
       "      <td>26.822620</td>\n",
       "      <td>No</td>\n",
       "      <td>49.574949</td>\n",
       "      <td>Good</td>\n",
       "      <td>Auto Loan, Credit-Builder Loan, Personal Loan,...</td>\n",
       "      <td>3</td>\n",
       "      <td>CUS_0xd40</td>\n",
       "      <td>265.0</td>\n",
       "    </tr>\n",
       "    <tr>\n",
       "      <th>1</th>\n",
       "      <td>23.0</td>\n",
       "      <td>19114.12</td>\n",
       "      <td>3.0</td>\n",
       "      <td>4.0</td>\n",
       "      <td>6.0</td>\n",
       "      <td>31.944960</td>\n",
       "      <td>No</td>\n",
       "      <td>49.574949</td>\n",
       "      <td>Good</td>\n",
       "      <td>Auto Loan, Credit-Builder Loan, Personal Loan,...</td>\n",
       "      <td>-1</td>\n",
       "      <td>CUS_0xd40</td>\n",
       "      <td>266.0</td>\n",
       "    </tr>\n",
       "    <tr>\n",
       "      <th>2</th>\n",
       "      <td>23.0</td>\n",
       "      <td>19114.12</td>\n",
       "      <td>3.0</td>\n",
       "      <td>4.0</td>\n",
       "      <td>7.0</td>\n",
       "      <td>28.609352</td>\n",
       "      <td>No</td>\n",
       "      <td>49.574949</td>\n",
       "      <td>Good</td>\n",
       "      <td>Auto Loan, Credit-Builder Loan, Personal Loan,...</td>\n",
       "      <td>3</td>\n",
       "      <td>CUS_0xd40</td>\n",
       "      <td>267.0</td>\n",
       "    </tr>\n",
       "    <tr>\n",
       "      <th>3</th>\n",
       "      <td>23.0</td>\n",
       "      <td>19114.12</td>\n",
       "      <td>3.0</td>\n",
       "      <td>4.0</td>\n",
       "      <td>4.0</td>\n",
       "      <td>31.377862</td>\n",
       "      <td>No</td>\n",
       "      <td>49.574949</td>\n",
       "      <td>Good</td>\n",
       "      <td>Auto Loan, Credit-Builder Loan, Personal Loan,...</td>\n",
       "      <td>5</td>\n",
       "      <td>CUS_0xd40</td>\n",
       "      <td>268.0</td>\n",
       "    </tr>\n",
       "    <tr>\n",
       "      <th>4</th>\n",
       "      <td>23.0</td>\n",
       "      <td>19114.12</td>\n",
       "      <td>3.0</td>\n",
       "      <td>4.0</td>\n",
       "      <td>6.0</td>\n",
       "      <td>24.797347</td>\n",
       "      <td>No</td>\n",
       "      <td>49.574949</td>\n",
       "      <td>Good</td>\n",
       "      <td>Auto Loan, Credit-Builder Loan, Personal Loan,...</td>\n",
       "      <td>6</td>\n",
       "      <td>CUS_0xd40</td>\n",
       "      <td>269.0</td>\n",
       "    </tr>\n",
       "  </tbody>\n",
       "</table>\n",
       "</div>"
      ],
      "text/plain": [
       "    Age  Annual_Income  Num_Bank_Accounts  Num_Credit_Card  Num_of_Delayed_Payment  Credit_Utilization_Ratio Payment_of_Min_Amount  Total_EMI_per_month Credit_Score                                       Type_of_Loan  Delay_from_due_date Customer_ID  Credit_History_Age_Formated\n",
       "0  23.0       19114.12                3.0              4.0                     7.0                 26.822620                    No            49.574949         Good  Auto Loan, Credit-Builder Loan, Personal Loan,...                    3   CUS_0xd40                        265.0\n",
       "1  23.0       19114.12                3.0              4.0                     6.0                 31.944960                    No            49.574949         Good  Auto Loan, Credit-Builder Loan, Personal Loan,...                   -1   CUS_0xd40                        266.0\n",
       "2  23.0       19114.12                3.0              4.0                     7.0                 28.609352                    No            49.574949         Good  Auto Loan, Credit-Builder Loan, Personal Loan,...                    3   CUS_0xd40                        267.0\n",
       "3  23.0       19114.12                3.0              4.0                     4.0                 31.377862                    No            49.574949         Good  Auto Loan, Credit-Builder Loan, Personal Loan,...                    5   CUS_0xd40                        268.0\n",
       "4  23.0       19114.12                3.0              4.0                     6.0                 24.797347                    No            49.574949         Good  Auto Loan, Credit-Builder Loan, Personal Loan,...                    6   CUS_0xd40                        269.0"
      ]
     },
     "execution_count": 185,
     "metadata": {},
     "output_type": "execute_result"
    }
   ],
   "source": [
    "df.head()"
   ]
  },
  {
   "cell_type": "markdown",
   "metadata": {},
   "source": [
    "Just save the dataset so we can start with the clean version in the next notebook!"
   ]
  },
  {
   "cell_type": "code",
   "execution_count": 186,
   "metadata": {},
   "outputs": [],
   "source": [
    "df.to_csv('cleaned.csv', index=False)"
   ]
  }
 ],
 "metadata": {
  "kernelspec": {
   "display_name": "Python 3.10.4 ('meuCu')",
   "language": "python",
   "name": "python3"
  },
  "language_info": {
   "codemirror_mode": {
    "name": "ipython",
    "version": 3
   },
   "file_extension": ".py",
   "mimetype": "text/x-python",
   "name": "python",
   "nbconvert_exporter": "python",
   "pygments_lexer": "ipython3",
   "version": "3.11.7"
  },
  "orig_nbformat": 4,
  "vscode": {
   "interpreter": {
    "hash": "fb05663c9b7e54613e07a4fa7ae8478ea2659cd12b6d8abaf15e10e7a3e5161a"
   }
  }
 },
 "nbformat": 4,
 "nbformat_minor": 2
}
