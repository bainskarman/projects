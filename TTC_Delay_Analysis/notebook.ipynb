{
 "cells": [
  {
   "cell_type": "code",
   "execution_count": null,
   "metadata": {
    "vscode": {
     "languageId": "plaintext"
    }
   },
   "outputs": [],
   "source": [
    "import streamlit as st\n",
    "import pandas as pd\n",
    "import seaborn as sns\n",
    "import matplotlib.pyplot as plt\n",
    "import plotly.express as px\n",
    "import plotly.graph_objects as go\n",
    "import numpy as np\n",
    "from prophet import Prophet\n",
    "from ta.trend import ADXIndicator  # For ADX calculation\n",
    "import os\n",
    "from streamlit.components.v1 import html\n",
    "\n",
    "# Load data\n",
    "current_path = os.getcwd()\n",
    "path = os.path.join(current_path, 'TTC_Delay_Analysis/data.csv')\n",
    "df = pd.read_csv(path)\n",
    "\n",
    "# Convert 'Date' column to datetime and set as index\n",
    "df['Date'] = pd.to_datetime(df['Date'])\n",
    "df.set_index('Date', inplace=True)\n",
    "\n",
    "# Set page config\n",
    "st.set_page_config(layout='wide', page_title=\"TTC Delays Analysis Report\", page_icon=\"🚌\")\n",
    "\n",
    "# Custom CSS for better styling\n",
    "st.markdown(\"\"\"\n",
    "    <style>\n",
    "    .stApp {\n",
    "        background-color: #f5f5f5;\n",
    "    }\n",
    "    .stHeader {\n",
    "        color: #2c3e50;\n",
    "    }\n",
    "    .stSubheader {\n",
    "        color: #34495e;\n",
    "    }\n",
    "    .stMarkdown {\n",
    "        font-size: 16px;\n",
    "    }\n",
    "    .stButton>button {\n",
    "        background-color: #3498db;\n",
    "        color: white;\n",
    "        border-radius: 5px;\n",
    "        padding: 10px 20px;\n",
    "    }\n",
    "    </style>\n",
    "    \"\"\", unsafe_allow_html=True)\n",
    "\n",
    "# Title and Introduction\n",
    "st.title(\"🚌 TTC Delays Analysis Report\")\n",
    "st.markdown(\"\"\"\n",
    "    This report provides a comprehensive analysis of delays in the Toronto Transit Commission (TTC) system. \n",
    "    The analysis includes visualizations, insights, and forecasting to help understand and mitigate delays.\n",
    "    \"\"\")\n",
    "\n",
    "# Section 4: Rolling Average and ADX Analysis\n",
    "st.header(\"📈 Rolling Average and ADX Analysis\")\n",
    "\n",
    "# Convert 'Date' column to datetime and set as index\n",
    "df['Date'] = pd.to_datetime(df['Date'])\n",
    "df.set_index('Date', inplace=True)\n",
    "\n",
    "# Debug: Print the first few rows of the DataFrame\n",
    "st.write(\"Debug: First few rows of the DataFrame after setting 'Date' as index:\")\n",
    "st.write(df.head())\n",
    "\n",
    "# Calculate rolling average and ADX\n",
    "avg_delay_per_7_days = df['Min Delay'].resample('7D').mean()  # Resample by 7 days\n",
    "rolling_avg_30_days = avg_delay_per_7_days.rolling(window=4).mean()  # 30-day rolling average\n",
    "\n",
    "# Debug: Print the resampled data\n",
    "st.write(\"Debug: Resampled data (7-day average):\")\n",
    "st.write(avg_delay_per_7_days.head())\n",
    "\n",
    "# Calculate ADX\n",
    "adx_indicator = ADXIndicator(\n",
    "    high=avg_delay_per_7_days,  # Use the same series for high, low, and close\n",
    "    low=avg_delay_per_7_days,\n",
    "    close=avg_delay_per_7_days,\n",
    "    window=14\n",
    ")\n",
    "adx_values = adx_indicator.adx()\n",
    "\n",
    "# Debug: Print the ADX values\n",
    "st.write(\"Debug: ADX values:\")\n",
    "st.write(adx_values.head())\n",
    "\n",
    "# Plotting\n",
    "st.subheader(\"Rolling Average and ADX of Delays\")\n",
    "fig, ax = plt.subplots(figsize=(18, 6))\n",
    "ax.plot(rolling_avg_30_days.index, rolling_avg_30_days.values, label='30-Day Rolling Avg Min Delay')\n",
    "ax.plot(avg_delay_per_7_days.index, avg_delay_per_7_days.values, label='Average Min Delay per 7 Days', color='orange')\n",
    "ax.plot(adx_values.index, adx_values.values, label='ADX', color='red')\n",
    "ax.set_title('Average Min Delay per 7 Days with 30-Day Rolling Avg and ADX')\n",
    "ax.set_xlabel('Date')\n",
    "ax.set_ylabel('Average Min Delay / ADX')\n",
    "ax.legend()\n",
    "ax.grid(True)\n",
    "st.pyplot(fig)\n",
    "\n",
    "# Insights from Rolling Average and ADX\n",
    "st.header(\"🔍 Insights from Rolling Average and ADX\")\n",
    "st.markdown(\"\"\"\n",
    "    - **30-Day Rolling Average:** The rolling average smooths out short-term fluctuations, providing a clearer trend of delays over time.\n",
    "    - **ADX (Average Directional Index):** ADX measures the strength of the trend. Higher ADX values indicate stronger trends in delay patterns.\n",
    "    - **Trend Analysis:** Combining the rolling average and ADX helps identify periods of increasing or decreasing delays, aiding in proactive decision-making.\n",
    "    \"\"\")"
   ]
  },
  {
   "cell_type": "code",
   "execution_count": null,
   "metadata": {
    "vscode": {
     "languageId": "plaintext"
    }
   },
   "outputs": [],
   "source": [
    "import pandas"
   ]
  },
  {
   "cell_type": "code",
   "execution_count": null,
   "metadata": {
    "vscode": {
     "languageId": "plaintext"
    }
   },
   "outputs": [],
   "source": []
  }
 ],
 "metadata": {
  "language_info": {
   "name": "python"
  }
 },
 "nbformat": 4,
 "nbformat_minor": 2
}
