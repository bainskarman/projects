{
  "cells": [
    {
      "cell_type": "code",
      "execution_count": null,
      "metadata": {
        "id": "ESuvoWSloeyp"
      },
      "outputs": [],
      "source": [
        "import numpy as np \n",
        "import pandas as pd\n",
        "import matplotlib\n",
        "import matplotlib.pyplot as plt\n",
        "import matplotlib.dates as mdates\n",
        "from datetime import datetime\n",
        "import plotly.express as px"
      ]
    },
    {
      "cell_type": "code",
      "execution_count": null,
      "metadata": {
        "id": "VVt3Q3NLausF"
      },
      "outputs": [],
      "source": [
        "#Reading_Data\n",
        "Data_Dir = \"/workspaces/projects/Maintainance_Prediction\"\n",
        "\n",
        "telemetry_df = pd.read_csv(\"PdM_telemetry.csv\")\n",
        "errors_df = pd.read_csv(\"PdM_errors.csv\")\n",
        "maint_df = pd.read_csv(\"PdM_maint.csv\")\n",
        "failure_df = pd.read_csv(\"PdM_failures.csv\")\n",
        "machines_df = pd.read_csv(\"PdM_machines.csv\")\n",
        "\n",
        "#Date and Time Formatting, Sorting based on Date for better readability\n",
        "tables = [telemetry_df,errors_df,maint_df,failure_df]\n",
        "for df in tables:\n",
        "  df[\"datetime\"] = pd.to_datetime(df[\"datetime\"], format = \"%Y-%m-%d %H:%M:%S\")\n",
        "  df.sort_values([\"datetime\",\"machineID\"],inplace=True, ignore_index = True)"
      ]
    },
    {
      "cell_type": "code",
      "execution_count": null,
      "metadata": {
        "colab": {
          "base_uri": "https://localhost:8080/",
          "height": 205
        },
        "id": "_ldCs7thtZl2",
        "outputId": "8e27ac3e-b6e5-4447-dcd6-f4e6c9a7ce8e"
      },
      "outputs": [],
      "source": [
        "failure_df.head()"
      ]
    },
    {
      "cell_type": "markdown",
      "metadata": {
        "id": "cEIblaX6TUmp"
      },
      "source": [
        "**Telemetry Data**\n",
        "\n",
        "For more simplicity we will select a machine data that consist of hourly average of voltage, rotation, pressure, and vibration collected from 100 Machines.\n",
        "\n"
      ]
    },
    {
      "cell_type": "code",
      "execution_count": null,
      "metadata": {
        "colab": {
          "base_uri": "https://localhost:8080/",
          "height": 205
        },
        "id": "K8UKRUsqVXhX",
        "outputId": "82885120-72d1-41dc-dcd1-759260053b17"
      },
      "outputs": [],
      "source": [
        "#First few rows of Telemetry data for Machine 1\n",
        "telemetry_df[telemetry_df.machineID==1].head()"
      ]
    },
    {
      "cell_type": "code",
      "execution_count": null,
      "metadata": {
        "colab": {
          "base_uri": "https://localhost:8080/"
        },
        "id": "wDb9coG8Vris",
        "outputId": "d6accdb8-a329-436c-d18e-ac490376fd74"
      },
      "outputs": [],
      "source": [
        "#Machine Count\n",
        "telemetry_df.machineID.nunique()"
      ]
    },
    {
      "cell_type": "code",
      "execution_count": null,
      "metadata": {
        "colab": {
          "base_uri": "https://localhost:8080/"
        },
        "id": "czG6o8-bWZZW",
        "outputId": "b02caa72-eb28-48f1-a9f1-fdd3c44f2dee"
      },
      "outputs": [],
      "source": [
        "telemetry_df['datetime'] = pd.to_datetime(\n",
        "    telemetry_df['datetime'], format=\"%Y-%m-%d %H:%M:%S\")\n",
        "\n",
        "print(\"Total number of telemetry records: %d\" % len(telemetry_df.index))\n",
        "\n",
        "telemetry_df.describe()"
      ]
    },
    {
      "cell_type": "code",
      "execution_count": null,
      "metadata": {
        "colab": {
          "base_uri": "https://localhost:8080/"
        },
        "id": "dOWxBoAbWi5i",
        "outputId": "79964b89-34a6-4881-ea1d-995f20cd0ed7"
      },
      "outputs": [],
      "source": [
        "telemetry_duplicates = telemetry_df[telemetry_df.duplicated(['datetime', 'machineID'])]\n",
        "telemetry_duplicates"
      ]
    },
    {
      "cell_type": "code",
      "execution_count": null,
      "metadata": {
        "colab": {
          "base_uri": "https://localhost:8080/"
        },
        "id": "1tquyHw-WaS_",
        "outputId": "ba260bc2-faed-4843-a479-1171591812e1"
      },
      "outputs": [],
      "source": [
        "#Check Null Values\n",
        "telemetry_df.isnull().sum()"
      ]
    },
    {
      "cell_type": "code",
      "execution_count": null,
      "metadata": {
        "colab": {
          "base_uri": "https://localhost:8080/",
          "height": 224
        },
        "id": "p1x1ergrlICy",
        "outputId": "a9ad8607-10c2-4b84-9d51-61287e12ed77"
      },
      "outputs": [],
      "source": [
        "#Let's assume machineID as 10\n",
        "print(f\"Shape of the Telemetry Record: {telemetry_df.shape}\")\n",
        "df_sin = telemetry_df.loc[telemetry_df['machineID']==10].reset_index(drop=True)\n",
        "df_sin.head(n=5)"
      ]
    },
    {
      "cell_type": "code",
      "execution_count": null,
      "metadata": {
        "colab": {
          "base_uri": "https://localhost:8080/",
          "height": 205
        },
        "id": "jvGhP69HVK-N",
        "outputId": "5dfd6856-ba90-435f-d2aa-0681817469e7"
      },
      "outputs": [],
      "source": [
        "#Failure record of Machine 10\n",
        "sel_fail = failure_df.loc[failure_df['machineID']==10]\n",
        "pd.DataFrame(sel_fail)"
      ]
    },
    {
      "cell_type": "code",
      "execution_count": null,
      "metadata": {
        "colab": {
          "base_uri": "https://localhost:8080/",
          "height": 205
        },
        "id": "3rVgXzLzgaEo",
        "outputId": "4e2594f1-8045-41b1-ccf5-e016ddd27bd1"
      },
      "outputs": [],
      "source": [
        "#Error Record of Machine 10\n",
        "sel_err = errors_df.loc[errors_df['machineID']==10]\n",
        "pd.DataFrame(sel_err).head()"
      ]
    },
    {
      "cell_type": "code",
      "execution_count": null,
      "metadata": {
        "colab": {
          "base_uri": "https://localhost:8080/",
          "height": 302
        },
        "id": "NGMg5D2BguVw",
        "outputId": "5d0d7d60-ebcf-430d-9897-27c2e60055de"
      },
      "outputs": [],
      "source": [
        "#Voltage of machine 1 for 1 month only\n",
        "plot_df = telemetry_df.loc[(telemetry_df['machineID'] == 1) &\n",
        "                        (telemetry_df['datetime'] > pd.to_datetime('2015-01-01')) &\n",
        "                        (telemetry_df['datetime'] < pd.to_datetime('2015-02-01')), ['datetime', 'volt']]\n",
        "fig = px.line(x=plot_df['datetime'].values, y=plot_df['volt'].values, title='Voltage over time', template='plotly_dark')\n",
        "fig.update_layout(xaxis_title='Time', yaxis_title='Voltage')\n",
        "fig.show()"
      ]
    },
    {
      "cell_type": "code",
      "execution_count": null,
      "metadata": {
        "colab": {
          "base_uri": "https://localhost:8080/",
          "height": 337
        },
        "id": "l56x0NsDyf2q",
        "outputId": "bcc6f794-54da-4a89-89a1-9995ac7b382c"
      },
      "outputs": [],
      "source": [
        "errors_df['datetime'] = pd.to_datetime(\n",
        "    errors_df['datetime'], format=\"%Y-%m-%d %H:%M:%S\")\n",
        "errors_df['errorID'] = errors_df['errorID'].astype('object')\n",
        "\n",
        "print(\"Total number of error records: %d\" % len(errors_df.index))\n",
        "errors_df.head()"
      ]
    },
    {
      "cell_type": "code",
      "execution_count": null,
      "metadata": {
        "colab": {
          "base_uri": "https://localhost:8080/",
          "height": 337
        },
        "id": "iGAxSJPj7WxN",
        "outputId": "a2a96699-23cc-4e56-fd6b-452792df806e"
      },
      "outputs": [],
      "source": [
        "fig = px.bar(x=errors_df['errorID'].values,\n",
        "             title='Count of Errors', template='plotly_dark', color=errors_df['errorID'].values)\n",
        "fig.update_layout(xaxis_title='Error Type', yaxis_title='Count')\n",
        "fig.show()"
      ]
    },
    {
      "cell_type": "code",
      "execution_count": null,
      "metadata": {},
      "outputs": [],
      "source": [
        "maint_df['datetime'] = pd.to_datetime(\n",
        "    maint_df['datetime'], format=\"%Y-%m-%d %H:%M:%S\")\n",
        "maint_df['comp'] = maint_df['comp'].astype('object')\n",
        "\n",
        "print(\"Total number of maintenance records: %d\" % len(main_df.index))\n",
        "maint_df.head()"
      ]
    },
    {
      "cell_type": "code",
      "execution_count": null,
      "metadata": {
        "colab": {
          "base_uri": "https://localhost:8080/",
          "height": 1000
        },
        "id": "1ywMVesf85Ep",
        "outputId": "b33c8319-81d3-478d-e1bd-a43b3ac41c1e"
      },
      "outputs": [],
      "source": [
        "features = ['volt', 'rotate', 'pressure', 'vibration']\n",
        "\n",
        "# Loop through each feature and plot histogram\n",
        "for feature in features:\n",
        "    fig = px.histogram(telemetry_df, x=feature, title=f'Histogram for {feature}', template='plotly_dark')\n",
        "    fig.update_layout(xaxis_title=feature, yaxis_title='Frequency')\n",
        "    fig.show()"
      ]
    }
  ],
  "metadata": {
    "colab": {
      "authorship_tag": "ABX9TyPC9xqrNfJtQ8O9FWxAVKDn",
      "include_colab_link": true,
      "mount_file_id": "122Z-GEbhZM_Xmxb5BKwt1OrJEobtME0F",
      "name": "Predictive_Maintenance.ipynb",
      "provenance": []
    },
    "kernelspec": {
      "display_name": "Python 3",
      "name": "python3"
    },
    "language_info": {
      "codemirror_mode": {
        "name": "ipython",
        "version": 3
      },
      "file_extension": ".py",
      "mimetype": "text/x-python",
      "name": "python",
      "nbconvert_exporter": "python",
      "pygments_lexer": "ipython3",
      "version": "3.10.13"
    }
  },
  "nbformat": 4,
  "nbformat_minor": 0
}
