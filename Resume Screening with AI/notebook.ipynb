{
 "cells": [
  {
   "cell_type": "code",
   "execution_count": 7,
   "metadata": {},
   "outputs": [
    {
     "name": "stdout",
     "output_type": "stream",
     "text": [
      "WARNING:tensorflow:From c:\\Users\\bains\\anaconda3\\envs\\env_nw\\Lib\\site-packages\\tf_keras\\src\\losses.py:2976: The name tf.losses.sparse_softmax_cross_entropy is deprecated. Please use tf.compat.v1.losses.sparse_softmax_cross_entropy instead.\n",
      "\n"
     ]
    }
   ],
   "source": [
    "from sentence_transformers import SentenceTransformer, util\n",
    "\n",
    "def calculateATSscore_with_bert(resume_data, job_description):\n",
    "    model = SentenceTransformer('paraphrase-MiniLM-L6-v2')  # Pre-trained BERT model\n",
    "    resume_embedding = model.encode(resume_data)\n",
    "    job_desc_embedding = model.encode(job_description)\n",
    "    similarity_value = util.cos_sim(resume_embedding, job_desc_embedding)\n",
    "    return similarity_value.item()"
   ]
  },
  {
   "cell_type": "code",
   "execution_count": 31,
   "metadata": {},
   "outputs": [],
   "source": [
    "import csv\n",
    "import io\n",
    "import requests\n",
    "import json\n",
    "import html  # For escaping HTML characters\n",
    "from bs4 import BeautifulSoup\n",
    "from openai import OpenAI \n",
    "\n",
    "# Initialize OpenAI API with Nvidia's Llama 3.1 70b nemotron model\n",
    "client = OpenAI(\n",
    "    base_url=\"https://integrate.api.nvidia.com/v1\",\n",
    "    api_key=\"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\"\n",
    ")\n",
    "\n",
    "def clean_text_output(text):\n",
    "    \"\"\"\n",
    "    Cleans the output to handle HTML characters and unwanted tags.\n",
    "    \"\"\"\n",
    "    text = html.unescape(text)  # Unescape HTML entities\n",
    "    soup = BeautifulSoup(text, 'html.parser')  # Use BeautifulSoup to handle HTML tags\n",
    "    cleaned_text = soup.get_text(separator=\"\\n\").strip()  # Remove tags and handle newlines\n",
    "    return cleaned_text\n",
    "\n",
    "def modelFeedback(ats_score, resume_data, job_description):\n",
    "    input_prompt = f\"\"\"\n",
    "    You are now an ATS Score analyzer and given ATS Score is {int(ats_score * 100)}%. \n",
    "    Your task is to provide feedback to the user based on the ATS score.\n",
    "    Print ATS score first. Mention where the resume is good and where the resume lacks. \n",
    "    Show list of missing skills and suggest improvements. \n",
    "    Show list of weak action verbs and suggest improvements.\n",
    "    Show weaker sentences and suggest improvements.\n",
    "    Talk about each section of the user's resume and discuss good and bad points of it only if it has any. \n",
    "    Resume Data: {resume_data}\n",
    "    Job Description: {job_description}\n",
    "    \"\"\"\n",
    "\n",
    "    try:\n",
    "        # Generate response using the OpenAI API\n",
    "        response = client.chat.completions.create(\n",
    "            model=\"nvidia/llama-3.1-nemotron-70b-instruct\",  # Using Llama 3.1 70b\n",
    "            messages=[\n",
    "                {\"role\": \"user\", \"content\": input_prompt}\n",
    "            ],\n",
    "            temperature=0.03,  # Lowering temperature for precise output\n",
    "            top_p=0.7,  # Prioritize high-probability tokens\n",
    "            max_tokens=700,  # Allow longer content\n",
    "        )\n",
    "\n",
    "        # Extract and clean the response\n",
    "        feedback_text = response.choices[0].message.content.strip()  # Corrected line\n",
    "        cleaned_feedback = clean_text_output(feedback_text)\n",
    "\n",
    "        return cleaned_feedback\n",
    "\n",
    "    except requests.exceptions.RequestException as e:\n",
    "        print(f\"API request failed: {str(e)}\")\n",
    "        return \"Error: Unable to generate feedback.\""
   ]
  },
  {
   "cell_type": "code",
   "execution_count": 32,
   "metadata": {},
   "outputs": [
    {
     "data": {
      "text/plain": [
       "'**ATS Score: 50%**\\n\\n**Overall Feedback:**\\nYour resume has shown strengths in showcasing technical skills and experience in data science, particularly in machine learning and data visualization. However, to improve your ATS score and increase the chances of passing through the applicant tracking system, focus on enhancing your resume\\'s alignment with the job description, highlighting soft skills, and refining the structure for better readability.\\n\\n**Where the Resume is Good:**\\n\\n1. **Technical Skills:** Your resume effectively lists a wide range of relevant technical skills, including programming languages, database management, NLP, machine learning, data visualization, and project management tools.\\n2. **Specific Achievements:** You\\'ve quantified achievements in your professional experience, such as \"reduced load by 10%,\" \"85% accuracy,\" and \"saving 10 hrs on manual extractions,\" which demonstrates impact.\\n\\n**Where the Resume Lacks:**\\n\\n1. **Alignment with Job Description:** While your resume showcases technical prowess, it doesn\\'t explicitly align with all the job\\'s requirements (e.g., predictive and prescriptive analytics, staying abreast of industry developments).\\n2. **Soft Skills and Personal Qualities:** The resume could benefit from highlighting your analytical, problem-solving, communication, and collaboration skills, which are crucial for a Data Scientist role.\\n3. **Education:** The job requires a Master\\'s or Ph.D. in a quantitative field, but your highest listed education is a Bachelor\\'s in Computer Engineering and a Certification in AI and ML.\\n\\n**Missing Skills (Based on Job Description):**\\n\\n1. **Big Data Technologies:** Experience with Hadoop, Spark, or similar.\\n2. **Cloud Computing Platforms:** Explicit mention of Google Cloud, AWS, Azure (beyond just Google Cloud).\\n3. **Deep Learning Frameworks:** While you mention TensorFlow, PyTorch is also preferred.\\n4. **Predictive and Prescriptive Analytics:** Explicit experience in these areas.\\n\\n**Suggestions for Improvements:**\\n\\n- **Tailor Your Resume:** Ensure each bullet point in your experience section directly corresponds to a requirement from the job description.\\n- **Highlight Soft Skills:** Incorporate examples that demonstrate your analytical, problem-solving, communication, and collaboration skills.\\n- **Educational Enhancement:** If pursuing or considering further education, highlight this. If not, focus on how your current education and certifications align with the role.\\n- **Expand on Missing Skills:** If you have experience with any of the missing skills, incorporate them. Otherwise, consider gaining experience or certifications in these areas.\\n\\n**Weak Action Verbs and Suggestions:**\\n\\n1. **Original:** \"Orchestrated high-performance data pipelines\"\\n   **Suggestion:** \"Designed and Implemented\" (to show a clearer action and outcome)\\n\\n2. **Original:** \"Pioneered an NLP-based de-identification script\"\\n   **Suggestion:** \"Developed and Successfully Deployed\" (for clarity on execution and impact)\\n\\n**Weaker Sentences and Suggestions:**\\n\\n1. **Original:** \"Extended contract and became focal point for 14 airlines and GSPs, managing client relationships.\"\\n   **Suggestion:** \"Successfully Extended Contract Through Exceptional Performance, Assuming Key Account Management Role for 14 Airlines and GSPs, Enhancing Client Satisfaction.\"\\n\\n**Section-by-Section Analysis:**\\n\\n- **PROFESSIONAL EXPERIENCE:**\\n  - **Good:** Quantified achievements, variety of technical skills showcased.\\n  - **Bad:** Could better align with job description'"
      ]
     },
     "execution_count": 32,
     "metadata": {},
     "output_type": "execute_result"
    }
   ],
   "source": [
    "a =  modelFeedback(ats_score, resume_data, job_description)\n",
    "a"
   ]
  },
  {
   "cell_type": "code",
   "execution_count": 23,
   "metadata": {},
   "outputs": [],
   "source": [
    "ats_score = 0.5"
   ]
  },
  {
   "cell_type": "code",
   "execution_count": null,
   "metadata": {},
   "outputs": [],
   "source": [
    "resume_data = \"\"\" PROFESSIONAL EXPERIENCE\n",
    "International Air Transport Association (IATA) Canada\n",
    "Data Scientist (Global Aviation Data Management Intern) May 2024 - Present\n",
    "- Orchestrated high-performance data pipelines with Snowflake, Talend, and Python, unifying data from 300+ airlines and GSPs.\n",
    "- Crafted data transformation and quality assurance scripts that optimized Talend workflows and reduced load by 10%.\n",
    "- Pioneered an NLP-based de-identification script with 85% accuracy, integrating AI model for data submission to Snowflake.\n",
    "- Streamlined client analysis, integrating 5 data sources into Power BI dashboards via Python scripting, reducing manual workload.\n",
    "- Executed data analysis for clients by extracting SQL data (up to 500k) and delivering insights through Power BI dashboards.\n",
    "- Collaborated with the R&D team to build a Streamlit-based data app, saving 10 hrs on manual extractions and real-time analysis delivery.\n",
    "- Architected an LSTM model for incident classification by aligning descriptors with company's standards, achieving 90% accuracy.\n",
    "- Extended contract and became focal point for 14 airlines and GSPs, managing client relationships.\n",
    "AENIX Remote\n",
    "Data Analyst (Industrial Automation Analyst) January 2021 - November 2022\n",
    "- Refined an intelligent BI system to categorize customers into 4 groups based on product usage, enhancing marketing efforts.\n",
    "- Optimized machine learning models for component compatibility testing, achieving 90% accuracy across 1,000+ components.\n",
    "- Produced weekly reports for non-technical clients, collaborating with engineers and managers to improve customer satisfaction by 12%.\n",
    "- Automated the weekly KPIs and KPVs with Power BI dashboards, eliminating the manual reporting process and saving 3 days per week.\n",
    "- Recognized with Esto Excellence Award for contributions, resulting in full-time promotion within 6 months.\n",
    "EDUCATION\n",
    "Lambton College, Canada January 2023 - September 2024\n",
    "Certification, Artificial Intelligence and Machine Learning\n",
    "Chandigarh Engineering College, Chandigarh June 2017 - September 2021\n",
    "Bachelor's, Computer Engineering\n",
    "SKILLS\n",
    "Programming Languages: Python (Pandas, NumPy), SQL (MySQL, PostgresSQL)\n",
    "Database Management: Data Pipelines, Talend, MS SQL Server, Snowflake\n",
    "Natural Language Processing: Gensim, NLTK, Spacy, Text Mining, Sentiment Analysis, Topic Modelling\n",
    "Machine Learning and Deep Learning: Keras, TensorFlow, Sklearn (Supervised, Unsupervised)\n",
    "Data Visualization: Power BI, Tableau, Matplotlib, Plotly, Seaborn\n",
    "Project Management: JIRA, Salesforce\n",
    "Cloud and Version Control: Git, Google Cloud, Bitbucket, S3 Bucket\n",
    "CERTIFICATIONS\n",
    "IBM Data Analyst Professional Certificate: Data Science, Excel, IBM Cloud, SQL, Python, Statistics, DAX\n",
    "IBM AI Engineer Professional Certificate: Machine Learning, Deep Learning, Natural Language Processing, Computer Vision\n",
    "PUBLICATIONS\n",
    "Bains, K. S., et al. (2023). Alzheimer's diagnostic with OASIS, STEM Fellowship Journal, p. 5, para. 2.\n",
    "PROJECTS\n",
    "Toronto Transit Performance Analysis - Link to project\n",
    "LSTM, Prophet, Data Visualization and Tableau\n",
    "- Developed forecasting models and 15 visualizations to communicate bus delay patterns, trends, and insights in a comprehensive analysis\n",
    "report with predictions for next year's delays.\n",
    "Credit Score Estimator - Link to project\n",
    "Machine Learning, Deep Learning, App Deployment and Streamlit\n",
    "- Deployed an interactive Streamlit app for real-time credit score analysis, achieving approximately 85% accuracy with embedded insights\n",
    "on the top 10 weighted features.\"\"\""
   ]
  },
  {
   "cell_type": "code",
   "execution_count": 24,
   "metadata": {},
   "outputs": [],
   "source": [
    "job_description = \"\"\"Job Title: Data Scientist\n",
    "Company: XYZ Corporation\n",
    "Location: Mountain View, CA (for illustrative purposes only)\n",
    "\n",
    "Job Overview:\n",
    "\n",
    "XYZ Corporation is seeking a highly skilled and motivated Data Scientist to join our dynamic team. As a Data Scientist, you will play a key role in extracting valuable insights from our vast datasets to drive informed decision-making and contribute to the company's success. This role involves leveraging advanced analytics and machine learning techniques to solve complex business problems.\n",
    "\n",
    "Responsibilities:\n",
    "\n",
    "Develop and implement machine learning models for predictive and prescriptive analytics.\n",
    "Analyze large datasets to identify trends, patterns, and correlations that can inform business strategies.\n",
    "Collaborate with cross-functional teams to understand business requirements and provide data-driven solutions.\n",
    "Design and implement experiments to validate hypotheses and improve model performance.\n",
    "Stay abreast of the latest developments in data science, machine learning, and industry best practices.\n",
    "Present findings and insights to both technical and non-technical stakeholders in a clear and concise manner.\n",
    "Ensure the quality, reliability, and integrity of data used for analysis.\n",
    "Qualifications:\n",
    "\n",
    "Master's or Ph.D. in a quantitative field such as Computer Science, Statistics, or related discipline.\n",
    "Proven experience as a Data Scientist with a strong track record of successfully applying machine learning techniques to real-world problems.\n",
    "Proficiency in programming languages such as Python or R.\n",
    "Solid understanding of statistical concepts and techniques.\n",
    "Strong analytical and problem-solving skills.\n",
    "Excellent communication and collaboration skills.\n",
    "Preferred Skills:\n",
    "\n",
    "Experience with big data technologies such as Hadoop, Spark, or similar.\n",
    "Knowledge of cloud computing platforms (e.g., Google Cloud, AWS, Azure).\n",
    "Familiarity with deep learning frameworks (e.g., TensorFlow, PyTorch).\n",
    "Previous experience in the tech industry.\n",
    "Benefits:\n",
    "\n",
    "Competitive salary and performance-based bonuses.\n",
    "Comprehensive health, dental, and vision insurance.\n",
    "401(k) retirement plan.\n",
    "Professional development opportunities.\n",
    "Flexible work hours and remote work options.\n",
    "This is just a generic example, and actual job descriptions may vary. It's important to carefully read and understand the specific requirements and expectations outlined in the job postings of the companies you are interested in.\"\"\""
   ]
  },
  {
   "cell_type": "code",
   "execution_count": null,
   "metadata": {},
   "outputs": [],
   "source": []
  }
 ],
 "metadata": {
  "kernelspec": {
   "display_name": "env_nw",
   "language": "python",
   "name": "python3"
  },
  "language_info": {
   "codemirror_mode": {
    "name": "ipython",
    "version": 3
   },
   "file_extension": ".py",
   "mimetype": "text/x-python",
   "name": "python",
   "nbconvert_exporter": "python",
   "pygments_lexer": "ipython3",
   "version": "3.12.5"
  }
 },
 "nbformat": 4,
 "nbformat_minor": 2
}
