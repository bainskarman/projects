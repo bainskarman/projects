{
 "cells": [
  {
   "cell_type": "code",
   "execution_count": 26,
   "id": "cc3c22c9",
   "metadata": {},
   "outputs": [],
   "source": [
    "import pandas as pd\n",
    "import numpy as np\n",
    "from sklearn.model_selection import train_test_split\n",
    "from sklearn.preprocessing import StandardScaler, OneHotEncoder\n",
    "from sklearn.compose import ColumnTransformer\n",
    "from sklearn.pipeline import Pipeline\n",
    "from sklearn.ensemble import RandomForestClassifier\n",
    "from sklearn.impute import SimpleImputer\n",
    "from sklearn.metrics import classification_report\n",
    "import joblib\n",
    "\n",
    "# 1. Load and clean data\n",
    "df = pd.read_csv('/workspaces/projects/CustomerChurn/WA_Fn-UseC_-Telco-Customer-Churn.csv')\n",
    "\n",
    "# Convert empty strings to NaN and clean numerical columns\n",
    "for col in ['tenure', 'MonthlyCharges', 'TotalCharges']:\n",
    "    df[col] = pd.to_numeric(df[col].replace(' ', np.nan), errors='coerce')\n",
    "\n",
    "# Convert target variable\n",
    "df['Churn'] = df['Churn'].map({'Yes': 1, 'No': 0})\n",
    "\n",
    "# 2. Split data\n",
    "X = df.drop(['Churn', 'customerID'], axis=1)  # Drop ID column\n",
    "y = df['Churn']\n",
    "X_train, X_test, y_train, y_test = train_test_split(X, y, test_size=0.2, random_state=42)\n",
    "\n",
    "# 3. Define feature types\n",
    "numerical_features = ['tenure', 'MonthlyCharges', 'TotalCharges']\n",
    "categorical_features = [\n",
    "    'gender', 'Partner', 'Dependents', 'PhoneService', \n",
    "    'MultipleLines', 'InternetService', 'OnlineSecurity', \n",
    "    'OnlineBackup', 'DeviceProtection', 'TechSupport',\n",
    "    'StreamingTV', 'StreamingMovies', 'Contract', \n",
    "    'PaperlessBilling', 'PaymentMethod'\n",
    "]\n",
    "binary_features = ['SeniorCitizen']\n",
    "\n",
    "# 4. Create preprocessing pipelines\n",
    "numerical_transformer = Pipeline(steps=[\n",
    "    ('imputer', SimpleImputer(strategy='median')),\n",
    "    ('scaler', StandardScaler())\n",
    "])\n",
    "\n",
    "categorical_transformer = Pipeline(steps=[\n",
    "    ('imputer', SimpleImputer(strategy='constant', fill_value='missing')),\n",
    "    ('onehot', OneHotEncoder(handle_unknown='ignore'))\n",
    "])\n",
    "\n",
    "binary_transformer = Pipeline(steps=[\n",
    "    ('imputer', SimpleImputer(strategy='most_frequent'))\n",
    "])\n",
    "\n",
    "# 5. Combine preprocessing steps\n",
    "preprocessor = ColumnTransformer(\n",
    "    transformers=[\n",
    "        ('num', numerical_transformer, numerical_features),\n",
    "        ('cat', categorical_transformer, categorical_features),\n",
    "        ('binary', binary_transformer, binary_features)\n",
    "    ]\n",
    ")\n",
    "\n",
    "# 6. Create and train model pipeline\n",
    "pipeline = Pipeline(steps=[\n",
    "    ('preprocessor', preprocessor),\n",
    "    ('classifier', RandomForestClassifier(\n",
    "        class_weight='balanced',\n",
    "        random_state=42,\n",
    "        n_estimators=150,\n",
    "        max_depth=10\n",
    "    ))\n",
    "])"
   ]
  },
  {
   "cell_type": "code",
   "execution_count": 27,
   "id": "981f6ec4",
   "metadata": {},
   "outputs": [
    {
     "name": "stdout",
     "output_type": "stream",
     "text": [
      "              precision    recall  f1-score   support\n",
      "\n",
      "           0       0.89      0.81      0.85      1036\n",
      "           1       0.58      0.73      0.65       373\n",
      "\n",
      "    accuracy                           0.79      1409\n",
      "   macro avg       0.74      0.77      0.75      1409\n",
      "weighted avg       0.81      0.79      0.80      1409\n",
      "\n"
     ]
    },
    {
     "data": {
      "text/plain": [
       "['churn_pipeline_v2.pkl']"
      ]
     },
     "execution_count": 27,
     "metadata": {},
     "output_type": "execute_result"
    }
   ],
   "source": [
    "# 7. Train the model\n",
    "pipeline.fit(X_train, y_train)\n",
    "\n",
    "# 8. Evaluate\n",
    "y_pred = pipeline.predict(X_test)\n",
    "print(classification_report(y_test, y_pred))\n",
    "\n",
    "# 9. Save the pipeline\n",
    "joblib.dump(pipeline, 'churn_pipeline_v2.pkl')"
   ]
  },
  {
   "cell_type": "code",
   "execution_count": null,
   "id": "89e71323",
   "metadata": {},
   "outputs": [],
   "source": []
  }
 ],
 "metadata": {
  "kernelspec": {
   "display_name": "Python 3",
   "language": "python",
   "name": "python3"
  },
  "language_info": {
   "codemirror_mode": {
    "name": "ipython",
    "version": 3
   },
   "file_extension": ".py",
   "mimetype": "text/x-python",
   "name": "python",
   "nbconvert_exporter": "python",
   "pygments_lexer": "ipython3",
   "version": "3.12.1"
  }
 },
 "nbformat": 4,
 "nbformat_minor": 5
}
