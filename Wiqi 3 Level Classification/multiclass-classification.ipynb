{
 "cells": [
  {
   "cell_type": "code",
   "execution_count": 1,
   "metadata": {
    "execution": {
     "iopub.execute_input": "2024-10-01T02:33:59.025513Z",
     "iopub.status.busy": "2024-10-01T02:33:59.024818Z",
     "iopub.status.idle": "2024-10-01T02:34:00.888074Z",
     "shell.execute_reply": "2024-10-01T02:34:00.887226Z",
     "shell.execute_reply.started": "2024-10-01T02:33:59.025473Z"
    },
    "trusted": true
   },
   "outputs": [],
   "source": [
    "import numpy as np\n",
    "import pandas as pd\n",
    "import re\n",
    "import nltk\n",
    "from nltk.corpus import stopwords\n",
    "from nltk.stem import WordNetLemmatizer\n",
    "from nltk.tokenize import word_tokenize\n",
    "import matplotlib.pyplot as plt\n",
    "import seaborn as sns"
   ]
  },
  {
   "cell_type": "code",
   "execution_count": 2,
   "metadata": {
    "execution": {
     "iopub.execute_input": "2024-10-01T02:34:00.890016Z",
     "iopub.status.busy": "2024-10-01T02:34:00.889632Z",
     "iopub.status.idle": "2024-10-01T02:34:13.603762Z",
     "shell.execute_reply": "2024-10-01T02:34:13.602836Z",
     "shell.execute_reply.started": "2024-10-01T02:34:00.889982Z"
    },
    "trusted": true
   },
   "outputs": [
    {
     "name": "stderr",
     "output_type": "stream",
     "text": [
      "2024-10-19 04:16:06.232837: I external/local_xla/xla/tsl/cuda/cudart_stub.cc:32] Could not find cuda drivers on your machine, GPU will not be used.\n",
      "2024-10-19 04:16:06.236099: I external/local_xla/xla/tsl/cuda/cudart_stub.cc:32] Could not find cuda drivers on your machine, GPU will not be used.\n",
      "2024-10-19 04:16:06.245241: E external/local_xla/xla/stream_executor/cuda/cuda_fft.cc:485] Unable to register cuFFT factory: Attempting to register factory for plugin cuFFT when one has already been registered\n",
      "2024-10-19 04:16:06.259743: E external/local_xla/xla/stream_executor/cuda/cuda_dnn.cc:8454] Unable to register cuDNN factory: Attempting to register factory for plugin cuDNN when one has already been registered\n",
      "2024-10-19 04:16:06.264316: E external/local_xla/xla/stream_executor/cuda/cuda_blas.cc:1452] Unable to register cuBLAS factory: Attempting to register factory for plugin cuBLAS when one has already been registered\n",
      "2024-10-19 04:16:06.276780: I tensorflow/core/platform/cpu_feature_guard.cc:210] This TensorFlow binary is optimized to use available CPU instructions in performance-critical operations.\n",
      "To enable the following instructions: AVX2 FMA, in other operations, rebuild TensorFlow with the appropriate compiler flags.\n",
      "2024-10-19 04:16:07.432485: W tensorflow/compiler/tf2tensorrt/utils/py_utils.cc:38] TF-TRT Warning: Could not find TensorRT\n"
     ]
    }
   ],
   "source": [
    "from sklearn.preprocessing import LabelEncoder\n",
    "from tensorflow.keras.preprocessing.sequence import pad_sequences\n",
    "from tensorflow.keras.preprocessing.text import Tokenizer\n",
    "from tensorflow.keras.models import Sequential\n",
    "from tensorflow.keras.layers import LSTM, Dense, Dropout, Conv1D, MaxPooling1D, GlobalMaxPooling1D\n",
    "from tensorflow.keras.layers import Bidirectional, BatchNormalization, Input\n",
    "from tensorflow.keras.callbacks import EarlyStopping, ModelCheckpoint"
   ]
  },
  {
   "cell_type": "code",
   "execution_count": 5,
   "metadata": {
    "execution": {
     "iopub.execute_input": "2024-10-01T02:34:13.605559Z",
     "iopub.status.busy": "2024-10-01T02:34:13.604960Z",
     "iopub.status.idle": "2024-10-01T02:34:13.617285Z",
     "shell.execute_reply": "2024-10-01T02:34:13.615970Z",
     "shell.execute_reply.started": "2024-10-01T02:34:13.605516Z"
    },
    "trusted": true
   },
   "outputs": [
    {
     "name": "stdout",
     "output_type": "stream",
     "text": [
      "/kaggle/input/dbpedia-classes/DBP_wiki_data.csv\n",
      "/kaggle/input/dbpedia-classes/DBPEDIA_test.csv\n",
      "/kaggle/input/dbpedia-classes/DBPEDIA_val.csv\n",
      "/kaggle/input/dbpedia-classes/DBPEDIA_train.csv\n",
      "/kaggle/input/vectors-glove-300d/other/default/1/glove.6B.300d.txt\n"
     ]
    }
   ],
   "source": [
    "import os\n",
    "for dirname, _, filenames in os.walk('/kaggle/input'):\n",
    "    for filename in filenames:\n",
    "        print(os.path.join(dirname, filename))"
   ]
  },
  {
   "cell_type": "code",
   "execution_count": 7,
   "metadata": {
    "execution": {
     "iopub.execute_input": "2024-10-01T02:35:07.665568Z",
     "iopub.status.busy": "2024-10-01T02:35:07.664622Z",
     "iopub.status.idle": "2024-10-01T02:35:13.201908Z",
     "shell.execute_reply": "2024-10-01T02:35:13.200826Z",
     "shell.execute_reply.started": "2024-10-01T02:35:07.665519Z"
    },
    "trusted": true
   },
   "outputs": [],
   "source": [
    "df_train = pd.read_csv('/kaggle/input/dbpedia-classes/DBPEDIA_train.csv')\n",
    "df_test = pd.read_csv('/kaggle/input/dbpedia-classes/DBPEDIA_test.csv')\n",
    "df_val = pd.read_csv('/kaggle/input/dbpedia-classes/DBPEDIA_val.csv')"
   ]
  },
  {
   "cell_type": "code",
   "execution_count": 8,
   "metadata": {
    "execution": {
     "iopub.execute_input": "2024-10-01T02:35:15.734937Z",
     "iopub.status.busy": "2024-10-01T02:35:15.734547Z",
     "iopub.status.idle": "2024-10-01T02:35:15.742749Z",
     "shell.execute_reply": "2024-10-01T02:35:15.741763Z",
     "shell.execute_reply.started": "2024-10-01T02:35:15.734906Z"
    },
    "trusted": true
   },
   "outputs": [
    {
     "data": {
      "text/plain": [
       "\"df_train=pd.read_csv('DBPEDIA_train.csv',encoding='utf-8-sig')\\ndf_test=pd.read_csv('DBPEDIA_test.csv',encoding='utf-8-sig')\\ndf_val=pd.read_csv('DBPEDIA_val.csv',encoding='utf-8-sig')\""
      ]
     },
     "execution_count": 8,
     "metadata": {},
     "output_type": "execute_result"
    }
   ],
   "source": [
    "'''df_train=pd.read_csv('DBPEDIA_train.csv',encoding='utf-8-sig')\n",
    "df_test=pd.read_csv('DBPEDIA_test.csv',encoding='utf-8-sig')\n",
    "df_val=pd.read_csv('DBPEDIA_val.csv',encoding='utf-8-sig')'''"
   ]
  },
  {
   "cell_type": "code",
   "execution_count": 9,
   "metadata": {
    "execution": {
     "iopub.execute_input": "2024-10-01T02:35:16.072249Z",
     "iopub.status.busy": "2024-10-01T02:35:16.071327Z",
     "iopub.status.idle": "2024-10-01T02:35:16.092127Z",
     "shell.execute_reply": "2024-10-01T02:35:16.091030Z",
     "shell.execute_reply.started": "2024-10-01T02:35:16.072209Z"
    },
    "trusted": true
   },
   "outputs": [
    {
     "data": {
      "text/html": [
       "<div>\n",
       "<style scoped>\n",
       "    .dataframe tbody tr th:only-of-type {\n",
       "        vertical-align: middle;\n",
       "    }\n",
       "\n",
       "    .dataframe tbody tr th {\n",
       "        vertical-align: top;\n",
       "    }\n",
       "\n",
       "    .dataframe thead th {\n",
       "        text-align: right;\n",
       "    }\n",
       "</style>\n",
       "<table border=\"1\" class=\"dataframe\">\n",
       "  <thead>\n",
       "    <tr style=\"text-align: right;\">\n",
       "      <th></th>\n",
       "      <th>text</th>\n",
       "      <th>l1</th>\n",
       "      <th>l2</th>\n",
       "      <th>l3</th>\n",
       "    </tr>\n",
       "  </thead>\n",
       "  <tbody>\n",
       "    <tr>\n",
       "      <th>0</th>\n",
       "      <td>William Alexander Massey (October 7, 1856 – Ma...</td>\n",
       "      <td>Agent</td>\n",
       "      <td>Politician</td>\n",
       "      <td>Senator</td>\n",
       "    </tr>\n",
       "    <tr>\n",
       "      <th>1</th>\n",
       "      <td>Lions is the sixth studio album by American ro...</td>\n",
       "      <td>Work</td>\n",
       "      <td>MusicalWork</td>\n",
       "      <td>Album</td>\n",
       "    </tr>\n",
       "    <tr>\n",
       "      <th>2</th>\n",
       "      <td>Pirqa (Aymara and Quechua for wall, hispaniciz...</td>\n",
       "      <td>Place</td>\n",
       "      <td>NaturalPlace</td>\n",
       "      <td>Mountain</td>\n",
       "    </tr>\n",
       "    <tr>\n",
       "      <th>3</th>\n",
       "      <td>Cancer Prevention Research is a biweekly peer-...</td>\n",
       "      <td>Work</td>\n",
       "      <td>PeriodicalLiterature</td>\n",
       "      <td>AcademicJournal</td>\n",
       "    </tr>\n",
       "    <tr>\n",
       "      <th>4</th>\n",
       "      <td>The Princeton University Chapel is located on ...</td>\n",
       "      <td>Place</td>\n",
       "      <td>Building</td>\n",
       "      <td>HistoricBuilding</td>\n",
       "    </tr>\n",
       "  </tbody>\n",
       "</table>\n",
       "</div>"
      ],
      "text/plain": [
       "                                                text     l1  \\\n",
       "0  William Alexander Massey (October 7, 1856 – Ma...  Agent   \n",
       "1  Lions is the sixth studio album by American ro...   Work   \n",
       "2  Pirqa (Aymara and Quechua for wall, hispaniciz...  Place   \n",
       "3  Cancer Prevention Research is a biweekly peer-...   Work   \n",
       "4  The Princeton University Chapel is located on ...  Place   \n",
       "\n",
       "                     l2                l3  \n",
       "0            Politician           Senator  \n",
       "1           MusicalWork             Album  \n",
       "2          NaturalPlace          Mountain  \n",
       "3  PeriodicalLiterature   AcademicJournal  \n",
       "4              Building  HistoricBuilding  "
      ]
     },
     "execution_count": 9,
     "metadata": {},
     "output_type": "execute_result"
    }
   ],
   "source": [
    "df_train.head()"
   ]
  },
  {
   "cell_type": "code",
   "execution_count": 10,
   "metadata": {
    "execution": {
     "iopub.execute_input": "2024-10-01T02:35:19.089615Z",
     "iopub.status.busy": "2024-10-01T02:35:19.088839Z",
     "iopub.status.idle": "2024-10-01T02:35:19.333521Z",
     "shell.execute_reply": "2024-10-01T02:35:19.332546Z",
     "shell.execute_reply.started": "2024-10-01T02:35:19.089572Z"
    },
    "trusted": true
   },
   "outputs": [
    {
     "name": "stdout",
     "output_type": "stream",
     "text": [
      "[nltk_data] Downloading package stopwords to /usr/share/nltk_data...\n",
      "[nltk_data]   Package stopwords is already up-to-date!\n"
     ]
    }
   ],
   "source": [
    "nltk.download('stopwords')\n",
    "stop_words = set(stopwords.words('english'))\n",
    "with open('/kaggle/working/stopwords.txt', 'w') as f:\n",
    "    for word in stop_words:\n",
    "        f.write(f\"{word}\\n\")\n",
    "with open('/kaggle/working/stopwords.txt', 'r') as f:\n",
    "    stopwords = set(f.read().splitlines())"
   ]
  },
  {
   "cell_type": "code",
   "execution_count": 11,
   "metadata": {
    "execution": {
     "iopub.execute_input": "2024-10-01T02:35:21.222040Z",
     "iopub.status.busy": "2024-10-01T02:35:21.220748Z",
     "iopub.status.idle": "2024-10-01T02:35:21.228969Z",
     "shell.execute_reply": "2024-10-01T02:35:21.227967Z",
     "shell.execute_reply.started": "2024-10-01T02:35:21.221987Z"
    },
    "trusted": true
   },
   "outputs": [],
   "source": [
    "lemmatizer = WordNetLemmatizer()\n",
    "\n",
    "# Define the preprocessing function\n",
    "def preprocess_dataframe(df):\n",
    "    df['Category'] = df['l1'] + '|' + df['l2'] + '|' + df['l3']\n",
    "    def preprocess_text(text):\n",
    "        text = str(text)\n",
    "        text = text.lower()\n",
    "        text = re.sub(r'[^a-z\\s]', '', text)\n",
    "        words = text.split()\n",
    "        #st_words = set(stopwords.words('english'))\n",
    "        words = [word for word in words if word not in stop_words]\n",
    "        #ords = [lemmatizer.lemmatize(word) for word in words]\n",
    "        text = ' '.join(words)\n",
    "        return text\n",
    "    df['Text'] = df['text'].apply(preprocess_text)\n",
    "    return df"
   ]
  },
  {
   "cell_type": "code",
   "execution_count": 12,
   "metadata": {
    "execution": {
     "iopub.execute_input": "2024-10-01T02:35:23.647575Z",
     "iopub.status.busy": "2024-10-01T02:35:23.646824Z",
     "iopub.status.idle": "2024-10-01T02:35:41.989897Z",
     "shell.execute_reply": "2024-10-01T02:35:41.989030Z",
     "shell.execute_reply.started": "2024-10-01T02:35:23.647515Z"
    },
    "trusted": true
   },
   "outputs": [],
   "source": [
    "df_train = preprocess_dataframe(df_train)\n",
    "df_test = preprocess_dataframe(df_test)\n",
    "df_val = preprocess_dataframe(df_val)"
   ]
  },
  {
   "cell_type": "code",
   "execution_count": 13,
   "metadata": {
    "execution": {
     "iopub.execute_input": "2024-10-01T02:35:41.991725Z",
     "iopub.status.busy": "2024-10-01T02:35:41.991401Z",
     "iopub.status.idle": "2024-10-01T02:35:42.033252Z",
     "shell.execute_reply": "2024-10-01T02:35:42.032181Z",
     "shell.execute_reply.started": "2024-10-01T02:35:41.991692Z"
    },
    "trusted": true
   },
   "outputs": [],
   "source": [
    "df_train = pd.concat([df_train, df_val], ignore_index=True)"
   ]
  },
  {
   "cell_type": "code",
   "execution_count": 14,
   "metadata": {
    "execution": {
     "iopub.execute_input": "2024-10-01T02:35:42.035076Z",
     "iopub.status.busy": "2024-10-01T02:35:42.034685Z",
     "iopub.status.idle": "2024-10-01T02:35:42.078485Z",
     "shell.execute_reply": "2024-10-01T02:35:42.077600Z",
     "shell.execute_reply.started": "2024-10-01T02:35:42.035030Z"
    },
    "trusted": true
   },
   "outputs": [
    {
     "data": {
      "text/plain": [
       "219"
      ]
     },
     "execution_count": 14,
     "metadata": {},
     "output_type": "execute_result"
    }
   ],
   "source": [
    "df_train['Category'].nunique()"
   ]
  },
  {
   "cell_type": "code",
   "execution_count": 15,
   "metadata": {
    "execution": {
     "iopub.execute_input": "2024-10-01T02:35:42.081942Z",
     "iopub.status.busy": "2024-10-01T02:35:42.081254Z",
     "iopub.status.idle": "2024-10-01T02:35:43.301421Z",
     "shell.execute_reply": "2024-10-01T02:35:43.300433Z",
     "shell.execute_reply.started": "2024-10-01T02:35:42.081901Z"
    },
    "trusted": true
   },
   "outputs": [
    {
     "data": {
      "image/png": "[encoded data removed]",
      "text/plain": [
       "<Figure size 1000x600 with 1 Axes>"
      ]
     },
     "metadata": {},
     "output_type": "display_data"
    }
   ],
   "source": [
    "event_counts = df_train['Category'].value_counts()\n",
    "test_counts =  df_test['Category'].value_counts()\n",
    "plt.figure(figsize=(10, 6))\n",
    "event_counts.plot(kind='bar')\n",
    "plt.title('Event Counts by Category')\n",
    "plt.ylabel('Counts')\n",
    "plt.xticks([]) \n",
    "plt.show()"
   ]
  },
  {
   "cell_type": "code",
   "execution_count": 16,
   "metadata": {
    "execution": {
     "iopub.execute_input": "2024-10-01T02:35:43.303406Z",
     "iopub.status.busy": "2024-10-01T02:35:43.302969Z",
     "iopub.status.idle": "2024-10-01T02:35:44.189599Z",
     "shell.execute_reply": "2024-10-01T02:35:44.188612Z",
     "shell.execute_reply.started": "2024-10-01T02:35:43.303340Z"
    },
    "trusted": true
   },
   "outputs": [
    {
     "data": {
      "image/png": "[encoded data removed]",
      "text/plain": [
       "<Figure size 1000x600 with 1 Axes>"
      ]
     },
     "metadata": {},
     "output_type": "display_data"
    }
   ],
   "source": [
    "plt.figure(figsize=(10, 6))\n",
    "test_counts.plot(kind='bar')\n",
    "plt.title('Event Counts by Category')\n",
    "plt.ylabel('Counts')\n",
    "plt.xticks([]) \n",
    "plt.show()"
   ]
  },
  {
   "cell_type": "code",
   "execution_count": 17,
   "metadata": {
    "execution": {
     "iopub.execute_input": "2024-10-01T02:35:44.191563Z",
     "iopub.status.busy": "2024-10-01T02:35:44.191047Z",
     "iopub.status.idle": "2024-10-01T02:35:44.199263Z",
     "shell.execute_reply": "2024-10-01T02:35:44.198419Z",
     "shell.execute_reply.started": "2024-10-01T02:35:44.191517Z"
    },
    "trusted": true
   },
   "outputs": [],
   "source": [
    "def balancing(df,limitdf):\n",
    "    counts = df['Category'].value_counts()\n",
    "    df_balanced = pd.DataFrame()\n",
    "    for category, count in counts.items():\n",
    "        if count> limitdf:\n",
    "            sampled = df[df['Category'] == category].sample(n=limitdf, random_state=42)\n",
    "        else:\n",
    "            sampled = df[df['Category'] == category]\n",
    "        df_balanced = pd.concat([df_balanced, sampled])\n",
    "    df = df_balanced.sample(frac=1, random_state=42).reset_index(drop=True)\n",
    "    return df"
   ]
  },
  {
   "cell_type": "code",
   "execution_count": 18,
   "metadata": {
    "execution": {
     "iopub.execute_input": "2024-10-01T02:35:44.200640Z",
     "iopub.status.busy": "2024-10-01T02:35:44.200299Z",
     "iopub.status.idle": "2024-10-01T02:36:00.996790Z",
     "shell.execute_reply": "2024-10-01T02:36:00.995901Z",
     "shell.execute_reply.started": "2024-10-01T02:35:44.200603Z"
    },
    "trusted": true
   },
   "outputs": [],
   "source": [
    "df_train = balancing(df_train, 1000)\n",
    "df_test = balancing(df_test, 200)"
   ]
  },
  {
   "cell_type": "code",
   "execution_count": 19,
   "metadata": {
    "execution": {
     "iopub.execute_input": "2024-10-01T02:36:01.001096Z",
     "iopub.status.busy": "2024-10-01T02:36:01.000719Z",
     "iopub.status.idle": "2024-10-01T02:36:01.152175Z",
     "shell.execute_reply": "2024-10-01T02:36:01.151199Z",
     "shell.execute_reply.started": "2024-10-01T02:36:01.001061Z"
    },
    "trusted": true
   },
   "outputs": [
    {
     "data": {
      "text/plain": [
       "count    164861.000000\n",
       "mean        427.401478\n",
       "std         365.115856\n",
       "min          27.000000\n",
       "25%         169.000000\n",
       "50%         307.000000\n",
       "75%         565.000000\n",
       "max        3076.000000\n",
       "Name: Text_lenght, dtype: float64"
      ]
     },
     "execution_count": 19,
     "metadata": {},
     "output_type": "execute_result"
    }
   ],
   "source": [
    "df_train['Text_lenght'] = df_train['Text'].str.len()\n",
    "df_train['Text_lenght'].describe()"
   ]
  },
  {
   "cell_type": "code",
   "execution_count": 20,
   "metadata": {
    "execution": {
     "iopub.execute_input": "2024-10-01T02:36:01.153895Z",
     "iopub.status.busy": "2024-10-01T02:36:01.153502Z",
     "iopub.status.idle": "2024-10-01T02:36:01.191448Z",
     "shell.execute_reply": "2024-10-01T02:36:01.190454Z",
     "shell.execute_reply.started": "2024-10-01T02:36:01.153852Z"
    },
    "trusted": true
   },
   "outputs": [
    {
     "data": {
      "text/plain": [
       "count    33801.000000\n",
       "mean       423.829236\n",
       "std        363.866547\n",
       "min         23.000000\n",
       "25%        167.000000\n",
       "50%        302.000000\n",
       "75%        558.000000\n",
       "max       3039.000000\n",
       "Name: Text_lenght, dtype: float64"
      ]
     },
     "execution_count": 20,
     "metadata": {},
     "output_type": "execute_result"
    }
   ],
   "source": [
    "df_test['Text_lenght'] = df_test['Text'].str.len()\n",
    "df_test['Text_lenght'].describe()"
   ]
  },
  {
   "cell_type": "code",
   "execution_count": 21,
   "metadata": {
    "execution": {
     "iopub.execute_input": "2024-10-01T02:36:01.194695Z",
     "iopub.status.busy": "2024-10-01T02:36:01.194321Z",
     "iopub.status.idle": "2024-10-01T02:36:01.281403Z",
     "shell.execute_reply": "2024-10-01T02:36:01.280606Z",
     "shell.execute_reply.started": "2024-10-01T02:36:01.194659Z"
    },
    "trusted": true
   },
   "outputs": [],
   "source": [
    "label_encoder = LabelEncoder()\n",
    "df_train['Encoded_Category'] = label_encoder.fit_transform(df_train['Category'])"
   ]
  },
  {
   "cell_type": "code",
   "execution_count": 22,
   "metadata": {
    "execution": {
     "iopub.execute_input": "2024-10-01T02:36:01.282847Z",
     "iopub.status.busy": "2024-10-01T02:36:01.282535Z",
     "iopub.status.idle": "2024-10-01T02:36:01.300974Z",
     "shell.execute_reply": "2024-10-01T02:36:01.300101Z",
     "shell.execute_reply.started": "2024-10-01T02:36:01.282814Z"
    },
    "trusted": true
   },
   "outputs": [],
   "source": [
    "df_test['Encoded_Category'] = label_encoder.transform(df_test['Category'])"
   ]
  },
  {
   "cell_type": "code",
   "execution_count": 23,
   "metadata": {
    "execution": {
     "iopub.execute_input": "2024-10-01T02:36:01.302650Z",
     "iopub.status.busy": "2024-10-01T02:36:01.302313Z",
     "iopub.status.idle": "2024-10-01T02:36:01.313985Z",
     "shell.execute_reply": "2024-10-01T02:36:01.313094Z",
     "shell.execute_reply.started": "2024-10-01T02:36:01.302618Z"
    },
    "trusted": true
   },
   "outputs": [],
   "source": [
    "X_train, X_test, y_train, y_test = df_train['Text'], df_test['Text'], df_train['Encoded_Category'], df_test['Encoded_Category']"
   ]
  },
  {
   "cell_type": "code",
   "execution_count": 24,
   "metadata": {
    "execution": {
     "iopub.execute_input": "2024-10-01T02:36:01.315454Z",
     "iopub.status.busy": "2024-10-01T02:36:01.315069Z",
     "iopub.status.idle": "2024-10-01T02:36:23.574354Z",
     "shell.execute_reply": "2024-10-01T02:36:23.573319Z",
     "shell.execute_reply.started": "2024-10-01T02:36:01.315412Z"
    },
    "trusted": true
   },
   "outputs": [],
   "source": [
    "#tokenize the text\n",
    "tokenizer = Tokenizer()\n",
    "tokenizer.fit_on_texts(X_train)\n",
    "X_train_seq = tokenizer.texts_to_sequences(X_train)\n",
    "X_test_seq = tokenizer.texts_to_sequences(X_test)\n",
    "\n",
    "#pad the text\n",
    "max_length = max(len(x) for x in X_train_seq)\n",
    "X_train_pad = pad_sequences(X_train_seq, maxlen=max_length, padding='post')\n",
    "X_test_pad = pad_sequences(X_test_seq, maxlen=max_length, padding='post')"
   ]
  },
  {
   "cell_type": "code",
   "execution_count": 25,
   "metadata": {
    "execution": {
     "iopub.execute_input": "2024-10-01T02:36:23.576040Z",
     "iopub.status.busy": "2024-10-01T02:36:23.575641Z",
     "iopub.status.idle": "2024-10-01T02:37:05.791444Z",
     "shell.execute_reply": "2024-10-01T02:37:05.790579Z",
     "shell.execute_reply.started": "2024-10-01T02:36:23.575994Z"
    },
    "trusted": true
   },
   "outputs": [],
   "source": [
    "embeddings_index = {}\n",
    "with open('/kaggle/input/vectors-glove-300d/other/default/1/glove.6B.300d.txt', encoding='utf-8') as f:\n",
    "    for line in f:\n",
    "        values = line.split()\n",
    "        word = values[0]\n",
    "        coefs = np.asarray(values[1:], dtype='float32')\n",
    "        embeddings_index[word] = coefs\n",
    "\n",
    "embedding_dim = 300\n",
    "num_words = len(tokenizer.word_index) + 1\n",
    "embedding_matrix = np.zeros((num_words, embedding_dim))\n",
    "\n",
    "for word, i in tokenizer.word_index.items():\n",
    "    embedding_vector = embeddings_index.get(word)\n",
    "    if embedding_vector is not None:\n",
    "        embedding_matrix[i] = embedding_vector"
   ]
  },
  {
   "cell_type": "code",
   "execution_count": 26,
   "metadata": {
    "execution": {
     "iopub.execute_input": "2024-10-01T02:37:26.569868Z",
     "iopub.status.busy": "2024-10-01T02:37:26.569209Z",
     "iopub.status.idle": "2024-10-01T02:37:29.177311Z",
     "shell.execute_reply": "2024-10-01T02:37:29.176423Z",
     "shell.execute_reply.started": "2024-10-01T02:37:26.569827Z"
    },
    "trusted": true
   },
   "outputs": [
    {
     "data": {
      "text/html": [
       "<pre style=\"white-space:pre;overflow-x:auto;line-height:normal;font-family:Menlo,'DejaVu Sans Mono',consolas,'Courier New',monospace\"><span style=\"font-weight: bold\">Model: \"sequential\"</span>\n",
       "</pre>\n"
      ],
      "text/plain": [
       "\u001b[1mModel: \"sequential\"\u001b[0m\n"
      ]
     },
     "metadata": {},
     "output_type": "display_data"
    },
    {
     "data": {
      "text/html": [
       "<pre style=\"white-space:pre;overflow-x:auto;line-height:normal;font-family:Menlo,'DejaVu Sans Mono',consolas,'Courier New',monospace\">┏━━━━━━━━━━━━━━━━━━━━━━━━━━━━━━━━━┳━━━━━━━━━━━━━━━━━━━━━━━━┳━━━━━━━━━━━━━━━┓\n",
       "┃<span style=\"font-weight: bold\"> Layer (type)                    </span>┃<span style=\"font-weight: bold\"> Output Shape           </span>┃<span style=\"font-weight: bold\">       Param # </span>┃\n",
       "┡━━━━━━━━━━━━━━━━━━━━━━━━━━━━━━━━━╇━━━━━━━━━━━━━━━━━━━━━━━━╇━━━━━━━━━━━━━━━┩\n",
       "│ embedding (<span style=\"color: #0087ff; text-decoration-color: #0087ff\">Embedding</span>)           │ (<span style=\"color: #00d7ff; text-decoration-color: #00d7ff\">None</span>, <span style=\"color: #00af00; text-decoration-color: #00af00\">391</span>, <span style=\"color: #00af00; text-decoration-color: #00af00\">300</span>)       │   <span style=\"color: #00af00; text-decoration-color: #00af00\">118,210,200</span> │\n",
       "├─────────────────────────────────┼────────────────────────┼───────────────┤\n",
       "│ conv1d (<span style=\"color: #0087ff; text-decoration-color: #0087ff\">Conv1D</span>)                 │ (<span style=\"color: #00d7ff; text-decoration-color: #00d7ff\">None</span>, <span style=\"color: #00af00; text-decoration-color: #00af00\">387</span>, <span style=\"color: #00af00; text-decoration-color: #00af00\">64</span>)        │        <span style=\"color: #00af00; text-decoration-color: #00af00\">96,064</span> │\n",
       "├─────────────────────────────────┼────────────────────────┼───────────────┤\n",
       "│ max_pooling1d (<span style=\"color: #0087ff; text-decoration-color: #0087ff\">MaxPooling1D</span>)    │ (<span style=\"color: #00d7ff; text-decoration-color: #00d7ff\">None</span>, <span style=\"color: #00af00; text-decoration-color: #00af00\">193</span>, <span style=\"color: #00af00; text-decoration-color: #00af00\">64</span>)        │             <span style=\"color: #00af00; text-decoration-color: #00af00\">0</span> │\n",
       "├─────────────────────────────────┼────────────────────────┼───────────────┤\n",
       "│ bidirectional (<span style=\"color: #0087ff; text-decoration-color: #0087ff\">Bidirectional</span>)   │ (<span style=\"color: #00d7ff; text-decoration-color: #00d7ff\">None</span>, <span style=\"color: #00af00; text-decoration-color: #00af00\">193</span>, <span style=\"color: #00af00; text-decoration-color: #00af00\">128</span>)       │        <span style=\"color: #00af00; text-decoration-color: #00af00\">66,048</span> │\n",
       "├─────────────────────────────────┼────────────────────────┼───────────────┤\n",
       "│ dropout (<span style=\"color: #0087ff; text-decoration-color: #0087ff\">Dropout</span>)               │ (<span style=\"color: #00d7ff; text-decoration-color: #00d7ff\">None</span>, <span style=\"color: #00af00; text-decoration-color: #00af00\">193</span>, <span style=\"color: #00af00; text-decoration-color: #00af00\">128</span>)       │             <span style=\"color: #00af00; text-decoration-color: #00af00\">0</span> │\n",
       "├─────────────────────────────────┼────────────────────────┼───────────────┤\n",
       "│ bidirectional_1 (<span style=\"color: #0087ff; text-decoration-color: #0087ff\">Bidirectional</span>) │ (<span style=\"color: #00d7ff; text-decoration-color: #00d7ff\">None</span>, <span style=\"color: #00af00; text-decoration-color: #00af00\">193</span>, <span style=\"color: #00af00; text-decoration-color: #00af00\">64</span>)        │        <span style=\"color: #00af00; text-decoration-color: #00af00\">41,216</span> │\n",
       "├─────────────────────────────────┼────────────────────────┼───────────────┤\n",
       "│ dropout_1 (<span style=\"color: #0087ff; text-decoration-color: #0087ff\">Dropout</span>)             │ (<span style=\"color: #00d7ff; text-decoration-color: #00d7ff\">None</span>, <span style=\"color: #00af00; text-decoration-color: #00af00\">193</span>, <span style=\"color: #00af00; text-decoration-color: #00af00\">64</span>)        │             <span style=\"color: #00af00; text-decoration-color: #00af00\">0</span> │\n",
       "├─────────────────────────────────┼────────────────────────┼───────────────┤\n",
       "│ bidirectional_2 (<span style=\"color: #0087ff; text-decoration-color: #0087ff\">Bidirectional</span>) │ (<span style=\"color: #00d7ff; text-decoration-color: #00d7ff\">None</span>, <span style=\"color: #00af00; text-decoration-color: #00af00\">32</span>)             │        <span style=\"color: #00af00; text-decoration-color: #00af00\">10,368</span> │\n",
       "├─────────────────────────────────┼────────────────────────┼───────────────┤\n",
       "│ dropout_2 (<span style=\"color: #0087ff; text-decoration-color: #0087ff\">Dropout</span>)             │ (<span style=\"color: #00d7ff; text-decoration-color: #00d7ff\">None</span>, <span style=\"color: #00af00; text-decoration-color: #00af00\">32</span>)             │             <span style=\"color: #00af00; text-decoration-color: #00af00\">0</span> │\n",
       "├─────────────────────────────────┼────────────────────────┼───────────────┤\n",
       "│ batch_normalization             │ (<span style=\"color: #00d7ff; text-decoration-color: #00d7ff\">None</span>, <span style=\"color: #00af00; text-decoration-color: #00af00\">32</span>)             │           <span style=\"color: #00af00; text-decoration-color: #00af00\">128</span> │\n",
       "│ (<span style=\"color: #0087ff; text-decoration-color: #0087ff\">BatchNormalization</span>)            │                        │               │\n",
       "├─────────────────────────────────┼────────────────────────┼───────────────┤\n",
       "│ dense (<span style=\"color: #0087ff; text-decoration-color: #0087ff\">Dense</span>)                   │ (<span style=\"color: #00d7ff; text-decoration-color: #00d7ff\">None</span>, <span style=\"color: #00af00; text-decoration-color: #00af00\">128</span>)            │         <span style=\"color: #00af00; text-decoration-color: #00af00\">4,224</span> │\n",
       "├─────────────────────────────────┼────────────────────────┼───────────────┤\n",
       "│ dropout_3 (<span style=\"color: #0087ff; text-decoration-color: #0087ff\">Dropout</span>)             │ (<span style=\"color: #00d7ff; text-decoration-color: #00d7ff\">None</span>, <span style=\"color: #00af00; text-decoration-color: #00af00\">128</span>)            │             <span style=\"color: #00af00; text-decoration-color: #00af00\">0</span> │\n",
       "├─────────────────────────────────┼────────────────────────┼───────────────┤\n",
       "│ dense_1 (<span style=\"color: #0087ff; text-decoration-color: #0087ff\">Dense</span>)                 │ (<span style=\"color: #00d7ff; text-decoration-color: #00d7ff\">None</span>, <span style=\"color: #00af00; text-decoration-color: #00af00\">219</span>)            │        <span style=\"color: #00af00; text-decoration-color: #00af00\">28,251</span> │\n",
       "└─────────────────────────────────┴────────────────────────┴───────────────┘\n",
       "</pre>\n"
      ],
      "text/plain": [
       "┏━━━━━━━━━━━━━━━━━━━━━━━━━━━━━━━━━┳━━━━━━━━━━━━━━━━━━━━━━━━┳━━━━━━━━━━━━━━━┓\n",
       "┃\u001b[1m \u001b[0m\u001b[1mLayer (type)                   \u001b[0m\u001b[1m \u001b[0m┃\u001b[1m \u001b[0m\u001b[1mOutput Shape          \u001b[0m\u001b[1m \u001b[0m┃\u001b[1m \u001b[0m\u001b[1m      Param #\u001b[0m\u001b[1m \u001b[0m┃\n",
       "┡━━━━━━━━━━━━━━━━━━━━━━━━━━━━━━━━━╇━━━━━━━━━━━━━━━━━━━━━━━━╇━━━━━━━━━━━━━━━┩\n",
       "│ embedding (\u001b[38;5;33mEmbedding\u001b[0m)           │ (\u001b[38;5;45mNone\u001b[0m, \u001b[38;5;34m391\u001b[0m, \u001b[38;5;34m300\u001b[0m)       │   \u001b[38;5;34m118,210,200\u001b[0m │\n",
       "├─────────────────────────────────┼────────────────────────┼───────────────┤\n",
       "│ conv1d (\u001b[38;5;33mConv1D\u001b[0m)                 │ (\u001b[38;5;45mNone\u001b[0m, \u001b[38;5;34m387\u001b[0m, \u001b[38;5;34m64\u001b[0m)        │        \u001b[38;5;34m96,064\u001b[0m │\n",
       "├─────────────────────────────────┼────────────────────────┼───────────────┤\n",
       "│ max_pooling1d (\u001b[38;5;33mMaxPooling1D\u001b[0m)    │ (\u001b[38;5;45mNone\u001b[0m, \u001b[38;5;34m193\u001b[0m, \u001b[38;5;34m64\u001b[0m)        │             \u001b[38;5;34m0\u001b[0m │\n",
       "├─────────────────────────────────┼────────────────────────┼───────────────┤\n",
       "│ bidirectional (\u001b[38;5;33mBidirectional\u001b[0m)   │ (\u001b[38;5;45mNone\u001b[0m, \u001b[38;5;34m193\u001b[0m, \u001b[38;5;34m128\u001b[0m)       │        \u001b[38;5;34m66,048\u001b[0m │\n",
       "├─────────────────────────────────┼────────────────────────┼───────────────┤\n",
       "│ dropout (\u001b[38;5;33mDropout\u001b[0m)               │ (\u001b[38;5;45mNone\u001b[0m, \u001b[38;5;34m193\u001b[0m, \u001b[38;5;34m128\u001b[0m)       │             \u001b[38;5;34m0\u001b[0m │\n",
       "├─────────────────────────────────┼────────────────────────┼───────────────┤\n",
       "│ bidirectional_1 (\u001b[38;5;33mBidirectional\u001b[0m) │ (\u001b[38;5;45mNone\u001b[0m, \u001b[38;5;34m193\u001b[0m, \u001b[38;5;34m64\u001b[0m)        │        \u001b[38;5;34m41,216\u001b[0m │\n",
       "├─────────────────────────────────┼────────────────────────┼───────────────┤\n",
       "│ dropout_1 (\u001b[38;5;33mDropout\u001b[0m)             │ (\u001b[38;5;45mNone\u001b[0m, \u001b[38;5;34m193\u001b[0m, \u001b[38;5;34m64\u001b[0m)        │             \u001b[38;5;34m0\u001b[0m │\n",
       "├─────────────────────────────────┼────────────────────────┼───────────────┤\n",
       "│ bidirectional_2 (\u001b[38;5;33mBidirectional\u001b[0m) │ (\u001b[38;5;45mNone\u001b[0m, \u001b[38;5;34m32\u001b[0m)             │        \u001b[38;5;34m10,368\u001b[0m │\n",
       "├─────────────────────────────────┼────────────────────────┼───────────────┤\n",
       "│ dropout_2 (\u001b[38;5;33mDropout\u001b[0m)             │ (\u001b[38;5;45mNone\u001b[0m, \u001b[38;5;34m32\u001b[0m)             │             \u001b[38;5;34m0\u001b[0m │\n",
       "├─────────────────────────────────┼────────────────────────┼───────────────┤\n",
       "│ batch_normalization             │ (\u001b[38;5;45mNone\u001b[0m, \u001b[38;5;34m32\u001b[0m)             │           \u001b[38;5;34m128\u001b[0m │\n",
       "│ (\u001b[38;5;33mBatchNormalization\u001b[0m)            │                        │               │\n",
       "├─────────────────────────────────┼────────────────────────┼───────────────┤\n",
       "│ dense (\u001b[38;5;33mDense\u001b[0m)                   │ (\u001b[38;5;45mNone\u001b[0m, \u001b[38;5;34m128\u001b[0m)            │         \u001b[38;5;34m4,224\u001b[0m │\n",
       "├─────────────────────────────────┼────────────────────────┼───────────────┤\n",
       "│ dropout_3 (\u001b[38;5;33mDropout\u001b[0m)             │ (\u001b[38;5;45mNone\u001b[0m, \u001b[38;5;34m128\u001b[0m)            │             \u001b[38;5;34m0\u001b[0m │\n",
       "├─────────────────────────────────┼────────────────────────┼───────────────┤\n",
       "│ dense_1 (\u001b[38;5;33mDense\u001b[0m)                 │ (\u001b[38;5;45mNone\u001b[0m, \u001b[38;5;34m219\u001b[0m)            │        \u001b[38;5;34m28,251\u001b[0m │\n",
       "└─────────────────────────────────┴────────────────────────┴───────────────┘\n"
      ]
     },
     "metadata": {},
     "output_type": "display_data"
    },
    {
     "data": {
      "text/html": [
       "<pre style=\"white-space:pre;overflow-x:auto;line-height:normal;font-family:Menlo,'DejaVu Sans Mono',consolas,'Courier New',monospace\"><span style=\"font-weight: bold\"> Total params: </span><span style=\"color: #00af00; text-decoration-color: #00af00\">118,456,499</span> (451.88 MB)\n",
       "</pre>\n"
      ],
      "text/plain": [
       "\u001b[1m Total params: \u001b[0m\u001b[38;5;34m118,456,499\u001b[0m (451.88 MB)\n"
      ]
     },
     "metadata": {},
     "output_type": "display_data"
    },
    {
     "data": {
      "text/html": [
       "<pre style=\"white-space:pre;overflow-x:auto;line-height:normal;font-family:Menlo,'DejaVu Sans Mono',consolas,'Courier New',monospace\"><span style=\"font-weight: bold\"> Trainable params: </span><span style=\"color: #00af00; text-decoration-color: #00af00\">246,235</span> (961.86 KB)\n",
       "</pre>\n"
      ],
      "text/plain": [
       "\u001b[1m Trainable params: \u001b[0m\u001b[38;5;34m246,235\u001b[0m (961.86 KB)\n"
      ]
     },
     "metadata": {},
     "output_type": "display_data"
    },
    {
     "data": {
      "text/html": [
       "<pre style=\"white-space:pre;overflow-x:auto;line-height:normal;font-family:Menlo,'DejaVu Sans Mono',consolas,'Courier New',monospace\"><span style=\"font-weight: bold\"> Non-trainable params: </span><span style=\"color: #00af00; text-decoration-color: #00af00\">118,210,264</span> (450.94 MB)\n",
       "</pre>\n"
      ],
      "text/plain": [
       "\u001b[1m Non-trainable params: \u001b[0m\u001b[38;5;34m118,210,264\u001b[0m (450.94 MB)\n"
      ]
     },
     "metadata": {},
     "output_type": "display_data"
    }
   ],
   "source": [
    "from keras.regularizers import l2\n",
    "from tensorflow.keras.models import Sequential\n",
    "from tensorflow.keras.layers import Embedding, Conv1D, MaxPooling1D, Flatten, Dense, Input\n",
    "\n",
    "max_length = X_train_pad.shape[1]\n",
    "embedding_dim = 300\n",
    "\n",
    "model = Sequential()\n",
    "model.add(Input(shape=(max_length,)))\n",
    "model.add(Embedding(input_dim=len(tokenizer.word_index)+1,\n",
    "                   output_dim=embedding_dim,\n",
    "                   weights=[embedding_matrix],\n",
    "                   trainable=False))\n",
    "model.add(Conv1D(64, kernel_size= 5, activation='relu'))\n",
    "model.add(MaxPooling1D(pool_size=2))\n",
    "model.add(Bidirectional(LSTM(64, return_sequences=True)))\n",
    "model.add(Dropout(0.5))\n",
    "model.add(Bidirectional(LSTM(32, return_sequences=True)))\n",
    "model.add(Dropout(0.5))\n",
    "model.add(Bidirectional(LSTM(16)))\n",
    "model.add(Dropout(0.5))\n",
    "model.add(BatchNormalization())\n",
    "model.add(Dense(128, activation='relu',kernel_regularizer=l2(0.01)))\n",
    "model.add(Dropout(0.25))\n",
    "model.add(Dense(len(df_train['Category'].unique()), activation='softmax'))\n",
    "model.summary()\n"
   ]
  },
  {
   "cell_type": "code",
   "execution_count": 27,
   "metadata": {
    "execution": {
     "iopub.execute_input": "2024-10-01T02:37:40.265532Z",
     "iopub.status.busy": "2024-10-01T02:37:40.265090Z",
     "iopub.status.idle": "2024-10-01T02:37:40.281404Z",
     "shell.execute_reply": "2024-10-01T02:37:40.280269Z",
     "shell.execute_reply.started": "2024-10-01T02:37:40.265475Z"
    },
    "trusted": true
   },
   "outputs": [],
   "source": [
    "model.compile(optimizer='adam', loss='sparse_categorical_crossentropy', metrics=['accuracy'])"
   ]
  },
  {
   "cell_type": "code",
   "execution_count": 28,
   "metadata": {
    "execution": {
     "iopub.execute_input": "2024-10-01T02:37:44.332576Z",
     "iopub.status.busy": "2024-10-01T02:37:44.331648Z",
     "iopub.status.idle": "2024-10-01T04:20:11.471268Z",
     "shell.execute_reply": "2024-10-01T04:20:11.470237Z",
     "shell.execute_reply.started": "2024-10-01T02:37:44.332525Z"
    },
    "trusted": true
   },
   "outputs": [
    {
     "name": "stdout",
     "output_type": "stream",
     "text": [
      "Epoch 1/70\n",
      "\u001b[1m2061/2061\u001b[0m \u001b[32m━━━━━━━━━━━━━━━━━━━━\u001b[0m\u001b[37m\u001b[0m \u001b[1m143s\u001b[0m 65ms/step - accuracy: 0.1249 - loss: 4.0919 - val_accuracy: 0.5714 - val_loss: 1.6197\n",
      "Epoch 2/70\n",
      "\u001b[1m2061/2061\u001b[0m \u001b[32m━━━━━━━━━━━━━━━━━━━━\u001b[0m\u001b[37m\u001b[0m \u001b[1m134s\u001b[0m 65ms/step - accuracy: 0.3423 - loss: 2.3645 - val_accuracy: 0.6623 - val_loss: 1.2340\n",
      "Epoch 3/70\n",
      "\u001b[1m2061/2061\u001b[0m \u001b[32m━━━━━━━━━━━━━━━━━━━━\u001b[0m\u001b[37m\u001b[0m \u001b[1m134s\u001b[0m 65ms/step - accuracy: 0.4252 - loss: 2.0008 - val_accuracy: 0.7160 - val_loss: 1.0127\n",
      "Epoch 4/70\n",
      "\u001b[1m2061/2061\u001b[0m \u001b[32m━━━━━━━━━━━━━━━━━━━━\u001b[0m\u001b[37m\u001b[0m \u001b[1m133s\u001b[0m 65ms/step - accuracy: 0.4560 - loss: 1.8957 - val_accuracy: 0.7450 - val_loss: 0.9527\n",
      "Epoch 5/70\n",
      "\u001b[1m2061/2061\u001b[0m \u001b[32m━━━━━━━━━━━━━━━━━━━━\u001b[0m\u001b[37m\u001b[0m \u001b[1m130s\u001b[0m 63ms/step - accuracy: 0.4915 - loss: 1.7473 - val_accuracy: 0.7426 - val_loss: 0.9085\n",
      "Epoch 6/70\n",
      "\u001b[1m2061/2061\u001b[0m \u001b[32m━━━━━━━━━━━━━━━━━━━━\u001b[0m\u001b[37m\u001b[0m \u001b[1m132s\u001b[0m 64ms/step - accuracy: 0.4993 - loss: 1.7167 - val_accuracy: 0.7583 - val_loss: 0.8753\n",
      "Epoch 7/70\n",
      "\u001b[1m2061/2061\u001b[0m \u001b[32m━━━━━━━━━━━━━━━━━━━━\u001b[0m\u001b[37m\u001b[0m \u001b[1m130s\u001b[0m 63ms/step - accuracy: 0.5123 - loss: 1.6773 - val_accuracy: 0.7535 - val_loss: 0.8670\n",
      "Epoch 8/70\n",
      "\u001b[1m2061/2061\u001b[0m \u001b[32m━━━━━━━━━━━━━━━━━━━━\u001b[0m\u001b[37m\u001b[0m \u001b[1m129s\u001b[0m 62ms/step - accuracy: 0.5341 - loss: 1.5892 - val_accuracy: 0.7370 - val_loss: 0.9304\n",
      "Epoch 9/70\n",
      "\u001b[1m2061/2061\u001b[0m \u001b[32m━━━━━━━━━━━━━━━━━━━━\u001b[0m\u001b[37m\u001b[0m \u001b[1m131s\u001b[0m 64ms/step - accuracy: 0.5460 - loss: 1.5694 - val_accuracy: 0.7801 - val_loss: 0.7930\n",
      "Epoch 10/70\n",
      "\u001b[1m2061/2061\u001b[0m \u001b[32m━━━━━━━━━━━━━━━━━━━━\u001b[0m\u001b[37m\u001b[0m \u001b[1m131s\u001b[0m 64ms/step - accuracy: 0.5822 - loss: 1.4137 - val_accuracy: 0.7923 - val_loss: 0.7737\n",
      "Epoch 11/70\n",
      "\u001b[1m2061/2061\u001b[0m \u001b[32m━━━━━━━━━━━━━━━━━━━━\u001b[0m\u001b[37m\u001b[0m \u001b[1m131s\u001b[0m 64ms/step - accuracy: 0.6019 - loss: 1.3540 - val_accuracy: 0.8106 - val_loss: 0.7163\n",
      "Epoch 12/70\n",
      "\u001b[1m2061/2061\u001b[0m \u001b[32m━━━━━━━━━━━━━━━━━━━━\u001b[0m\u001b[37m\u001b[0m \u001b[1m129s\u001b[0m 63ms/step - accuracy: 0.6219 - loss: 1.2892 - val_accuracy: 0.7806 - val_loss: 0.8585\n",
      "Epoch 13/70\n",
      "\u001b[1m2061/2061\u001b[0m \u001b[32m━━━━━━━━━━━━━━━━━━━━\u001b[0m\u001b[37m\u001b[0m \u001b[1m132s\u001b[0m 64ms/step - accuracy: 0.6216 - loss: 1.3075 - val_accuracy: 0.8205 - val_loss: 0.6838\n",
      "Epoch 14/70\n",
      "\u001b[1m2061/2061\u001b[0m \u001b[32m━━━━━━━━━━━━━━━━━━━━\u001b[0m\u001b[37m\u001b[0m \u001b[1m132s\u001b[0m 64ms/step - accuracy: 0.6440 - loss: 1.2125 - val_accuracy: 0.8225 - val_loss: 0.6881\n",
      "Epoch 15/70\n",
      "\u001b[1m2061/2061\u001b[0m \u001b[32m━━━━━━━━━━━━━━━━━━━━\u001b[0m\u001b[37m\u001b[0m \u001b[1m129s\u001b[0m 63ms/step - accuracy: 0.6571 - loss: 1.1819 - val_accuracy: 0.7883 - val_loss: 0.8007\n",
      "Epoch 16/70\n",
      "\u001b[1m2061/2061\u001b[0m \u001b[32m━━━━━━━━━━━━━━━━━━━━\u001b[0m\u001b[37m\u001b[0m \u001b[1m131s\u001b[0m 64ms/step - accuracy: 0.6611 - loss: 1.1733 - val_accuracy: 0.8351 - val_loss: 0.6527\n",
      "Epoch 17/70\n",
      "\u001b[1m2061/2061\u001b[0m \u001b[32m━━━━━━━━━━━━━━━━━━━━\u001b[0m\u001b[37m\u001b[0m \u001b[1m132s\u001b[0m 64ms/step - accuracy: 0.6964 - loss: 1.0407 - val_accuracy: 0.8412 - val_loss: 0.6273\n",
      "Epoch 18/70\n",
      "\u001b[1m2061/2061\u001b[0m \u001b[32m━━━━━━━━━━━━━━━━━━━━\u001b[0m\u001b[37m\u001b[0m \u001b[1m129s\u001b[0m 63ms/step - accuracy: 0.7137 - loss: 0.9832 - val_accuracy: 0.8401 - val_loss: 0.6330\n",
      "Epoch 19/70\n",
      "\u001b[1m2061/2061\u001b[0m \u001b[32m━━━━━━━━━━━━━━━━━━━━\u001b[0m\u001b[37m\u001b[0m \u001b[1m132s\u001b[0m 64ms/step - accuracy: 0.7158 - loss: 0.9833 - val_accuracy: 0.8465 - val_loss: 0.6345\n",
      "Epoch 20/70\n",
      "\u001b[1m2061/2061\u001b[0m \u001b[32m━━━━━━━━━━━━━━━━━━━━\u001b[0m\u001b[37m\u001b[0m \u001b[1m131s\u001b[0m 64ms/step - accuracy: 0.7374 - loss: 0.9180 - val_accuracy: 0.8552 - val_loss: 0.5852\n",
      "Epoch 21/70\n",
      "\u001b[1m2061/2061\u001b[0m \u001b[32m━━━━━━━━━━━━━━━━━━━━\u001b[0m\u001b[37m\u001b[0m \u001b[1m132s\u001b[0m 64ms/step - accuracy: 0.7489 - loss: 0.8775 - val_accuracy: 0.8660 - val_loss: 0.5683\n",
      "Epoch 22/70\n",
      "\u001b[1m2061/2061\u001b[0m \u001b[32m━━━━━━━━━━━━━━━━━━━━\u001b[0m\u001b[37m\u001b[0m \u001b[1m132s\u001b[0m 64ms/step - accuracy: 0.7603 - loss: 0.8452 - val_accuracy: 0.8705 - val_loss: 0.5655\n",
      "Epoch 23/70\n",
      "\u001b[1m2061/2061\u001b[0m \u001b[32m━━━━━━━━━━━━━━━━━━━━\u001b[0m\u001b[37m\u001b[0m \u001b[1m132s\u001b[0m 64ms/step - accuracy: 0.7754 - loss: 0.7954 - val_accuracy: 0.8763 - val_loss: 0.5406\n",
      "Epoch 24/70\n",
      "\u001b[1m2061/2061\u001b[0m \u001b[32m━━━━━━━━━━━━━━━━━━━━\u001b[0m\u001b[37m\u001b[0m \u001b[1m129s\u001b[0m 63ms/step - accuracy: 0.7784 - loss: 0.7923 - val_accuracy: 0.8683 - val_loss: 0.5846\n",
      "Epoch 25/70\n",
      "\u001b[1m2061/2061\u001b[0m \u001b[32m━━━━━━━━━━━━━━━━━━━━\u001b[0m\u001b[37m\u001b[0m \u001b[1m131s\u001b[0m 64ms/step - accuracy: 0.7859 - loss: 0.7716 - val_accuracy: 0.8799 - val_loss: 0.5438\n",
      "Epoch 26/70\n",
      "\u001b[1m2061/2061\u001b[0m \u001b[32m━━━━━━━━━━━━━━━━━━━━\u001b[0m\u001b[37m\u001b[0m \u001b[1m130s\u001b[0m 63ms/step - accuracy: 0.7989 - loss: 0.7231 - val_accuracy: 0.8735 - val_loss: 0.5702\n",
      "Epoch 27/70\n",
      "\u001b[1m2061/2061\u001b[0m \u001b[32m━━━━━━━━━━━━━━━━━━━━\u001b[0m\u001b[37m\u001b[0m \u001b[1m129s\u001b[0m 63ms/step - accuracy: 0.7976 - loss: 0.7279 - val_accuracy: 0.8790 - val_loss: 0.5542\n",
      "Epoch 28/70\n",
      "\u001b[1m2061/2061\u001b[0m \u001b[32m━━━━━━━━━━━━━━━━━━━━\u001b[0m\u001b[37m\u001b[0m \u001b[1m129s\u001b[0m 63ms/step - accuracy: 0.8115 - loss: 0.6817 - val_accuracy: 0.8539 - val_loss: 0.6093\n",
      "Epoch 29/70\n",
      "\u001b[1m2061/2061\u001b[0m \u001b[32m━━━━━━━━━━━━━━━━━━━━\u001b[0m\u001b[37m\u001b[0m \u001b[1m132s\u001b[0m 64ms/step - accuracy: 0.8049 - loss: 0.7089 - val_accuracy: 0.8818 - val_loss: 0.5371\n",
      "Epoch 30/70\n",
      "\u001b[1m2061/2061\u001b[0m \u001b[32m━━━━━━━━━━━━━━━━━━━━\u001b[0m\u001b[37m\u001b[0m \u001b[1m132s\u001b[0m 64ms/step - accuracy: 0.8205 - loss: 0.6576 - val_accuracy: 0.8838 - val_loss: 0.5389\n",
      "Epoch 31/70\n",
      "\u001b[1m2061/2061\u001b[0m \u001b[32m━━━━━━━━━━━━━━━━━━━━\u001b[0m\u001b[37m\u001b[0m \u001b[1m131s\u001b[0m 64ms/step - accuracy: 0.8265 - loss: 0.6421 - val_accuracy: 0.8867 - val_loss: 0.5434\n",
      "Epoch 32/70\n",
      "\u001b[1m2061/2061\u001b[0m \u001b[32m━━━━━━━━━━━━━━━━━━━━\u001b[0m\u001b[37m\u001b[0m \u001b[1m129s\u001b[0m 63ms/step - accuracy: 0.8303 - loss: 0.6265 - val_accuracy: 0.8860 - val_loss: 0.5332\n",
      "Epoch 33/70\n",
      "\u001b[1m2061/2061\u001b[0m \u001b[32m━━━━━━━━━━━━━━━━━━━━\u001b[0m\u001b[37m\u001b[0m \u001b[1m131s\u001b[0m 64ms/step - accuracy: 0.8342 - loss: 0.6177 - val_accuracy: 0.8885 - val_loss: 0.5455\n",
      "Epoch 34/70\n",
      "\u001b[1m2061/2061\u001b[0m \u001b[32m━━━━━━━━━━━━━━━━━━━━\u001b[0m\u001b[37m\u001b[0m \u001b[1m129s\u001b[0m 63ms/step - accuracy: 0.8392 - loss: 0.6045 - val_accuracy: 0.8827 - val_loss: 0.5462\n",
      "Epoch 35/70\n",
      "\u001b[1m2061/2061\u001b[0m \u001b[32m━━━━━━━━━━━━━━━━━━━━\u001b[0m\u001b[37m\u001b[0m \u001b[1m132s\u001b[0m 64ms/step - accuracy: 0.8417 - loss: 0.5885 - val_accuracy: 0.8899 - val_loss: 0.5331\n",
      "Epoch 36/70\n",
      "\u001b[1m2061/2061\u001b[0m \u001b[32m━━━━━━━━━━━━━━━━━━━━\u001b[0m\u001b[37m\u001b[0m \u001b[1m129s\u001b[0m 63ms/step - accuracy: 0.8473 - loss: 0.5799 - val_accuracy: 0.8894 - val_loss: 0.5336\n",
      "Epoch 37/70\n",
      "\u001b[1m2061/2061\u001b[0m \u001b[32m━━━━━━━━━━━━━━━━━━━━\u001b[0m\u001b[37m\u001b[0m \u001b[1m131s\u001b[0m 64ms/step - accuracy: 0.8495 - loss: 0.5638 - val_accuracy: 0.8906 - val_loss: 0.5529\n",
      "Epoch 38/70\n",
      "\u001b[1m2061/2061\u001b[0m \u001b[32m━━━━━━━━━━━━━━━━━━━━\u001b[0m\u001b[37m\u001b[0m \u001b[1m129s\u001b[0m 63ms/step - accuracy: 0.8561 - loss: 0.5491 - val_accuracy: 0.8899 - val_loss: 0.5435\n",
      "Epoch 39/70\n",
      "\u001b[1m2061/2061\u001b[0m \u001b[32m━━━━━━━━━━━━━━━━━━━━\u001b[0m\u001b[37m\u001b[0m \u001b[1m131s\u001b[0m 64ms/step - accuracy: 0.8534 - loss: 0.5615 - val_accuracy: 0.8935 - val_loss: 0.5424\n",
      "Epoch 40/70\n",
      "\u001b[1m2061/2061\u001b[0m \u001b[32m━━━━━━━━━━━━━━━━━━━━\u001b[0m\u001b[37m\u001b[0m \u001b[1m128s\u001b[0m 62ms/step - accuracy: 0.8508 - loss: 0.5630 - val_accuracy: 0.8903 - val_loss: 0.5474\n",
      "Epoch 41/70\n",
      "\u001b[1m2061/2061\u001b[0m \u001b[32m━━━━━━━━━━━━━━━━━━━━\u001b[0m\u001b[37m\u001b[0m \u001b[1m130s\u001b[0m 63ms/step - accuracy: 0.8620 - loss: 0.5330 - val_accuracy: 0.8961 - val_loss: 0.5444\n",
      "Epoch 42/70\n",
      "\u001b[1m2061/2061\u001b[0m \u001b[32m━━━━━━━━━━━━━━━━━━━━\u001b[0m\u001b[37m\u001b[0m \u001b[1m128s\u001b[0m 62ms/step - accuracy: 0.8655 - loss: 0.5185 - val_accuracy: 0.8864 - val_loss: 0.5634\n",
      "Epoch 43/70\n",
      "\u001b[1m2061/2061\u001b[0m \u001b[32m━━━━━━━━━━━━━━━━━━━━\u001b[0m\u001b[37m\u001b[0m \u001b[1m128s\u001b[0m 62ms/step - accuracy: 0.8663 - loss: 0.5234 - val_accuracy: 0.8908 - val_loss: 0.5611\n",
      "Epoch 44/70\n",
      "\u001b[1m2061/2061\u001b[0m \u001b[32m━━━━━━━━━━━━━━━━━━━━\u001b[0m\u001b[37m\u001b[0m \u001b[1m128s\u001b[0m 62ms/step - accuracy: 0.8678 - loss: 0.5102 - val_accuracy: 0.8897 - val_loss: 0.5677\n",
      "Epoch 45/70\n",
      "\u001b[1m2061/2061\u001b[0m \u001b[32m━━━━━━━━━━━━━━━━━━━━\u001b[0m\u001b[37m\u001b[0m \u001b[1m130s\u001b[0m 63ms/step - accuracy: 0.8675 - loss: 0.5099 - val_accuracy: 0.8971 - val_loss: 0.5597\n",
      "Epoch 46/70\n",
      "\u001b[1m2061/2061\u001b[0m \u001b[32m━━━━━━━━━━━━━━━━━━━━\u001b[0m\u001b[37m\u001b[0m \u001b[1m130s\u001b[0m 63ms/step - accuracy: 0.8709 - loss: 0.5057 - val_accuracy: 0.8975 - val_loss: 0.5482\n",
      "Epoch 47/70\n",
      "\u001b[1m2061/2061\u001b[0m \u001b[32m━━━━━━━━━━━━━━━━━━━━\u001b[0m\u001b[37m\u001b[0m \u001b[1m128s\u001b[0m 62ms/step - accuracy: 0.8747 - loss: 0.4914 - val_accuracy: 0.8940 - val_loss: 0.5666\n"
     ]
    }
   ],
   "source": [
    "early_stopping = EarlyStopping(monitor='val_loss', patience=12, restore_best_weights=True)\n",
    "model_checkpoint = ModelCheckpoint('best_model.keras', monitor='val_accuracy', save_best_only=True,mode='max')\n",
    "history = model.fit(X_train_pad, y_train, epochs=70, batch_size=64, validation_split=0.2, callbacks=[early_stopping, model_checkpoint])"
   ]
  },
  {
   "cell_type": "code",
   "execution_count": 30,
   "metadata": {
    "execution": {
     "iopub.execute_input": "2024-10-01T04:23:47.622310Z",
     "iopub.status.busy": "2024-10-01T04:23:47.621412Z",
     "iopub.status.idle": "2024-10-01T04:23:47.858351Z",
     "shell.execute_reply": "2024-10-01T04:23:47.857443Z",
     "shell.execute_reply.started": "2024-10-01T04:23:47.622268Z"
    },
    "trusted": true
   },
   "outputs": [
    {
     "data": {
      "image/png": "[encoded data removed]",
      "text/plain": [
       "<Figure size 640x480 with 1 Axes>"
      ]
     },
     "metadata": {},
     "output_type": "display_data"
    }
   ],
   "source": [
    "import matplotlib.pyplot as plt\n",
    "plt.plot(history.history['accuracy'],label='Train accuracy')   \n",
    "plt.plot(history.history['val_accuracy'], label='Validation accuracy')\n",
    "plt.title('Train and Validation Accuracy')\n",
    "plt.xlabel('Epochs')\n",
    "plt.ylabel('Accuracy')\n",
    "plt.legend()\n",
    "plt.show()"
   ]
  },
  {
   "cell_type": "code",
   "execution_count": 31,
   "metadata": {
    "execution": {
     "iopub.execute_input": "2024-10-01T04:24:15.543726Z",
     "iopub.status.busy": "2024-10-01T04:24:15.543312Z",
     "iopub.status.idle": "2024-10-01T04:26:59.012715Z",
     "shell.execute_reply": "2024-10-01T04:26:59.011808Z",
     "shell.execute_reply.started": "2024-10-01T04:24:15.543687Z"
    },
    "trusted": true
   },
   "outputs": [
    {
     "name": "stdout",
     "output_type": "stream",
     "text": [
      "\u001b[1m5152/5152\u001b[0m \u001b[32m━━━━━━━━━━━━━━━━━━━━\u001b[0m\u001b[37m\u001b[0m \u001b[1m103s\u001b[0m 20ms/step - accuracy: 0.9291 - loss: 0.2978\n",
      "\u001b[1m1057/1057\u001b[0m \u001b[32m━━━━━━━━━━━━━━━━━━━━\u001b[0m\u001b[37m\u001b[0m \u001b[1m21s\u001b[0m 20ms/step - accuracy: 0.8825 - loss: 0.5546\n"
     ]
    }
   ],
   "source": [
    "train_loss, train_accuracy = model.evaluate(X_train_pad, y_train)\n",
    "test_loss, test_accuracy = model.evaluate(X_test_pad, y_test)"
   ]
  },
  {
   "cell_type": "code",
   "execution_count": 32,
   "metadata": {
    "execution": {
     "iopub.execute_input": "2024-10-01T04:27:04.758299Z",
     "iopub.status.busy": "2024-10-01T04:27:04.757414Z",
     "iopub.status.idle": "2024-10-01T04:27:08.347965Z",
     "shell.execute_reply": "2024-10-01T04:27:08.347089Z",
     "shell.execute_reply.started": "2024-10-01T04:27:04.758256Z"
    },
    "trusted": true
   },
   "outputs": [],
   "source": [
    "import os \n",
    "save_dir = 'model_components'\n",
    "os.makedirs(save_dir, exist_ok=True)\n",
    "import pickle\n",
    "model.save(os.path.join(save_dir, 'best_model.keras'))\n",
    "with open(os.path.join(save_dir, 'tokenizer.pkl'), 'wb') as f:\n",
    "    pickle.dump(tokenizer, f)\n",
    "with open(os.path.join(save_dir, 'label_encoder.pkl'), 'wb') as f:\n",
    "    pickle.dump(label_encoder, f)\n",
    "with open(os.path.join(save_dir, 'max_length.pkl'), 'wb') as f:\n",
    "    pickle.dump(max_length, f)\n",
    "with open(os.path.join(save_dir, 'embedding_dim.pkl'), 'wb') as f:\n",
    "    pickle.dump(embedding_dim, f)\n",
    "with open(os.path.join(save_dir, 'embedding_matrix.pkl'), 'wb') as f:\n",
    "    pickle.dump(embedding_matrix, f)"
   ]
  },
  {
   "cell_type": "code",
   "execution_count": 3,
   "metadata": {},
   "outputs": [
    {
     "name": "stderr",
     "output_type": "stream",
     "text": [
      "2024-10-19 04:27:49.862690: I external/local_xla/xla/tsl/cuda/cudart_stub.cc:32] Could not find cuda drivers on your machine, GPU will not be used.\n",
      "2024-10-19 04:27:49.865984: I external/local_xla/xla/tsl/cuda/cudart_stub.cc:32] Could not find cuda drivers on your machine, GPU will not be used.\n",
      "2024-10-19 04:27:49.873637: E external/local_xla/xla/stream_executor/cuda/cuda_fft.cc:485] Unable to register cuFFT factory: Attempting to register factory for plugin cuFFT when one has already been registered\n",
      "2024-10-19 04:27:49.888258: E external/local_xla/xla/stream_executor/cuda/cuda_dnn.cc:8454] Unable to register cuDNN factory: Attempting to register factory for plugin cuDNN when one has already been registered\n",
      "2024-10-19 04:27:49.892362: E external/local_xla/xla/stream_executor/cuda/cuda_blas.cc:1452] Unable to register cuBLAS factory: Attempting to register factory for plugin cuBLAS when one has already been registered\n",
      "2024-10-19 04:27:49.904273: I tensorflow/core/platform/cpu_feature_guard.cc:210] This TensorFlow binary is optimized to use available CPU instructions in performance-critical operations.\n",
      "To enable the following instructions: AVX2 FMA, in other operations, rebuild TensorFlow with the appropriate compiler flags.\n",
      "2024-10-19 04:27:51.285253: W tensorflow/compiler/tf2tensorrt/utils/py_utils.cc:38] TF-TRT Warning: Could not find TensorRT\n",
      "/home/codespace/.local/lib/python3.12/site-packages/sklearn/base.py:376: InconsistentVersionWarning: Trying to unpickle estimator LabelEncoder from version 1.2.2 when using version 1.5.2. This might lead to breaking code or invalid results. Use at your own risk. For more info please refer to:\n",
      "https://scikit-learn.org/stable/model_persistence.html#security-maintainability-limitations\n",
      "  warnings.warn(\n"
     ]
    }
   ],
   "source": [
    "import os\n",
    "import pickle\n",
    "from keras.models import load_model\n",
    "\n",
    "save_dir = 'model_components'\n",
    "\n",
    "# Load the tokenizer\n",
    "with open(os.path.join(save_dir, 'tokenizer.pkl'), 'rb') as f:\n",
    "    tokenizer = pickle.load(f)\n",
    "\n",
    "# Load the label encoder\n",
    "with open(os.path.join(save_dir, 'label_encoder.pkl'), 'rb') as f:\n",
    "    label_encoder = pickle.load(f)\n",
    "\n",
    "# Load max_length\n",
    "with open(os.path.join(save_dir, 'max_length.pkl'), 'rb') as f:\n",
    "    max_length = pickle.load(f)\n",
    "\n",
    "with open(os.path.join(save_dir, 'stop_words.pkl'), 'rb') as f:\n",
    "    stop_words = pickle.load(f)"
   ]
  },
  {
   "cell_type": "code",
   "execution_count": 4,
   "metadata": {},
   "outputs": [
    {
     "name": "stderr",
     "output_type": "stream",
     "text": [
      "/home/codespace/.python/current/lib/python3.12/site-packages/tqdm/auto.py:21: TqdmWarning: IProgress not found. Please update jupyter and ipywidgets. See https://ipywidgets.readthedocs.io/en/stable/user_install.html\n",
      "  from .autonotebook import tqdm as notebook_tqdm\n"
     ]
    }
   ],
   "source": [
    "from transformers import AutoModel, AutoTokenizer"
   ]
  },
  {
   "cell_type": "code",
   "execution_count": 8,
   "metadata": {},
   "outputs": [
    {
     "name": "stdout",
     "output_type": "stream",
     "text": [
      "0.26.0\n"
     ]
    }
   ],
   "source": [
    "import huggingface_hub\n",
    "print(huggingface_hub.__version__)"
   ]
  },
  {
   "cell_type": "code",
   "execution_count": 10,
   "metadata": {},
   "outputs": [
    {
     "name": "stderr",
     "output_type": "stream",
     "text": [
      "Fetching 3 files: 100%|██████████| 3/3 [00:00<00:00, 94.63it/s]\n"
     ]
    },
    {
     "ename": "FileNotFoundError",
     "evalue": "[Errno 2] No such file or directory: '/home/codespace/.cache/huggingface/hub/models--bainskarman--WikiClassification/snapshots/47916e307819a0e9ef5b7948b3e34c50d4b4844b/config.json'",
     "output_type": "error",
     "traceback": [
      "\u001b[0;31m---------------------------------------------------------------------------\u001b[0m",
      "\u001b[0;31mFileNotFoundError\u001b[0m                         Traceback (most recent call last)",
      "Cell \u001b[0;32mIn[10], line 5\u001b[0m\n\u001b[1;32m      3\u001b[0m \u001b[38;5;28;01mimport\u001b[39;00m \u001b[38;5;21;01mhuggingface_hub\u001b[39;00m\n\u001b[1;32m      4\u001b[0m os\u001b[38;5;241m.\u001b[39menviron[\u001b[38;5;124m\"\u001b[39m\u001b[38;5;124mKERAS_BACKEND\u001b[39m\u001b[38;5;124m\"\u001b[39m] \u001b[38;5;241m=\u001b[39m \u001b[38;5;124m\"\u001b[39m\u001b[38;5;124mtensorflow\u001b[39m\u001b[38;5;124m\"\u001b[39m\n\u001b[0;32m----> 5\u001b[0m model \u001b[38;5;241m=\u001b[39m \u001b[43mkeras\u001b[49m\u001b[38;5;241;43m.\u001b[39;49m\u001b[43msaving\u001b[49m\u001b[38;5;241;43m.\u001b[39;49m\u001b[43mload_model\u001b[49m\u001b[43m(\u001b[49m\u001b[38;5;124;43m\"\u001b[39;49m\u001b[38;5;124;43mhf://bainskarman/WikiClassification\u001b[39;49m\u001b[38;5;124;43m\"\u001b[39;49m\u001b[43m)\u001b[49m\n",
      "File \u001b[0;32m~/.python/current/lib/python3.12/site-packages/keras/src/saving/saving_api.py:189\u001b[0m, in \u001b[0;36mload_model\u001b[0;34m(filepath, custom_objects, compile, safe_mode)\u001b[0m\n\u001b[1;32m    186\u001b[0m         is_keras_zip \u001b[38;5;241m=\u001b[39m \u001b[38;5;28;01mTrue\u001b[39;00m\n\u001b[1;32m    188\u001b[0m \u001b[38;5;28;01mif\u001b[39;00m is_keras_zip \u001b[38;5;129;01mor\u001b[39;00m is_keras_dir \u001b[38;5;129;01mor\u001b[39;00m is_hf:\n\u001b[0;32m--> 189\u001b[0m     \u001b[38;5;28;01mreturn\u001b[39;00m \u001b[43msaving_lib\u001b[49m\u001b[38;5;241;43m.\u001b[39;49m\u001b[43mload_model\u001b[49m\u001b[43m(\u001b[49m\n\u001b[1;32m    190\u001b[0m \u001b[43m        \u001b[49m\u001b[43mfilepath\u001b[49m\u001b[43m,\u001b[49m\n\u001b[1;32m    191\u001b[0m \u001b[43m        \u001b[49m\u001b[43mcustom_objects\u001b[49m\u001b[38;5;241;43m=\u001b[39;49m\u001b[43mcustom_objects\u001b[49m\u001b[43m,\u001b[49m\n\u001b[1;32m    192\u001b[0m \u001b[43m        \u001b[49m\u001b[38;5;28;43mcompile\u001b[39;49m\u001b[38;5;241;43m=\u001b[39;49m\u001b[38;5;28;43mcompile\u001b[39;49m\u001b[43m,\u001b[49m\n\u001b[1;32m    193\u001b[0m \u001b[43m        \u001b[49m\u001b[43msafe_mode\u001b[49m\u001b[38;5;241;43m=\u001b[39;49m\u001b[43msafe_mode\u001b[49m\u001b[43m,\u001b[49m\n\u001b[1;32m    194\u001b[0m \u001b[43m    \u001b[49m\u001b[43m)\u001b[49m\n\u001b[1;32m    195\u001b[0m \u001b[38;5;28;01mif\u001b[39;00m \u001b[38;5;28mstr\u001b[39m(filepath)\u001b[38;5;241m.\u001b[39mendswith((\u001b[38;5;124m\"\u001b[39m\u001b[38;5;124m.h5\u001b[39m\u001b[38;5;124m\"\u001b[39m, \u001b[38;5;124m\"\u001b[39m\u001b[38;5;124m.hdf5\u001b[39m\u001b[38;5;124m\"\u001b[39m)):\n\u001b[1;32m    196\u001b[0m     \u001b[38;5;28;01mreturn\u001b[39;00m legacy_h5_format\u001b[38;5;241m.\u001b[39mload_model_from_hdf5(\n\u001b[1;32m    197\u001b[0m         filepath, custom_objects\u001b[38;5;241m=\u001b[39mcustom_objects, \u001b[38;5;28mcompile\u001b[39m\u001b[38;5;241m=\u001b[39m\u001b[38;5;28mcompile\u001b[39m\n\u001b[1;32m    198\u001b[0m     )\n",
      "File \u001b[0;32m~/.python/current/lib/python3.12/site-packages/keras/src/saving/saving_lib.py:347\u001b[0m, in \u001b[0;36mload_model\u001b[0;34m(filepath, custom_objects, compile, safe_mode)\u001b[0m\n\u001b[1;32m    341\u001b[0m     repo_id \u001b[38;5;241m=\u001b[39m filepath[\u001b[38;5;241m5\u001b[39m:]\n\u001b[1;32m    342\u001b[0m     folder_path \u001b[38;5;241m=\u001b[39m huggingface_hub\u001b[38;5;241m.\u001b[39msnapshot_download(\n\u001b[1;32m    343\u001b[0m         repo_id\u001b[38;5;241m=\u001b[39mrepo_id,\n\u001b[1;32m    344\u001b[0m         library_name\u001b[38;5;241m=\u001b[39m\u001b[38;5;124m\"\u001b[39m\u001b[38;5;124mkeras\u001b[39m\u001b[38;5;124m\"\u001b[39m,\n\u001b[1;32m    345\u001b[0m         library_version\u001b[38;5;241m=\u001b[39mkeras_version,\n\u001b[1;32m    346\u001b[0m     )\n\u001b[0;32m--> 347\u001b[0m     \u001b[38;5;28;01mreturn\u001b[39;00m \u001b[43m_load_model_from_dir\u001b[49m\u001b[43m(\u001b[49m\n\u001b[1;32m    348\u001b[0m \u001b[43m        \u001b[49m\u001b[43mfolder_path\u001b[49m\u001b[43m,\u001b[49m\u001b[43m \u001b[49m\u001b[43mcustom_objects\u001b[49m\u001b[43m,\u001b[49m\u001b[43m \u001b[49m\u001b[38;5;28;43mcompile\u001b[39;49m\u001b[43m,\u001b[49m\u001b[43m \u001b[49m\u001b[43msafe_mode\u001b[49m\n\u001b[1;32m    349\u001b[0m \u001b[43m    \u001b[49m\u001b[43m)\u001b[49m\n\u001b[1;32m    350\u001b[0m \u001b[38;5;28;01melse\u001b[39;00m:\n\u001b[1;32m    351\u001b[0m     filepath \u001b[38;5;241m=\u001b[39m \u001b[38;5;28mstr\u001b[39m(filepath)\n",
      "File \u001b[0;32m~/.python/current/lib/python3.12/site-packages/keras/src/saving/saving_lib.py:376\u001b[0m, in \u001b[0;36m_load_model_from_dir\u001b[0;34m(dirpath, custom_objects, compile, safe_mode)\u001b[0m\n\u001b[1;32m    373\u001b[0m \u001b[38;5;28;01mif\u001b[39;00m \u001b[38;5;129;01mnot\u001b[39;00m file_utils\u001b[38;5;241m.\u001b[39misdir(dirpath):\n\u001b[1;32m    374\u001b[0m     \u001b[38;5;28;01mraise\u001b[39;00m \u001b[38;5;167;01mValueError\u001b[39;00m(\u001b[38;5;124mf\u001b[39m\u001b[38;5;124m\"\u001b[39m\u001b[38;5;124mPath isn\u001b[39m\u001b[38;5;124m'\u001b[39m\u001b[38;5;124mt a directory: \u001b[39m\u001b[38;5;132;01m{\u001b[39;00mdirpath\u001b[38;5;132;01m}\u001b[39;00m\u001b[38;5;124m\"\u001b[39m)\n\u001b[0;32m--> 376\u001b[0m \u001b[38;5;28;01mwith\u001b[39;00m \u001b[38;5;28;43mopen\u001b[39;49m\u001b[43m(\u001b[49m\u001b[43mfile_utils\u001b[49m\u001b[38;5;241;43m.\u001b[39;49m\u001b[43mjoin\u001b[49m\u001b[43m(\u001b[49m\u001b[43mdirpath\u001b[49m\u001b[43m,\u001b[49m\u001b[43m \u001b[49m\u001b[43m_CONFIG_FILENAME\u001b[49m\u001b[43m)\u001b[49m\u001b[43m,\u001b[49m\u001b[43m \u001b[49m\u001b[38;5;124;43m\"\u001b[39;49m\u001b[38;5;124;43mr\u001b[39;49m\u001b[38;5;124;43m\"\u001b[39;49m\u001b[43m)\u001b[49m \u001b[38;5;28;01mas\u001b[39;00m f:\n\u001b[1;32m    377\u001b[0m     config_json \u001b[38;5;241m=\u001b[39m f\u001b[38;5;241m.\u001b[39mread()\n\u001b[1;32m    378\u001b[0m model \u001b[38;5;241m=\u001b[39m _model_from_config(config_json, custom_objects, \u001b[38;5;28mcompile\u001b[39m, safe_mode)\n",
      "\u001b[0;31mFileNotFoundError\u001b[0m: [Errno 2] No such file or directory: '/home/codespace/.cache/huggingface/hub/models--bainskarman--WikiClassification/snapshots/47916e307819a0e9ef5b7948b3e34c50d4b4844b/config.json'"
     ]
    }
   ],
   "source": [
    "import os\n",
    "import keras\n",
    "import huggingface_hub\n",
    "os.environ[\"KERAS_BACKEND\"] = \"tensorflow\"\n",
    "model = keras.saving.load_model(\"hf://bainskarman/WikiClassification\")"
   ]
  },
  {
   "cell_type": "code",
   "execution_count": 2,
   "metadata": {},
   "outputs": [],
   "source": [
    "lemmatizer = WordNetLemmatizer()\n",
    "def preprocess_text(text):\n",
    "    text = str(text)\n",
    "    text = text.lower()\n",
    "    text = re.sub(r'[^a-z\\s]', '', text)\n",
    "    words = text.split()\n",
    "    st_words = stop_words\n",
    "    words = [word for word in words if word not in stop_words]\n",
    "    words = [lemmatizer.lemmatize(word) for word in words]\n",
    "    text = ' '.join(words)\n",
    "    return text\n",
    "def classify_text(text):\n",
    "    text = preprocess_text(text)\n",
    "    seq = tokenizer.texts_to_sequences([text])\n",
    "    padded_seq = np.pad(seq, ((0, 0), (0, max_length - len(seq[0]))), mode='constant')\n",
    "\n",
    "    prediction = model.predict(padded_seq)\n",
    "    predicted_label_index = np.argmax(prediction, axis=1)[0]\n",
    "    predicted_label = label_encoder.inverse_transform([predicted_label_index])[0]\n",
    "    categories = predicted_label.split('|')\n",
    "    \n",
    "    if len(categories) == 3:\n",
    "        main_category = categories[0]\n",
    "        sub_category = categories[1]\n",
    "        lowest_category = categories[2]\n",
    "    else:\n",
    "        main_category = \"Unknown\"\n",
    "        sub_category = \"Unknown\"\n",
    "        lowest_category = \"Unknown\"\n",
    "    print(f\"Main Category: {main_category}, Sub Category: {sub_category}, Lowest Category: {lowest_category}\")"
   ]
  },
  {
   "cell_type": "code",
   "execution_count": 13,
   "metadata": {},
   "outputs": [
    {
     "name": "stderr",
     "output_type": "stream",
     "text": [
      "/home/codespace/.local/lib/python3.12/site-packages/sklearn/base.py:376: InconsistentVersionWarning: Trying to unpickle estimator LabelEncoder from version 1.2.2 when using version 1.5.2. This might lead to breaking code or invalid results. Use at your own risk. For more info please refer to:\n",
      "https://scikit-learn.org/stable/model_persistence.html#security-maintainability-limitations\n",
      "  warnings.warn(\n"
     ]
    }
   ],
   "source": [
    "import streamlit as st\n",
    "import pickle\n",
    "import numpy as np\n",
    "import os\n",
    "from tensorflow.keras.models import load_model\n",
    "import numpy as np\n",
    "import pandas as pd\n",
    "import re\n",
    "import nltk\n",
    "from nltk.stem import WordNetLemmatizer\n",
    "from nltk.tokenize import word_tokenize\n",
    "import matplotlib.pyplot as plt\n",
    "import seaborn as sns\n",
    "\n",
    "save_dir = 'model_components'\n",
    "\n",
    "# Load the tokenizer\n",
    "with open(os.path.join(save_dir, 'tokenizer.pkl'), 'rb') as f:\n",
    "    tokenizer = pickle.load(f)\n",
    "\n",
    "# Load the label encoder\n",
    "with open(os.path.join(save_dir, 'label_encoder.pkl'), 'rb') as f:\n",
    "    label_encoder = pickle.load(f)\n",
    "\n",
    "# Load max_length\n",
    "with open(os.path.join(save_dir, 'max_length.pkl'), 'rb') as f:\n",
    "    max_length = pickle.load(f)\n",
    "\n",
    "with open(os.path.join(save_dir, 'stop_words.pkl'), 'rb') as f:\n",
    "    stop_words = pickle.load(f)\n",
    "lemmatizer = WordNetLemmatizer()"
   ]
  },
  {
   "cell_type": "code",
   "execution_count": null,
   "metadata": {},
   "outputs": [],
   "source": []
  }
 ],
 "metadata": {
  "kaggle": {
   "accelerator": "gpu",
   "dataSources": [
    {
     "datasetId": 254267,
     "sourceId": 534371,
     "sourceType": "datasetVersion"
    },
    {
     "isSourceIdPinned": true,
     "sourceId": 124397,
     "sourceType": "modelInstanceVersion"
    }
   ],
   "dockerImageVersionId": 30776,
   "isGpuEnabled": true,
   "isInternetEnabled": true,
   "language": "python",
   "sourceType": "notebook"
  },
  "kernelspec": {
   "display_name": "Python 3",
   "language": "python",
   "name": "python3"
  },
  "language_info": {
   "codemirror_mode": {
    "name": "ipython",
    "version": 3
   },
   "file_extension": ".py",
   "mimetype": "text/x-python",
   "name": "python",
   "nbconvert_exporter": "python",
   "pygments_lexer": "ipython3",
   "version": "3.10.14"
  }
 },
 "nbformat": 4,
 "nbformat_minor": 4
}
